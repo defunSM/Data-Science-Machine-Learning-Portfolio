{
 "cells": [
  {
   "cell_type": "markdown",
   "metadata": {},
   "source": [
    "# ML Pipeline Preparation\n",
    "Follow the instructions below to help you create your ML pipeline.\n",
    "### 1. Import libraries and load data from database.\n",
    "- Import Python libraries\n",
    "- Load dataset from database with [`read_sql_table`](https://pandas.pydata.org/pandas-docs/stable/generated/pandas.read_sql_table.html)\n",
    "- Define feature and target variables X and Y"
   ]
  },
  {
   "cell_type": "code",
   "execution_count": 37,
   "metadata": {},
   "outputs": [],
   "source": [
    "# import libraries\n",
    "import numpy as np\n",
    "import pandas as pd\n",
    "import sys\n",
    "from sqlalchemy import create_engine\n",
    "import nltk\n",
    "\n",
    "from nltk.stem import WordNetLemmatizer\n",
    "from nltk.tokenize import word_tokenize\n",
    "from sklearn.feature_extraction.text import TfidfVectorizer\n",
    "from sklearn.feature_extraction.text import CountVectorizer\n",
    "from sklearn.feature_extraction.text import TfidfTransformer\n",
    "from sklearn.pipeline import Pipeline\n",
    "from sklearn.base import BaseEstimator, TransformerMixin\n",
    "\n",
    "from sklearn.multioutput import MultiOutputClassifier\n",
    "from sklearn.model_selection import train_test_split\n",
    "from sklearn.metrics import confusion_matrix, accuracy_score, classification_report\n",
    "\n",
    "from sklearn.neighbors import KNeighborsClassifier"
   ]
  },
  {
   "cell_type": "code",
   "execution_count": 38,
   "metadata": {},
   "outputs": [
    {
     "name": "stdout",
     "output_type": "stream",
     "text": [
      "0    Weather update - a cold front from Cuba that c...\n",
      "1              Is the Hurricane over or is it not over\n",
      "2                      Looking for someone but no name\n",
      "3    UN reports Leogane 80-90 destroyed. Only Hospi...\n",
      "4    says: west side of Haiti, rest of the country ...\n",
      "Name: message, dtype: object\n"
     ]
    }
   ],
   "source": [
    "# load data from database\n",
    "engine = create_engine('sqlite:///disaster.db')\n",
    "df = pd.read_sql_table('disaster', engine)\n",
    "X = df.iloc[:,1]\n",
    "Y = df.iloc[:,4:]\n",
    "\n",
    "print(X.head())"
   ]
  },
  {
   "cell_type": "markdown",
   "metadata": {},
   "source": [
    "### 2. Write a tokenization function to process your text data"
   ]
  },
  {
   "cell_type": "code",
   "execution_count": 39,
   "metadata": {},
   "outputs": [
    {
     "name": "stderr",
     "output_type": "stream",
     "text": [
      "[nltk_data] Downloading package punkt to /home/salman1567/nltk_data...\n",
      "[nltk_data]   Package punkt is already up-to-date!\n",
      "[nltk_data] Downloading package wordnet to\n",
      "[nltk_data]     /home/salman1567/nltk_data...\n",
      "[nltk_data]   Package wordnet is already up-to-date!\n",
      "[nltk_data] Downloading package omw-1.4 to\n",
      "[nltk_data]     /home/salman1567/nltk_data...\n",
      "[nltk_data]   Package omw-1.4 is already up-to-date!\n"
     ]
    },
    {
     "data": {
      "text/plain": [
       "0    [weather, update, -, a, cold, front, from, cub...\n",
       "1    [is, the, hurricane, over, or, is, it, not, over]\n",
       "2               [looking, for, someone, but, no, name]\n",
       "3    [un, report, leogane, 80-90, destroyed, ., onl...\n",
       "4    [say, :, west, side, of, haiti, ,, rest, of, t...\n",
       "Name: message, dtype: object"
      ]
     },
     "execution_count": 39,
     "metadata": {},
     "output_type": "execute_result"
    }
   ],
   "source": [
    "class TokenTransformer(BaseEstimator, TransformerMixin):\n",
    "\n",
    "def tokenize(text):\n",
    "    tokens = word_tokenize(text)\n",
    "    lemmatizer = WordNetLemmatizer()\n",
    "\n",
    "    clean_tokens = []\n",
    "    for tok in tokens:\n",
    "        clean_tok = lemmatizer.lemmatize(tok).lower().strip()\n",
    "        clean_tokens.append(clean_tok)\n",
    "\n",
    "    return clean_tokens\n",
    "\n",
    "nltk.download('punkt')\n",
    "nltk.download('wordnet')\n",
    "nltk.download('omw-1.4')\n",
    "\n",
    "X = X.apply(tokenize)\n",
    "X.head()"
   ]
  },
  {
   "cell_type": "markdown",
   "metadata": {},
   "source": [
    "### 3. Build a machine learning pipeline\n",
    "This machine pipeline should take in the `message` column as input and output classification results on the other 36 categories in the dataset. You may find the [MultiOutputClassifier](http://scikit-learn.org/stable/modules/generated/sklearn.multioutput.MultiOutputClassifier.html) helpful for predicting multiple target variables."
   ]
  },
  {
   "cell_type": "code",
   "execution_count": 40,
   "metadata": {},
   "outputs": [],
   "source": [
    "# Try other estimators to see if performance is better\n",
    "pipeline = Pipeline([\n",
    "    ('tokenize', tokenize())\n",
    "    ('count-vector', CountVectorizer()),\n",
    "    ('tf-idf', TfidfTransformer()),\n",
    "    #('tf-idf', TfidfVectorizer),\n",
    "    ('clf', MultiOutputClassifier(KNeighborsClassifier()))\n",
    "])"
   ]
  },
  {
   "cell_type": "markdown",
   "metadata": {},
   "source": [
    "### 4. Train pipeline\n",
    "- Split data into train and test sets\n",
    "- Train pipeline"
   ]
  },
  {
   "cell_type": "code",
   "execution_count": 41,
   "metadata": {},
   "outputs": [
    {
     "ename": "AttributeError",
     "evalue": "'list' object has no attribute 'lower'",
     "output_type": "error",
     "traceback": [
      "\u001b[0;31m---------------------------------------------------------------------------\u001b[0m",
      "\u001b[0;31mAttributeError\u001b[0m                            Traceback (most recent call last)",
      "\u001b[1;32m/home/salman1567/code/Data Science - Machine Learning Projects/Data Science Portfolio/Diasaster Response Classification/ML Pipeline Preparation.ipynb Cell 9'\u001b[0m in \u001b[0;36m<cell line: 2>\u001b[0;34m()\u001b[0m\n\u001b[1;32m      <a href='vscode-notebook-cell:/home/salman1567/code/Data%20Science%20-%20Machine%20Learning%20Projects/Data%20Science%20Portfolio/Diasaster%20Response%20Classification/ML%20Pipeline%20Preparation.ipynb#ch0000008?line=0'>1</a>\u001b[0m X_train, X_test, y_train, y_test \u001b[39m=\u001b[39m train_test_split(X, Y, test_size\u001b[39m=\u001b[39m\u001b[39m0.33\u001b[39m, random_state\u001b[39m=\u001b[39m\u001b[39m42\u001b[39m)\n\u001b[0;32m----> <a href='vscode-notebook-cell:/home/salman1567/code/Data%20Science%20-%20Machine%20Learning%20Projects/Data%20Science%20Portfolio/Diasaster%20Response%20Classification/ML%20Pipeline%20Preparation.ipynb#ch0000008?line=1'>2</a>\u001b[0m pipeline\u001b[39m.\u001b[39;49mfit(X_train, y_train)\n",
      "File \u001b[0;32m~/code/Data Science - Machine Learning Projects/Data Science Portfolio/Diasaster Response Classification/env/lib/python3.10/site-packages/sklearn/pipeline.py:390\u001b[0m, in \u001b[0;36mPipeline.fit\u001b[0;34m(self, X, y, **fit_params)\u001b[0m\n\u001b[1;32m    <a href='file:///home/salman1567/code/Data%20Science%20-%20Machine%20Learning%20Projects/Data%20Science%20Portfolio/Diasaster%20Response%20Classification/env/lib/python3.10/site-packages/sklearn/pipeline.py?line=363'>364</a>\u001b[0m \u001b[39m\"\"\"Fit the model.\u001b[39;00m\n\u001b[1;32m    <a href='file:///home/salman1567/code/Data%20Science%20-%20Machine%20Learning%20Projects/Data%20Science%20Portfolio/Diasaster%20Response%20Classification/env/lib/python3.10/site-packages/sklearn/pipeline.py?line=364'>365</a>\u001b[0m \n\u001b[1;32m    <a href='file:///home/salman1567/code/Data%20Science%20-%20Machine%20Learning%20Projects/Data%20Science%20Portfolio/Diasaster%20Response%20Classification/env/lib/python3.10/site-packages/sklearn/pipeline.py?line=365'>366</a>\u001b[0m \u001b[39mFit all the transformers one after the other and transform the\u001b[39;00m\n\u001b[0;32m   (...)\u001b[0m\n\u001b[1;32m    <a href='file:///home/salman1567/code/Data%20Science%20-%20Machine%20Learning%20Projects/Data%20Science%20Portfolio/Diasaster%20Response%20Classification/env/lib/python3.10/site-packages/sklearn/pipeline.py?line=386'>387</a>\u001b[0m \u001b[39m    Pipeline with fitted steps.\u001b[39;00m\n\u001b[1;32m    <a href='file:///home/salman1567/code/Data%20Science%20-%20Machine%20Learning%20Projects/Data%20Science%20Portfolio/Diasaster%20Response%20Classification/env/lib/python3.10/site-packages/sklearn/pipeline.py?line=387'>388</a>\u001b[0m \u001b[39m\"\"\"\u001b[39;00m\n\u001b[1;32m    <a href='file:///home/salman1567/code/Data%20Science%20-%20Machine%20Learning%20Projects/Data%20Science%20Portfolio/Diasaster%20Response%20Classification/env/lib/python3.10/site-packages/sklearn/pipeline.py?line=388'>389</a>\u001b[0m fit_params_steps \u001b[39m=\u001b[39m \u001b[39mself\u001b[39m\u001b[39m.\u001b[39m_check_fit_params(\u001b[39m*\u001b[39m\u001b[39m*\u001b[39mfit_params)\n\u001b[0;32m--> <a href='file:///home/salman1567/code/Data%20Science%20-%20Machine%20Learning%20Projects/Data%20Science%20Portfolio/Diasaster%20Response%20Classification/env/lib/python3.10/site-packages/sklearn/pipeline.py?line=389'>390</a>\u001b[0m Xt \u001b[39m=\u001b[39m \u001b[39mself\u001b[39;49m\u001b[39m.\u001b[39;49m_fit(X, y, \u001b[39m*\u001b[39;49m\u001b[39m*\u001b[39;49mfit_params_steps)\n\u001b[1;32m    <a href='file:///home/salman1567/code/Data%20Science%20-%20Machine%20Learning%20Projects/Data%20Science%20Portfolio/Diasaster%20Response%20Classification/env/lib/python3.10/site-packages/sklearn/pipeline.py?line=390'>391</a>\u001b[0m \u001b[39mwith\u001b[39;00m _print_elapsed_time(\u001b[39m\"\u001b[39m\u001b[39mPipeline\u001b[39m\u001b[39m\"\u001b[39m, \u001b[39mself\u001b[39m\u001b[39m.\u001b[39m_log_message(\u001b[39mlen\u001b[39m(\u001b[39mself\u001b[39m\u001b[39m.\u001b[39msteps) \u001b[39m-\u001b[39m \u001b[39m1\u001b[39m)):\n\u001b[1;32m    <a href='file:///home/salman1567/code/Data%20Science%20-%20Machine%20Learning%20Projects/Data%20Science%20Portfolio/Diasaster%20Response%20Classification/env/lib/python3.10/site-packages/sklearn/pipeline.py?line=391'>392</a>\u001b[0m     \u001b[39mif\u001b[39;00m \u001b[39mself\u001b[39m\u001b[39m.\u001b[39m_final_estimator \u001b[39m!=\u001b[39m \u001b[39m\"\u001b[39m\u001b[39mpassthrough\u001b[39m\u001b[39m\"\u001b[39m:\n",
      "File \u001b[0;32m~/code/Data Science - Machine Learning Projects/Data Science Portfolio/Diasaster Response Classification/env/lib/python3.10/site-packages/sklearn/pipeline.py:348\u001b[0m, in \u001b[0;36mPipeline._fit\u001b[0;34m(self, X, y, **fit_params_steps)\u001b[0m\n\u001b[1;32m    <a href='file:///home/salman1567/code/Data%20Science%20-%20Machine%20Learning%20Projects/Data%20Science%20Portfolio/Diasaster%20Response%20Classification/env/lib/python3.10/site-packages/sklearn/pipeline.py?line=345'>346</a>\u001b[0m     cloned_transformer \u001b[39m=\u001b[39m clone(transformer)\n\u001b[1;32m    <a href='file:///home/salman1567/code/Data%20Science%20-%20Machine%20Learning%20Projects/Data%20Science%20Portfolio/Diasaster%20Response%20Classification/env/lib/python3.10/site-packages/sklearn/pipeline.py?line=346'>347</a>\u001b[0m \u001b[39m# Fit or load from cache the current transformer\u001b[39;00m\n\u001b[0;32m--> <a href='file:///home/salman1567/code/Data%20Science%20-%20Machine%20Learning%20Projects/Data%20Science%20Portfolio/Diasaster%20Response%20Classification/env/lib/python3.10/site-packages/sklearn/pipeline.py?line=347'>348</a>\u001b[0m X, fitted_transformer \u001b[39m=\u001b[39m fit_transform_one_cached(\n\u001b[1;32m    <a href='file:///home/salman1567/code/Data%20Science%20-%20Machine%20Learning%20Projects/Data%20Science%20Portfolio/Diasaster%20Response%20Classification/env/lib/python3.10/site-packages/sklearn/pipeline.py?line=348'>349</a>\u001b[0m     cloned_transformer,\n\u001b[1;32m    <a href='file:///home/salman1567/code/Data%20Science%20-%20Machine%20Learning%20Projects/Data%20Science%20Portfolio/Diasaster%20Response%20Classification/env/lib/python3.10/site-packages/sklearn/pipeline.py?line=349'>350</a>\u001b[0m     X,\n\u001b[1;32m    <a href='file:///home/salman1567/code/Data%20Science%20-%20Machine%20Learning%20Projects/Data%20Science%20Portfolio/Diasaster%20Response%20Classification/env/lib/python3.10/site-packages/sklearn/pipeline.py?line=350'>351</a>\u001b[0m     y,\n\u001b[1;32m    <a href='file:///home/salman1567/code/Data%20Science%20-%20Machine%20Learning%20Projects/Data%20Science%20Portfolio/Diasaster%20Response%20Classification/env/lib/python3.10/site-packages/sklearn/pipeline.py?line=351'>352</a>\u001b[0m     \u001b[39mNone\u001b[39;49;00m,\n\u001b[1;32m    <a href='file:///home/salman1567/code/Data%20Science%20-%20Machine%20Learning%20Projects/Data%20Science%20Portfolio/Diasaster%20Response%20Classification/env/lib/python3.10/site-packages/sklearn/pipeline.py?line=352'>353</a>\u001b[0m     message_clsname\u001b[39m=\u001b[39;49m\u001b[39m\"\u001b[39;49m\u001b[39mPipeline\u001b[39;49m\u001b[39m\"\u001b[39;49m,\n\u001b[1;32m    <a href='file:///home/salman1567/code/Data%20Science%20-%20Machine%20Learning%20Projects/Data%20Science%20Portfolio/Diasaster%20Response%20Classification/env/lib/python3.10/site-packages/sklearn/pipeline.py?line=353'>354</a>\u001b[0m     message\u001b[39m=\u001b[39;49m\u001b[39mself\u001b[39;49m\u001b[39m.\u001b[39;49m_log_message(step_idx),\n\u001b[1;32m    <a href='file:///home/salman1567/code/Data%20Science%20-%20Machine%20Learning%20Projects/Data%20Science%20Portfolio/Diasaster%20Response%20Classification/env/lib/python3.10/site-packages/sklearn/pipeline.py?line=354'>355</a>\u001b[0m     \u001b[39m*\u001b[39;49m\u001b[39m*\u001b[39;49mfit_params_steps[name],\n\u001b[1;32m    <a href='file:///home/salman1567/code/Data%20Science%20-%20Machine%20Learning%20Projects/Data%20Science%20Portfolio/Diasaster%20Response%20Classification/env/lib/python3.10/site-packages/sklearn/pipeline.py?line=355'>356</a>\u001b[0m )\n\u001b[1;32m    <a href='file:///home/salman1567/code/Data%20Science%20-%20Machine%20Learning%20Projects/Data%20Science%20Portfolio/Diasaster%20Response%20Classification/env/lib/python3.10/site-packages/sklearn/pipeline.py?line=356'>357</a>\u001b[0m \u001b[39m# Replace the transformer of the step with the fitted\u001b[39;00m\n\u001b[1;32m    <a href='file:///home/salman1567/code/Data%20Science%20-%20Machine%20Learning%20Projects/Data%20Science%20Portfolio/Diasaster%20Response%20Classification/env/lib/python3.10/site-packages/sklearn/pipeline.py?line=357'>358</a>\u001b[0m \u001b[39m# transformer. This is necessary when loading the transformer\u001b[39;00m\n\u001b[1;32m    <a href='file:///home/salman1567/code/Data%20Science%20-%20Machine%20Learning%20Projects/Data%20Science%20Portfolio/Diasaster%20Response%20Classification/env/lib/python3.10/site-packages/sklearn/pipeline.py?line=358'>359</a>\u001b[0m \u001b[39m# from the cache.\u001b[39;00m\n\u001b[1;32m    <a href='file:///home/salman1567/code/Data%20Science%20-%20Machine%20Learning%20Projects/Data%20Science%20Portfolio/Diasaster%20Response%20Classification/env/lib/python3.10/site-packages/sklearn/pipeline.py?line=359'>360</a>\u001b[0m \u001b[39mself\u001b[39m\u001b[39m.\u001b[39msteps[step_idx] \u001b[39m=\u001b[39m (name, fitted_transformer)\n",
      "File \u001b[0;32m~/code/Data Science - Machine Learning Projects/Data Science Portfolio/Diasaster Response Classification/env/lib/python3.10/site-packages/joblib/memory.py:349\u001b[0m, in \u001b[0;36mNotMemorizedFunc.__call__\u001b[0;34m(self, *args, **kwargs)\u001b[0m\n\u001b[1;32m    <a href='file:///home/salman1567/code/Data%20Science%20-%20Machine%20Learning%20Projects/Data%20Science%20Portfolio/Diasaster%20Response%20Classification/env/lib/python3.10/site-packages/joblib/memory.py?line=347'>348</a>\u001b[0m \u001b[39mdef\u001b[39;00m \u001b[39m__call__\u001b[39m(\u001b[39mself\u001b[39m, \u001b[39m*\u001b[39margs, \u001b[39m*\u001b[39m\u001b[39m*\u001b[39mkwargs):\n\u001b[0;32m--> <a href='file:///home/salman1567/code/Data%20Science%20-%20Machine%20Learning%20Projects/Data%20Science%20Portfolio/Diasaster%20Response%20Classification/env/lib/python3.10/site-packages/joblib/memory.py?line=348'>349</a>\u001b[0m     \u001b[39mreturn\u001b[39;00m \u001b[39mself\u001b[39;49m\u001b[39m.\u001b[39;49mfunc(\u001b[39m*\u001b[39;49margs, \u001b[39m*\u001b[39;49m\u001b[39m*\u001b[39;49mkwargs)\n",
      "File \u001b[0;32m~/code/Data Science - Machine Learning Projects/Data Science Portfolio/Diasaster Response Classification/env/lib/python3.10/site-packages/sklearn/pipeline.py:893\u001b[0m, in \u001b[0;36m_fit_transform_one\u001b[0;34m(transformer, X, y, weight, message_clsname, message, **fit_params)\u001b[0m\n\u001b[1;32m    <a href='file:///home/salman1567/code/Data%20Science%20-%20Machine%20Learning%20Projects/Data%20Science%20Portfolio/Diasaster%20Response%20Classification/env/lib/python3.10/site-packages/sklearn/pipeline.py?line=890'>891</a>\u001b[0m \u001b[39mwith\u001b[39;00m _print_elapsed_time(message_clsname, message):\n\u001b[1;32m    <a href='file:///home/salman1567/code/Data%20Science%20-%20Machine%20Learning%20Projects/Data%20Science%20Portfolio/Diasaster%20Response%20Classification/env/lib/python3.10/site-packages/sklearn/pipeline.py?line=891'>892</a>\u001b[0m     \u001b[39mif\u001b[39;00m \u001b[39mhasattr\u001b[39m(transformer, \u001b[39m\"\u001b[39m\u001b[39mfit_transform\u001b[39m\u001b[39m\"\u001b[39m):\n\u001b[0;32m--> <a href='file:///home/salman1567/code/Data%20Science%20-%20Machine%20Learning%20Projects/Data%20Science%20Portfolio/Diasaster%20Response%20Classification/env/lib/python3.10/site-packages/sklearn/pipeline.py?line=892'>893</a>\u001b[0m         res \u001b[39m=\u001b[39m transformer\u001b[39m.\u001b[39;49mfit_transform(X, y, \u001b[39m*\u001b[39;49m\u001b[39m*\u001b[39;49mfit_params)\n\u001b[1;32m    <a href='file:///home/salman1567/code/Data%20Science%20-%20Machine%20Learning%20Projects/Data%20Science%20Portfolio/Diasaster%20Response%20Classification/env/lib/python3.10/site-packages/sklearn/pipeline.py?line=893'>894</a>\u001b[0m     \u001b[39melse\u001b[39;00m:\n\u001b[1;32m    <a href='file:///home/salman1567/code/Data%20Science%20-%20Machine%20Learning%20Projects/Data%20Science%20Portfolio/Diasaster%20Response%20Classification/env/lib/python3.10/site-packages/sklearn/pipeline.py?line=894'>895</a>\u001b[0m         res \u001b[39m=\u001b[39m transformer\u001b[39m.\u001b[39mfit(X, y, \u001b[39m*\u001b[39m\u001b[39m*\u001b[39mfit_params)\u001b[39m.\u001b[39mtransform(X)\n",
      "File \u001b[0;32m~/code/Data Science - Machine Learning Projects/Data Science Portfolio/Diasaster Response Classification/env/lib/python3.10/site-packages/sklearn/feature_extraction/text.py:1330\u001b[0m, in \u001b[0;36mCountVectorizer.fit_transform\u001b[0;34m(self, raw_documents, y)\u001b[0m\n\u001b[1;32m   <a href='file:///home/salman1567/code/Data%20Science%20-%20Machine%20Learning%20Projects/Data%20Science%20Portfolio/Diasaster%20Response%20Classification/env/lib/python3.10/site-packages/sklearn/feature_extraction/text.py?line=1321'>1322</a>\u001b[0m             warnings\u001b[39m.\u001b[39mwarn(\n\u001b[1;32m   <a href='file:///home/salman1567/code/Data%20Science%20-%20Machine%20Learning%20Projects/Data%20Science%20Portfolio/Diasaster%20Response%20Classification/env/lib/python3.10/site-packages/sklearn/feature_extraction/text.py?line=1322'>1323</a>\u001b[0m                 \u001b[39m\"\u001b[39m\u001b[39mUpper case characters found in\u001b[39m\u001b[39m\"\u001b[39m\n\u001b[1;32m   <a href='file:///home/salman1567/code/Data%20Science%20-%20Machine%20Learning%20Projects/Data%20Science%20Portfolio/Diasaster%20Response%20Classification/env/lib/python3.10/site-packages/sklearn/feature_extraction/text.py?line=1323'>1324</a>\u001b[0m                 \u001b[39m\"\u001b[39m\u001b[39m vocabulary while \u001b[39m\u001b[39m'\u001b[39m\u001b[39mlowercase\u001b[39m\u001b[39m'\u001b[39m\u001b[39m\"\u001b[39m\n\u001b[1;32m   <a href='file:///home/salman1567/code/Data%20Science%20-%20Machine%20Learning%20Projects/Data%20Science%20Portfolio/Diasaster%20Response%20Classification/env/lib/python3.10/site-packages/sklearn/feature_extraction/text.py?line=1324'>1325</a>\u001b[0m                 \u001b[39m\"\u001b[39m\u001b[39m is True. These entries will not\u001b[39m\u001b[39m\"\u001b[39m\n\u001b[1;32m   <a href='file:///home/salman1567/code/Data%20Science%20-%20Machine%20Learning%20Projects/Data%20Science%20Portfolio/Diasaster%20Response%20Classification/env/lib/python3.10/site-packages/sklearn/feature_extraction/text.py?line=1325'>1326</a>\u001b[0m                 \u001b[39m\"\u001b[39m\u001b[39m be matched with any documents\u001b[39m\u001b[39m\"\u001b[39m\n\u001b[1;32m   <a href='file:///home/salman1567/code/Data%20Science%20-%20Machine%20Learning%20Projects/Data%20Science%20Portfolio/Diasaster%20Response%20Classification/env/lib/python3.10/site-packages/sklearn/feature_extraction/text.py?line=1326'>1327</a>\u001b[0m             )\n\u001b[1;32m   <a href='file:///home/salman1567/code/Data%20Science%20-%20Machine%20Learning%20Projects/Data%20Science%20Portfolio/Diasaster%20Response%20Classification/env/lib/python3.10/site-packages/sklearn/feature_extraction/text.py?line=1327'>1328</a>\u001b[0m             \u001b[39mbreak\u001b[39;00m\n\u001b[0;32m-> <a href='file:///home/salman1567/code/Data%20Science%20-%20Machine%20Learning%20Projects/Data%20Science%20Portfolio/Diasaster%20Response%20Classification/env/lib/python3.10/site-packages/sklearn/feature_extraction/text.py?line=1329'>1330</a>\u001b[0m vocabulary, X \u001b[39m=\u001b[39m \u001b[39mself\u001b[39;49m\u001b[39m.\u001b[39;49m_count_vocab(raw_documents, \u001b[39mself\u001b[39;49m\u001b[39m.\u001b[39;49mfixed_vocabulary_)\n\u001b[1;32m   <a href='file:///home/salman1567/code/Data%20Science%20-%20Machine%20Learning%20Projects/Data%20Science%20Portfolio/Diasaster%20Response%20Classification/env/lib/python3.10/site-packages/sklearn/feature_extraction/text.py?line=1331'>1332</a>\u001b[0m \u001b[39mif\u001b[39;00m \u001b[39mself\u001b[39m\u001b[39m.\u001b[39mbinary:\n\u001b[1;32m   <a href='file:///home/salman1567/code/Data%20Science%20-%20Machine%20Learning%20Projects/Data%20Science%20Portfolio/Diasaster%20Response%20Classification/env/lib/python3.10/site-packages/sklearn/feature_extraction/text.py?line=1332'>1333</a>\u001b[0m     X\u001b[39m.\u001b[39mdata\u001b[39m.\u001b[39mfill(\u001b[39m1\u001b[39m)\n",
      "File \u001b[0;32m~/code/Data Science - Machine Learning Projects/Data Science Portfolio/Diasaster Response Classification/env/lib/python3.10/site-packages/sklearn/feature_extraction/text.py:1201\u001b[0m, in \u001b[0;36mCountVectorizer._count_vocab\u001b[0;34m(self, raw_documents, fixed_vocab)\u001b[0m\n\u001b[1;32m   <a href='file:///home/salman1567/code/Data%20Science%20-%20Machine%20Learning%20Projects/Data%20Science%20Portfolio/Diasaster%20Response%20Classification/env/lib/python3.10/site-packages/sklearn/feature_extraction/text.py?line=1198'>1199</a>\u001b[0m \u001b[39mfor\u001b[39;00m doc \u001b[39min\u001b[39;00m raw_documents:\n\u001b[1;32m   <a href='file:///home/salman1567/code/Data%20Science%20-%20Machine%20Learning%20Projects/Data%20Science%20Portfolio/Diasaster%20Response%20Classification/env/lib/python3.10/site-packages/sklearn/feature_extraction/text.py?line=1199'>1200</a>\u001b[0m     feature_counter \u001b[39m=\u001b[39m {}\n\u001b[0;32m-> <a href='file:///home/salman1567/code/Data%20Science%20-%20Machine%20Learning%20Projects/Data%20Science%20Portfolio/Diasaster%20Response%20Classification/env/lib/python3.10/site-packages/sklearn/feature_extraction/text.py?line=1200'>1201</a>\u001b[0m     \u001b[39mfor\u001b[39;00m feature \u001b[39min\u001b[39;00m analyze(doc):\n\u001b[1;32m   <a href='file:///home/salman1567/code/Data%20Science%20-%20Machine%20Learning%20Projects/Data%20Science%20Portfolio/Diasaster%20Response%20Classification/env/lib/python3.10/site-packages/sklearn/feature_extraction/text.py?line=1201'>1202</a>\u001b[0m         \u001b[39mtry\u001b[39;00m:\n\u001b[1;32m   <a href='file:///home/salman1567/code/Data%20Science%20-%20Machine%20Learning%20Projects/Data%20Science%20Portfolio/Diasaster%20Response%20Classification/env/lib/python3.10/site-packages/sklearn/feature_extraction/text.py?line=1202'>1203</a>\u001b[0m             feature_idx \u001b[39m=\u001b[39m vocabulary[feature]\n",
      "File \u001b[0;32m~/code/Data Science - Machine Learning Projects/Data Science Portfolio/Diasaster Response Classification/env/lib/python3.10/site-packages/sklearn/feature_extraction/text.py:113\u001b[0m, in \u001b[0;36m_analyze\u001b[0;34m(doc, analyzer, tokenizer, ngrams, preprocessor, decoder, stop_words)\u001b[0m\n\u001b[1;32m    <a href='file:///home/salman1567/code/Data%20Science%20-%20Machine%20Learning%20Projects/Data%20Science%20Portfolio/Diasaster%20Response%20Classification/env/lib/python3.10/site-packages/sklearn/feature_extraction/text.py?line=110'>111</a>\u001b[0m \u001b[39melse\u001b[39;00m:\n\u001b[1;32m    <a href='file:///home/salman1567/code/Data%20Science%20-%20Machine%20Learning%20Projects/Data%20Science%20Portfolio/Diasaster%20Response%20Classification/env/lib/python3.10/site-packages/sklearn/feature_extraction/text.py?line=111'>112</a>\u001b[0m     \u001b[39mif\u001b[39;00m preprocessor \u001b[39mis\u001b[39;00m \u001b[39mnot\u001b[39;00m \u001b[39mNone\u001b[39;00m:\n\u001b[0;32m--> <a href='file:///home/salman1567/code/Data%20Science%20-%20Machine%20Learning%20Projects/Data%20Science%20Portfolio/Diasaster%20Response%20Classification/env/lib/python3.10/site-packages/sklearn/feature_extraction/text.py?line=112'>113</a>\u001b[0m         doc \u001b[39m=\u001b[39m preprocessor(doc)\n\u001b[1;32m    <a href='file:///home/salman1567/code/Data%20Science%20-%20Machine%20Learning%20Projects/Data%20Science%20Portfolio/Diasaster%20Response%20Classification/env/lib/python3.10/site-packages/sklearn/feature_extraction/text.py?line=113'>114</a>\u001b[0m     \u001b[39mif\u001b[39;00m tokenizer \u001b[39mis\u001b[39;00m \u001b[39mnot\u001b[39;00m \u001b[39mNone\u001b[39;00m:\n\u001b[1;32m    <a href='file:///home/salman1567/code/Data%20Science%20-%20Machine%20Learning%20Projects/Data%20Science%20Portfolio/Diasaster%20Response%20Classification/env/lib/python3.10/site-packages/sklearn/feature_extraction/text.py?line=114'>115</a>\u001b[0m         doc \u001b[39m=\u001b[39m tokenizer(doc)\n",
      "File \u001b[0;32m~/code/Data Science - Machine Learning Projects/Data Science Portfolio/Diasaster Response Classification/env/lib/python3.10/site-packages/sklearn/feature_extraction/text.py:71\u001b[0m, in \u001b[0;36m_preprocess\u001b[0;34m(doc, accent_function, lower)\u001b[0m\n\u001b[1;32m     <a href='file:///home/salman1567/code/Data%20Science%20-%20Machine%20Learning%20Projects/Data%20Science%20Portfolio/Diasaster%20Response%20Classification/env/lib/python3.10/site-packages/sklearn/feature_extraction/text.py?line=51'>52</a>\u001b[0m \u001b[39m\"\"\"Chain together an optional series of text preprocessing steps to\u001b[39;00m\n\u001b[1;32m     <a href='file:///home/salman1567/code/Data%20Science%20-%20Machine%20Learning%20Projects/Data%20Science%20Portfolio/Diasaster%20Response%20Classification/env/lib/python3.10/site-packages/sklearn/feature_extraction/text.py?line=52'>53</a>\u001b[0m \u001b[39mapply to a document.\u001b[39;00m\n\u001b[1;32m     <a href='file:///home/salman1567/code/Data%20Science%20-%20Machine%20Learning%20Projects/Data%20Science%20Portfolio/Diasaster%20Response%20Classification/env/lib/python3.10/site-packages/sklearn/feature_extraction/text.py?line=53'>54</a>\u001b[0m \n\u001b[0;32m   (...)\u001b[0m\n\u001b[1;32m     <a href='file:///home/salman1567/code/Data%20Science%20-%20Machine%20Learning%20Projects/Data%20Science%20Portfolio/Diasaster%20Response%20Classification/env/lib/python3.10/site-packages/sklearn/feature_extraction/text.py?line=67'>68</a>\u001b[0m \u001b[39m    preprocessed string\u001b[39;00m\n\u001b[1;32m     <a href='file:///home/salman1567/code/Data%20Science%20-%20Machine%20Learning%20Projects/Data%20Science%20Portfolio/Diasaster%20Response%20Classification/env/lib/python3.10/site-packages/sklearn/feature_extraction/text.py?line=68'>69</a>\u001b[0m \u001b[39m\"\"\"\u001b[39;00m\n\u001b[1;32m     <a href='file:///home/salman1567/code/Data%20Science%20-%20Machine%20Learning%20Projects/Data%20Science%20Portfolio/Diasaster%20Response%20Classification/env/lib/python3.10/site-packages/sklearn/feature_extraction/text.py?line=69'>70</a>\u001b[0m \u001b[39mif\u001b[39;00m lower:\n\u001b[0;32m---> <a href='file:///home/salman1567/code/Data%20Science%20-%20Machine%20Learning%20Projects/Data%20Science%20Portfolio/Diasaster%20Response%20Classification/env/lib/python3.10/site-packages/sklearn/feature_extraction/text.py?line=70'>71</a>\u001b[0m     doc \u001b[39m=\u001b[39m doc\u001b[39m.\u001b[39;49mlower()\n\u001b[1;32m     <a href='file:///home/salman1567/code/Data%20Science%20-%20Machine%20Learning%20Projects/Data%20Science%20Portfolio/Diasaster%20Response%20Classification/env/lib/python3.10/site-packages/sklearn/feature_extraction/text.py?line=71'>72</a>\u001b[0m \u001b[39mif\u001b[39;00m accent_function \u001b[39mis\u001b[39;00m \u001b[39mnot\u001b[39;00m \u001b[39mNone\u001b[39;00m:\n\u001b[1;32m     <a href='file:///home/salman1567/code/Data%20Science%20-%20Machine%20Learning%20Projects/Data%20Science%20Portfolio/Diasaster%20Response%20Classification/env/lib/python3.10/site-packages/sklearn/feature_extraction/text.py?line=72'>73</a>\u001b[0m     doc \u001b[39m=\u001b[39m accent_function(doc)\n",
      "\u001b[0;31mAttributeError\u001b[0m: 'list' object has no attribute 'lower'"
     ]
    }
   ],
   "source": [
    "X_train, X_test, y_train, y_test = train_test_split(X, Y, test_size=0.33, random_state=42)\n",
    "pipeline.fit(X_train, y_train)"
   ]
  },
  {
   "cell_type": "markdown",
   "metadata": {},
   "source": [
    "### 5. Test your model\n",
    "Report the f1 score, precision and recall for each output category of the dataset. You can do this by iterating through the columns and calling sklearn's `classification_report` on each."
   ]
  },
  {
   "cell_type": "code",
   "execution_count": null,
   "metadata": {},
   "outputs": [],
   "source": [
    "col_names = Y.columns.unique()\n",
    "y_pred = pipeline.predict(X_test)\n",
    "print(classification_report(y_test, y_pred, target_names=col_names))\n",
    "\n"
   ]
  },
  {
   "cell_type": "markdown",
   "metadata": {},
   "source": [
    "### 6. Improve your model\n",
    "Use grid search to find better parameters. "
   ]
  },
  {
   "cell_type": "code",
   "execution_count": null,
   "metadata": {},
   "outputs": [],
   "source": [
    "parameters = \n",
    "\n",
    "cv = "
   ]
  },
  {
   "cell_type": "markdown",
   "metadata": {},
   "source": [
    "### 7. Test your model\n",
    "Show the accuracy, precision, and recall of the tuned model.  \n",
    "\n",
    "Since this project focuses on code quality, process, and  pipelines, there is no minimum performance metric needed to pass. However, make sure to fine tune your models for accuracy, precision and recall to make your project stand out - especially for your portfolio!"
   ]
  },
  {
   "cell_type": "code",
   "execution_count": null,
   "metadata": {},
   "outputs": [],
   "source": []
  },
  {
   "cell_type": "markdown",
   "metadata": {},
   "source": [
    "### 8. Try improving your model further. Here are a few ideas:\n",
    "* try other machine learning algorithms\n",
    "* add other features besides the TF-IDF"
   ]
  },
  {
   "cell_type": "code",
   "execution_count": null,
   "metadata": {},
   "outputs": [],
   "source": []
  },
  {
   "cell_type": "markdown",
   "metadata": {},
   "source": [
    "### 9. Export your model as a pickle file"
   ]
  },
  {
   "cell_type": "code",
   "execution_count": null,
   "metadata": {},
   "outputs": [],
   "source": []
  },
  {
   "cell_type": "markdown",
   "metadata": {},
   "source": [
    "### 10. Use this notebook to complete `train.py`\n",
    "Use the template file attached in the Resources folder to write a script that runs the steps above to create a database and export a model based on a new dataset specified by the user."
   ]
  },
  {
   "cell_type": "code",
   "execution_count": null,
   "metadata": {},
   "outputs": [],
   "source": []
  }
 ],
 "metadata": {
  "kernelspec": {
   "display_name": "Python 3",
   "language": "python",
   "name": "python3"
  },
  "language_info": {
   "codemirror_mode": {
    "name": "ipython",
    "version": 3
   },
   "file_extension": ".py",
   "mimetype": "text/x-python",
   "name": "python",
   "nbconvert_exporter": "python",
   "pygments_lexer": "ipython3",
   "version": "3.10.4"
  }
 },
 "nbformat": 4,
 "nbformat_minor": 2
}
