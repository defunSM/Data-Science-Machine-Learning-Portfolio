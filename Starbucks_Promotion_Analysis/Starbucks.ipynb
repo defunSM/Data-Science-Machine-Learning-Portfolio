{
 "cells": [
  {
   "cell_type": "markdown",
   "metadata": {},
   "source": [
    "## Portfolio Exercise: Starbucks\n",
    "<br>\n",
    "\n",
    "<img src=\"https://opj.ca/wp-content/uploads/2018/02/New-Starbucks-Logo-1200x969.jpg\" width=\"200\" height=\"200\">\n",
    "<br>\n",
    "<br>\n",
    " \n",
    "#### Background Information\n",
    "\n",
    "The dataset you will be provided in this portfolio exercise was originally used as a take-home assignment provided by Starbucks for their job candidates. The data for this exercise consists of about 120,000 data points split in a 2:1 ratio among training and test files. In the experiment simulated by the data, an advertising promotion was tested to see if it would bring more customers to purchase a specific product priced at $10. Since it costs the company 0.15 to send out each promotion, it would be best to limit that promotion only to those that are most receptive to the promotion. Each data point includes one column indicating whether or not an individual was sent a promotion for the product, and one column indicating whether or not that individual eventually purchased that product. Each individual also has seven additional features associated with them, which are provided abstractly as V1-V7.\n",
    "\n",
    "#### Optimization Strategy\n",
    "\n",
    "Your task is to use the training data to understand what patterns in V1-V7 to indicate that a promotion should be provided to a user. Specifically, your goal is to maximize the following metrics:\n",
    "\n",
    "* **Incremental Response Rate (IRR)** \n",
    "\n",
    "IRR depicts how many more customers purchased the product with the promotion, as compared to if they didn't receive the promotion. Mathematically, it's the ratio of the number of purchasers in the promotion group to the total number of customers in the purchasers group (_treatment_) minus the ratio of the number of purchasers in the non-promotional group to the total number of customers in the non-promotional group (_control_).\n",
    "\n",
    "$$ IRR = \\frac{purch_{treat}}{cust_{treat}} - \\frac{purch_{ctrl}}{cust_{ctrl}} $$\n",
    "\n",
    "\n",
    "* **Net Incremental Revenue (NIR)**\n",
    "\n",
    "NIR depicts how much is made (or lost) by sending out the promotion. Mathematically, this is 10 times the total number of purchasers that received the promotion minus 0.15 times the number of promotions sent out, minus 10 times the number of purchasers who were not given the promotion.\n",
    "\n",
    "$$ NIR = (10\\cdot purch_{treat} - 0.15 \\cdot cust_{treat}) - 10 \\cdot purch_{ctrl}$$\n",
    "\n",
    "For a full description of what Starbucks provides to candidates see the [instructions available here](https://drive.google.com/open?id=18klca9Sef1Rs6q8DW4l7o349r8B70qXM).\n",
    "\n",
    "Below you can find the training data provided.  Explore the data and different optimization strategies.\n",
    "\n",
    "#### How To Test Your Strategy?\n",
    "\n",
    "When you feel like you have an optimization strategy, complete the `promotion_strategy` function to pass to the `test_results` function.  \n",
    "From past data, we know there are four possible outomes:\n",
    "\n",
    "Table of actual promotion vs. predicted promotion customers:  \n",
    "\n",
    "<table>\n",
    "<tr><th></th><th colspan = '2'>Actual</th></tr>\n",
    "<tr><th>Predicted</th><th>Yes</th><th>No</th></tr>\n",
    "<tr><th>Yes</th><td>I</td><td>II</td></tr>\n",
    "<tr><th>No</th><td>III</td><td>IV</td></tr>\n",
    "</table>\n",
    "\n",
    "The metrics are only being compared for the individuals we predict should obtain the promotion – that is, quadrants I and II.  Since the first set of individuals that receive the promotion (in the training set) receive it randomly, we can expect that quadrants I and II will have approximately equivalent participants.  \n",
    "\n",
    "Comparing quadrant I to II then gives an idea of how well your promotion strategy will work in the future. \n",
    "\n",
    "Get started by reading in the data below.  See how each variable or combination of variables along with a promotion influences the chance of purchasing.  When you feel like you have a strategy for who should receive a promotion, test your strategy against the test dataset used in the final `test_results` function."
   ]
  },
  {
   "cell_type": "code",
   "execution_count": 34,
   "metadata": {},
   "outputs": [
    {
     "data": {
      "text/html": [
       "<div>\n",
       "<style scoped>\n",
       "    .dataframe tbody tr th:only-of-type {\n",
       "        vertical-align: middle;\n",
       "    }\n",
       "\n",
       "    .dataframe tbody tr th {\n",
       "        vertical-align: top;\n",
       "    }\n",
       "\n",
       "    .dataframe thead th {\n",
       "        text-align: right;\n",
       "    }\n",
       "</style>\n",
       "<table border=\"1\" class=\"dataframe\">\n",
       "  <thead>\n",
       "    <tr style=\"text-align: right;\">\n",
       "      <th></th>\n",
       "      <th>ID</th>\n",
       "      <th>Promotion</th>\n",
       "      <th>purchase</th>\n",
       "      <th>V1</th>\n",
       "      <th>V2</th>\n",
       "      <th>V3</th>\n",
       "      <th>V4</th>\n",
       "      <th>V5</th>\n",
       "      <th>V6</th>\n",
       "      <th>V7</th>\n",
       "    </tr>\n",
       "  </thead>\n",
       "  <tbody>\n",
       "    <tr>\n",
       "      <th>0</th>\n",
       "      <td>1</td>\n",
       "      <td>No</td>\n",
       "      <td>0</td>\n",
       "      <td>2</td>\n",
       "      <td>30.443518</td>\n",
       "      <td>-1.165083</td>\n",
       "      <td>1</td>\n",
       "      <td>1</td>\n",
       "      <td>3</td>\n",
       "      <td>2</td>\n",
       "    </tr>\n",
       "    <tr>\n",
       "      <th>1</th>\n",
       "      <td>3</td>\n",
       "      <td>No</td>\n",
       "      <td>0</td>\n",
       "      <td>3</td>\n",
       "      <td>32.159350</td>\n",
       "      <td>-0.645617</td>\n",
       "      <td>2</td>\n",
       "      <td>3</td>\n",
       "      <td>2</td>\n",
       "      <td>2</td>\n",
       "    </tr>\n",
       "    <tr>\n",
       "      <th>2</th>\n",
       "      <td>4</td>\n",
       "      <td>No</td>\n",
       "      <td>0</td>\n",
       "      <td>2</td>\n",
       "      <td>30.431659</td>\n",
       "      <td>0.133583</td>\n",
       "      <td>1</td>\n",
       "      <td>1</td>\n",
       "      <td>4</td>\n",
       "      <td>2</td>\n",
       "    </tr>\n",
       "    <tr>\n",
       "      <th>3</th>\n",
       "      <td>5</td>\n",
       "      <td>No</td>\n",
       "      <td>0</td>\n",
       "      <td>0</td>\n",
       "      <td>26.588914</td>\n",
       "      <td>-0.212728</td>\n",
       "      <td>2</td>\n",
       "      <td>1</td>\n",
       "      <td>4</td>\n",
       "      <td>2</td>\n",
       "    </tr>\n",
       "    <tr>\n",
       "      <th>4</th>\n",
       "      <td>8</td>\n",
       "      <td>Yes</td>\n",
       "      <td>0</td>\n",
       "      <td>3</td>\n",
       "      <td>28.044331</td>\n",
       "      <td>-0.385883</td>\n",
       "      <td>1</td>\n",
       "      <td>1</td>\n",
       "      <td>2</td>\n",
       "      <td>2</td>\n",
       "    </tr>\n",
       "  </tbody>\n",
       "</table>\n",
       "</div>"
      ],
      "text/plain": [
       "   ID Promotion  purchase  V1         V2        V3  V4  V5  V6  V7\n",
       "0   1        No         0   2  30.443518 -1.165083   1   1   3   2\n",
       "1   3        No         0   3  32.159350 -0.645617   2   3   2   2\n",
       "2   4        No         0   2  30.431659  0.133583   1   1   4   2\n",
       "3   5        No         0   0  26.588914 -0.212728   2   1   4   2\n",
       "4   8       Yes         0   3  28.044331 -0.385883   1   1   2   2"
      ]
     },
     "execution_count": 34,
     "metadata": {},
     "output_type": "execute_result"
    }
   ],
   "source": [
    "# load in packages\n",
    "from itertools import combinations\n",
    "\n",
    "from test_results import test_results, score\n",
    "import numpy as np\n",
    "import pandas as pd\n",
    "import scipy as sp\n",
    "import sklearn as sk\n",
    "\n",
    "import matplotlib.pyplot as plt\n",
    "import seaborn as sns\n",
    "%matplotlib inline\n",
    "\n",
    "# load in the data\n",
    "train_data = pd.read_csv('./data/training.csv')\n",
    "train_data.head()"
   ]
  },
  {
   "cell_type": "markdown",
   "metadata": {},
   "source": [
    "## 1. Exploratory Data Analysis\n",
    "### 1.1 Preprocessing"
   ]
  },
  {
   "cell_type": "code",
   "execution_count": 35,
   "metadata": {},
   "outputs": [],
   "source": [
    "# Encoding the Promotion Feature for 0 as No and 1 as Yes\n",
    "train_data[\"Promotion\"] = train_data[\"Promotion\"].replace({\"No\": 0, \"Yes\": 1})"
   ]
  },
  {
   "cell_type": "code",
   "execution_count": 36,
   "metadata": {},
   "outputs": [
    {
     "data": {
      "text/plain": [
       "ID           0\n",
       "Promotion    0\n",
       "purchase     0\n",
       "V1           0\n",
       "V2           0\n",
       "V3           0\n",
       "V4           0\n",
       "V5           0\n",
       "V6           0\n",
       "V7           0\n",
       "dtype: int64"
      ]
     },
     "execution_count": 36,
     "metadata": {},
     "output_type": "execute_result"
    }
   ],
   "source": [
    "train_data.isnull().sum()"
   ]
  },
  {
   "cell_type": "code",
   "execution_count": 37,
   "metadata": {},
   "outputs": [
    {
     "data": {
      "text/plain": [
       "0    83494\n",
       "1     1040\n",
       "Name: purchase, dtype: int64"
      ]
     },
     "execution_count": 37,
     "metadata": {},
     "output_type": "execute_result"
    }
   ],
   "source": [
    "# Checking number of samples if data is imbalanced\n",
    "\n",
    "train_data[\"Promotion\"].value_counts()\n",
    "train_data[\"purchase\"].value_counts()"
   ]
  },
  {
   "cell_type": "markdown",
   "metadata": {},
   "source": [
    "There is an class imbalanced in the purchase feature much more customers did not make a purchase than they did. We can try to use stratification to try to help remedy this and resample."
   ]
  },
  {
   "cell_type": "code",
   "execution_count": 38,
   "metadata": {},
   "outputs": [
    {
     "data": {
      "text/html": [
       "<div>\n",
       "<style scoped>\n",
       "    .dataframe tbody tr th:only-of-type {\n",
       "        vertical-align: middle;\n",
       "    }\n",
       "\n",
       "    .dataframe tbody tr th {\n",
       "        vertical-align: top;\n",
       "    }\n",
       "\n",
       "    .dataframe thead th {\n",
       "        text-align: right;\n",
       "    }\n",
       "</style>\n",
       "<table border=\"1\" class=\"dataframe\">\n",
       "  <thead>\n",
       "    <tr style=\"text-align: right;\">\n",
       "      <th></th>\n",
       "      <th>ID</th>\n",
       "      <th>Promotion</th>\n",
       "      <th>purchase</th>\n",
       "      <th>V1</th>\n",
       "      <th>V2</th>\n",
       "      <th>V3</th>\n",
       "      <th>V4</th>\n",
       "      <th>V5</th>\n",
       "      <th>V6</th>\n",
       "      <th>V7</th>\n",
       "    </tr>\n",
       "  </thead>\n",
       "  <tbody>\n",
       "    <tr>\n",
       "      <th>count</th>\n",
       "      <td>84534.000000</td>\n",
       "      <td>84534.000000</td>\n",
       "      <td>84534.000000</td>\n",
       "      <td>84534.000000</td>\n",
       "      <td>84534.000000</td>\n",
       "      <td>84534.000000</td>\n",
       "      <td>84534.000000</td>\n",
       "      <td>84534.000000</td>\n",
       "      <td>84534.000000</td>\n",
       "      <td>84534.000000</td>\n",
       "    </tr>\n",
       "    <tr>\n",
       "      <th>mean</th>\n",
       "      <td>62970.972413</td>\n",
       "      <td>0.501147</td>\n",
       "      <td>0.012303</td>\n",
       "      <td>1.500662</td>\n",
       "      <td>29.973600</td>\n",
       "      <td>0.000190</td>\n",
       "      <td>1.679608</td>\n",
       "      <td>2.327643</td>\n",
       "      <td>2.502898</td>\n",
       "      <td>1.701694</td>\n",
       "    </tr>\n",
       "    <tr>\n",
       "      <th>std</th>\n",
       "      <td>36418.440539</td>\n",
       "      <td>0.500002</td>\n",
       "      <td>0.110234</td>\n",
       "      <td>0.868234</td>\n",
       "      <td>5.010626</td>\n",
       "      <td>1.000485</td>\n",
       "      <td>0.466630</td>\n",
       "      <td>0.841167</td>\n",
       "      <td>1.117349</td>\n",
       "      <td>0.457517</td>\n",
       "    </tr>\n",
       "    <tr>\n",
       "      <th>min</th>\n",
       "      <td>1.000000</td>\n",
       "      <td>0.000000</td>\n",
       "      <td>0.000000</td>\n",
       "      <td>0.000000</td>\n",
       "      <td>7.104007</td>\n",
       "      <td>-1.684550</td>\n",
       "      <td>1.000000</td>\n",
       "      <td>1.000000</td>\n",
       "      <td>1.000000</td>\n",
       "      <td>1.000000</td>\n",
       "    </tr>\n",
       "    <tr>\n",
       "      <th>25%</th>\n",
       "      <td>31467.250000</td>\n",
       "      <td>0.000000</td>\n",
       "      <td>0.000000</td>\n",
       "      <td>1.000000</td>\n",
       "      <td>26.591501</td>\n",
       "      <td>-0.905350</td>\n",
       "      <td>1.000000</td>\n",
       "      <td>2.000000</td>\n",
       "      <td>2.000000</td>\n",
       "      <td>1.000000</td>\n",
       "    </tr>\n",
       "    <tr>\n",
       "      <th>50%</th>\n",
       "      <td>62827.500000</td>\n",
       "      <td>1.000000</td>\n",
       "      <td>0.000000</td>\n",
       "      <td>2.000000</td>\n",
       "      <td>29.979744</td>\n",
       "      <td>-0.039572</td>\n",
       "      <td>2.000000</td>\n",
       "      <td>2.000000</td>\n",
       "      <td>3.000000</td>\n",
       "      <td>2.000000</td>\n",
       "    </tr>\n",
       "    <tr>\n",
       "      <th>75%</th>\n",
       "      <td>94438.750000</td>\n",
       "      <td>1.000000</td>\n",
       "      <td>0.000000</td>\n",
       "      <td>2.000000</td>\n",
       "      <td>33.344593</td>\n",
       "      <td>0.826206</td>\n",
       "      <td>2.000000</td>\n",
       "      <td>3.000000</td>\n",
       "      <td>4.000000</td>\n",
       "      <td>2.000000</td>\n",
       "    </tr>\n",
       "    <tr>\n",
       "      <th>max</th>\n",
       "      <td>126184.000000</td>\n",
       "      <td>1.000000</td>\n",
       "      <td>1.000000</td>\n",
       "      <td>3.000000</td>\n",
       "      <td>50.375913</td>\n",
       "      <td>1.691984</td>\n",
       "      <td>2.000000</td>\n",
       "      <td>4.000000</td>\n",
       "      <td>4.000000</td>\n",
       "      <td>2.000000</td>\n",
       "    </tr>\n",
       "  </tbody>\n",
       "</table>\n",
       "</div>"
      ],
      "text/plain": [
       "                  ID     Promotion      purchase            V1            V2  \\\n",
       "count   84534.000000  84534.000000  84534.000000  84534.000000  84534.000000   \n",
       "mean    62970.972413      0.501147      0.012303      1.500662     29.973600   \n",
       "std     36418.440539      0.500002      0.110234      0.868234      5.010626   \n",
       "min         1.000000      0.000000      0.000000      0.000000      7.104007   \n",
       "25%     31467.250000      0.000000      0.000000      1.000000     26.591501   \n",
       "50%     62827.500000      1.000000      0.000000      2.000000     29.979744   \n",
       "75%     94438.750000      1.000000      0.000000      2.000000     33.344593   \n",
       "max    126184.000000      1.000000      1.000000      3.000000     50.375913   \n",
       "\n",
       "                 V3            V4            V5            V6            V7  \n",
       "count  84534.000000  84534.000000  84534.000000  84534.000000  84534.000000  \n",
       "mean       0.000190      1.679608      2.327643      2.502898      1.701694  \n",
       "std        1.000485      0.466630      0.841167      1.117349      0.457517  \n",
       "min       -1.684550      1.000000      1.000000      1.000000      1.000000  \n",
       "25%       -0.905350      1.000000      2.000000      2.000000      1.000000  \n",
       "50%       -0.039572      2.000000      2.000000      3.000000      2.000000  \n",
       "75%        0.826206      2.000000      3.000000      4.000000      2.000000  \n",
       "max        1.691984      2.000000      4.000000      4.000000      2.000000  "
      ]
     },
     "execution_count": 38,
     "metadata": {},
     "output_type": "execute_result"
    }
   ],
   "source": [
    "# Summary of the dataset\n",
    "train_data.describe()"
   ]
  },
  {
   "cell_type": "code",
   "execution_count": 39,
   "metadata": {},
   "outputs": [
    {
     "data": {
      "text/plain": [
       "<AxesSubplot:>"
      ]
     },
     "execution_count": 39,
     "metadata": {},
     "output_type": "execute_result"
    },
    {
     "data": {
      "image/png": "[encoded data removed]",
      "text/plain": [
       "<Figure size 842.4x595.44 with 2 Axes>"
      ]
     },
     "metadata": {},
     "output_type": "display_data"
    }
   ],
   "source": [
    "# Generate a custom diverging colormap\n",
    "cmap = sns.diverging_palette(230, 20, as_cmap=True)\n",
    "\n",
    "# Visualizing correlations\n",
    "sns.set_theme(style=\"white\")\n",
    "sns.set(rc={'figure.figsize':(11.7,8.27)})\n",
    "sns.heatmap(train_data.iloc[:,1:].corr(), annot=True, cmap=cmap)"
   ]
  },
  {
   "cell_type": "markdown",
   "metadata": {},
   "source": [
    "#### Correlation Matrix\n",
    "There is a 0.043 correlation coefficient between promotion and purchase which is higher than the other features. V4 feature seems to affect purchasing decision. Thus leveraging this we can say looking at V4 will be helpful in swaying customers to purchase."
   ]
  },
  {
   "cell_type": "markdown",
   "metadata": {},
   "source": [
    "TODO: Try to see if we can group certain customers by V3 and V1 with a scatterplot and k nearest neighbors model"
   ]
  },
  {
   "cell_type": "markdown",
   "metadata": {},
   "source": [
    "### 1.2 Identifying effect of Treatment on Product purchase and Net Incremental Revenue\n",
    "\n",
    "To address the first question: \n",
    "\n",
    "Analyze the results of the experiment and identify the effect of the Treatment on product purchase and Net Incremental Revenue\n",
    "\n",
    "TODO: Seperate out customers that have seen the promotion and bought and target those people."
   ]
  },
  {
   "cell_type": "code",
   "execution_count": 40,
   "metadata": {},
   "outputs": [
    {
     "data": {
      "text/plain": [
       "1    42364\n",
       "0    42170\n",
       "Name: Promotion, dtype: int64"
      ]
     },
     "execution_count": 40,
     "metadata": {},
     "output_type": "execute_result"
    }
   ],
   "source": [
    "# Splitting into control which does not have the promotion and treatment which contains customers that have seen the promotion\n",
    "\n",
    "control = train_data[train_data['Promotion']==0]\n",
    "treatment = train_data[train_data['Promotion']==1]\n",
    "\n",
    "# Checking to make sure number of promotions is balanced (Which they are)\n",
    "train_data['Promotion'].value_counts()"
   ]
  },
  {
   "cell_type": "code",
   "execution_count": 41,
   "metadata": {},
   "outputs": [
    {
     "name": "stdout",
     "output_type": "stream",
     "text": [
      "Control: # of purchases 319\n",
      "Treatment: # of purchases 721\n"
     ]
    },
    {
     "data": {
      "image/png": "[encoded data removed]",
      "text/plain": [
       "<Figure size 842.4x595.44 with 1 Axes>"
      ]
     },
     "metadata": {},
     "output_type": "display_data"
    }
   ],
   "source": [
    "# Seeing how many purchases in each group\n",
    "control_purchases = control['purchase'].sum()\n",
    "treatment_purchases = treatment['purchase'].sum()\n",
    "\n",
    "print(\"Control: # of purchases\", control_purchases)\n",
    "print(\"Treatment: # of purchases\", treatment['purchase'].sum())\n",
    "\n",
    "# Visualizing \n",
    "sns.set_theme(style=\"whitegrid\")\n",
    "fig = sns.countplot(data=train_data[train_data['purchase']==1], x=\"Promotion\", capsize=.2)\n",
    "fig.set_title(\"# of Purchases for control and treatment group\")\n",
    "fig.bar_label(fig.containers[0], labels=[control_purchases, treatment_purchases])\n",
    "plt.show()"
   ]
  },
  {
   "cell_type": "markdown",
   "metadata": {},
   "source": [
    "### 1.3 Statistical Hypothesis Test\n",
    "In order to evaluate if there is a statistical signifiance in purchases between the control and treatment group. We can conduct a binom test to evaluate the success rate between the two groups."
   ]
  },
  {
   "cell_type": "code",
   "execution_count": 42,
   "metadata": {},
   "outputs": [
    {
     "name": "stdout",
     "output_type": "stream",
     "text": [
      "Control Purchase Probability:  0.007564619397676073\n",
      "P-value:  5.912424622466655e-83\n",
      "Treatment Probability Estimate:  0.017019167217448776\n",
      "Treatment Probability Confidence Interval:  ConfidenceInterval(low=0.01580888988048724, high=0.018296271508151336)\n"
     ]
    }
   ],
   "source": [
    "from scipy.stats import binomtest\n",
    "\n",
    "# For the binom test we need to calculate the probability of success in our control group. The number of purchases divided by the number of trials\n",
    "control_p = control_purchases / len(control)\n",
    "\n",
    "result = binomtest(k=treatment_purchases, n=len(treatment), p=control_p)\n",
    "\n",
    "print(\"Control Purchase Probability: \", control_p)\n",
    "print(\"P-value: \", result.pvalue)\n",
    "print(\"Treatment Probability Estimate: \", result.proportion_estimate)\n",
    "print(\"Treatment Probability Confidence Interval: \", result.proportion_ci(confidence_level=0.95))\n"
   ]
  },
  {
   "cell_type": "markdown",
   "metadata": {},
   "source": [
    "#### Results of the Binom Test\n",
    "The control purchase probability is 0.007 while the treatment probability estimate is ~0.01709 with an confidence interval of (0.0158, 0.0183) with 95% confidence. The p-value is less than 0.05 therefore we reject the null hypothesis that the control and treatment groups have the same probability of success (probability of purchase).\n",
    "\n",
    "Thus answering the first part of the question: Does the treatment affect product purchase. We can say that there is a statistically significant difference between treatment and control group."
   ]
  },
  {
   "cell_type": "code",
   "execution_count": 43,
   "metadata": {},
   "outputs": [
    {
     "name": "stdout",
     "output_type": "stream",
     "text": [
      "Incremental Response Rate:  0.009454547819772702\n",
      "Net Incremental Revenue:  -2334.5999999999995\n"
     ]
    }
   ],
   "source": [
    "# Calculating IRR and NIR of the training data\n",
    "IRR = ( treatment_purchases / len(treatment) ) - ( control_purchases / len(control) )\n",
    "NIR = ( (treatment_purchases*10)-(len(treatment)*0.15) ) - ( control_purchases * 10)\n",
    "\n",
    "print(\"Incremental Response Rate: \", IRR)\n",
    "print(\"Net Incremental Revenue: \", NIR)"
   ]
  },
  {
   "cell_type": "markdown",
   "metadata": {},
   "source": [
    "A negative incremental revenue indicating that starbucks is losing money by advertising and thus the current promotional strategy is not optimized."
   ]
  },
  {
   "cell_type": "code",
   "execution_count": null,
   "metadata": {},
   "outputs": [],
   "source": []
  },
  {
   "cell_type": "markdown",
   "metadata": {},
   "source": [
    "## 2. Modeling\n",
    "\n",
    "We can try out classification models such as Random Forest, Logistic Regression, and XGBoost. Then use GridSearchCV to optimize hyperparameters after we have a baseline of which model's have better evaluation metrics such as recall since having a false positive would be wasting money on promotions that don't result in purchases. Therefore having a high recall score for our model is important."
   ]
  },
  {
   "cell_type": "code",
   "execution_count": 44,
   "metadata": {},
   "outputs": [
    {
     "name": "stdout",
     "output_type": "stream",
     "text": [
      "           ID  Promotion  purchase  V1         V2        V3  V4  V5  V6  V7\n",
      "0           1          0         0   2  30.443518 -1.165083   1   1   3   2\n",
      "1           3          0         0   3  32.159350 -0.645617   2   3   2   2\n",
      "2           4          0         0   2  30.431659  0.133583   1   1   4   2\n",
      "3           5          0         0   0  26.588914 -0.212728   2   1   4   2\n",
      "4           8          1         0   3  28.044331 -0.385883   1   1   2   2\n",
      "...       ...        ...       ...  ..        ...       ...  ..  ..  ..  ..\n",
      "84529  126180          0         0   1  30.084876  1.345672   1   1   3   1\n",
      "84530  126181          1         0   3  33.501485 -0.299306   1   1   4   1\n",
      "84531  126182          0         0   1  31.492019  1.085939   2   3   2   2\n",
      "84532  126183          0         0   1  37.766106  0.999361   2   2   1   2\n",
      "84533  126184          0         0   1  21.720835  1.085939   2   2   1   2\n",
      "\n",
      "[84534 rows x 10 columns]\n"
     ]
    }
   ],
   "source": [
    "#train_data = train_data.loc[(train_data[\"purchase\"]==1)]\n",
    "\n",
    "print(train_data)\n",
    "# Resampling\n",
    "df_resampled = False\n",
    "\n",
    "df_no_purchase = train_data[train_data['Promotion']==0].sample(100)\n",
    "df_purchase = train_data[train_data['Promotion']==1].sample(100)\n",
    "\n",
    "train_data = pd.concat([df_no_purchase, df_purchase], axis=0)\n",
    "\n",
    "# df_resampled.head()"
   ]
  },
  {
   "cell_type": "code",
   "execution_count": 45,
   "metadata": {},
   "outputs": [],
   "source": [
    "from sklearn.preprocessing import MinMaxScaler\n",
    "# Training model and splitting independent and dependent variables (V1, V2... V6) are the independent variables and the dependent variable is the Promotion\n",
    "\n",
    "X = train_data.iloc[:,3:]\n",
    "Y = train_data[\"Promotion\"]\n",
    "\n",
    "# Scaling \n",
    "min_max_scaler = MinMaxScaler()\n",
    "X = min_max_scaler.fit_transform(X)\n",
    "\n",
    "\n",
    "\n",
    "# Resampled split\n",
    "if df_resampled:\n",
    "    X_resampled = df_resampled.iloc[:,3:]\n",
    "    Y_resampled = df_resampled[\"Promotion\"]\n"
   ]
  },
  {
   "cell_type": "code",
   "execution_count": 46,
   "metadata": {},
   "outputs": [
    {
     "data": {
      "text/plain": [
       "LogisticRegression()"
      ]
     },
     "execution_count": 46,
     "metadata": {},
     "output_type": "execute_result"
    }
   ],
   "source": [
    "from sklearn.model_selection import train_test_split\n",
    "from sklearn.linear_model import LogisticRegression\n",
    "from sklearn.ensemble import RandomForestClassifier\n",
    "from sklearn.metrics import confusion_matrix, classification_report\n",
    "\n",
    "X_train, X_test, y_train, y_test = train_test_split(X, Y, test_size=0.33)\n",
    "clf = LogisticRegression()\n",
    "\n",
    "clf.fit(X_train, y_train)\n"
   ]
  },
  {
   "cell_type": "code",
   "execution_count": 47,
   "metadata": {},
   "outputs": [
    {
     "name": "stdout",
     "output_type": "stream",
     "text": [
      "              precision    recall  f1-score   support\n",
      "\n",
      "           0       0.55      0.31      0.40        35\n",
      "           1       0.48      0.71      0.57        31\n",
      "\n",
      "    accuracy                           0.50        66\n",
      "   macro avg       0.51      0.51      0.49        66\n",
      "weighted avg       0.52      0.50      0.48        66\n",
      "\n"
     ]
    }
   ],
   "source": [
    "# Calculating precision, recall and f1-score\n",
    "y_pred = clf.predict(X_test)\n",
    "print(classification_report(y_test, y_pred))"
   ]
  },
  {
   "cell_type": "markdown",
   "metadata": {},
   "source": [
    "### 2.1 Random Forest Model"
   ]
  },
  {
   "cell_type": "code",
   "execution_count": 48,
   "metadata": {},
   "outputs": [
    {
     "name": "stdout",
     "output_type": "stream",
     "text": [
      "              precision    recall  f1-score   support\n",
      "\n",
      "           0       0.58      0.51      0.55        35\n",
      "           1       0.51      0.58      0.55        31\n",
      "\n",
      "    accuracy                           0.55        66\n",
      "   macro avg       0.55      0.55      0.55        66\n",
      "weighted avg       0.55      0.55      0.55        66\n",
      "\n"
     ]
    }
   ],
   "source": [
    "clf_randomforest = RandomForestClassifier()\n",
    "clf_randomforest.fit(X_train, y_train)\n",
    "\n",
    "y_pred = clf_randomforest.predict(X_test)\n",
    "print(classification_report(y_test, y_pred))"
   ]
  },
  {
   "cell_type": "markdown",
   "metadata": {},
   "source": [
    "The classification report shows that there are improvements to precision, recall and f1-score when using the random forest model over the logistic regression model."
   ]
  },
  {
   "cell_type": "code",
   "execution_count": null,
   "metadata": {},
   "outputs": [],
   "source": []
  },
  {
   "cell_type": "markdown",
   "metadata": {},
   "source": [
    "### 2.2 Resampled Model with Random Forest"
   ]
  },
  {
   "cell_type": "code",
   "execution_count": 49,
   "metadata": {},
   "outputs": [
    {
     "ename": "NameError",
     "evalue": "name 'X_resampled' is not defined",
     "output_type": "error",
     "traceback": [
      "\u001b[0;31m---------------------------------------------------------------------------\u001b[0m",
      "\u001b[0;31mNameError\u001b[0m                                 Traceback (most recent call last)",
      "\u001b[1;32m/home/salman1567/code/Data Science - Machine Learning Projects/Data Science Portfolio/Starbucks_Promotion_Analysis/Starbucks.ipynb Cell 30'\u001b[0m in \u001b[0;36m<module>\u001b[0;34m\u001b[0m\n\u001b[1;32m      <a href='vscode-notebook-cell:/home/salman1567/code/Data%20Science%20-%20Machine%20Learning%20Projects/Data%20Science%20Portfolio/Starbucks_Promotion_Analysis/Starbucks.ipynb#ch0000029?line=0'>1</a>\u001b[0m \u001b[39m# Modeling using the resampling of purchases\u001b[39;00m\n\u001b[0;32m----> <a href='vscode-notebook-cell:/home/salman1567/code/Data%20Science%20-%20Machine%20Learning%20Projects/Data%20Science%20Portfolio/Starbucks_Promotion_Analysis/Starbucks.ipynb#ch0000029?line=1'>2</a>\u001b[0m X_train, X_test, y_train, y_test \u001b[39m=\u001b[39m train_test_split(X_resampled, Y_resampled, test_size\u001b[39m=\u001b[39m\u001b[39m0.33\u001b[39m)\n\u001b[1;32m      <a href='vscode-notebook-cell:/home/salman1567/code/Data%20Science%20-%20Machine%20Learning%20Projects/Data%20Science%20Portfolio/Starbucks_Promotion_Analysis/Starbucks.ipynb#ch0000029?line=2'>3</a>\u001b[0m clf_resampled \u001b[39m=\u001b[39m RandomForestClassifier()\n\u001b[1;32m      <a href='vscode-notebook-cell:/home/salman1567/code/Data%20Science%20-%20Machine%20Learning%20Projects/Data%20Science%20Portfolio/Starbucks_Promotion_Analysis/Starbucks.ipynb#ch0000029?line=4'>5</a>\u001b[0m clf_resampled\u001b[39m.\u001b[39mfit(X_train, y_train)\n",
      "\u001b[0;31mNameError\u001b[0m: name 'X_resampled' is not defined"
     ]
    }
   ],
   "source": [
    "# Modeling using the resampling of purchases\n",
    "X_train, X_test, y_train, y_test = train_test_split(X_resampled, Y_resampled, test_size=0.33)\n",
    "clf_resampled = RandomForestClassifier()\n",
    "\n",
    "clf_resampled.fit(X_train, y_train)"
   ]
  },
  {
   "cell_type": "code",
   "execution_count": null,
   "metadata": {},
   "outputs": [
    {
     "name": "stdout",
     "output_type": "stream",
     "text": [
      "              precision    recall  f1-score   support\n",
      "\n",
      "           0       0.48      0.45      0.46        29\n",
      "           1       0.59      0.62      0.61        37\n",
      "\n",
      "    accuracy                           0.55        66\n",
      "   macro avg       0.54      0.53      0.53        66\n",
      "weighted avg       0.54      0.55      0.54        66\n",
      "\n"
     ]
    }
   ],
   "source": [
    "y_pred = clf_resampled.predict(X_test)\n",
    "print(classification_report(y_test, y_pred))"
   ]
  },
  {
   "cell_type": "code",
   "execution_count": null,
   "metadata": {},
   "outputs": [],
   "source": [
    "# TODO: Implement only using samples from successful purchases for optimizing promotion strategy"
   ]
  },
  {
   "cell_type": "code",
   "execution_count": null,
   "metadata": {},
   "outputs": [
    {
     "data": {
      "text/plain": [
       "BalancedRandomForestClassifier()"
      ]
     },
     "execution_count": 1010,
     "metadata": {},
     "output_type": "execute_result"
    }
   ],
   "source": [
    "# Using imblearn to handle imbalanced\n",
    "from imblearn.ensemble import BalancedRandomForestClassifier\n",
    "\n",
    "\n",
    "X_train, X_test, y_train, y_test = train_test_split(X, Y, test_size=0.33)\n",
    "clf_resampled = BalancedRandomForestClassifier()\n",
    "\n",
    "clf_resampled.fit(X_train, y_train)"
   ]
  },
  {
   "cell_type": "code",
   "execution_count": null,
   "metadata": {},
   "outputs": [
    {
     "name": "stdout",
     "output_type": "stream",
     "text": [
      "              precision    recall  f1-score   support\n",
      "\n",
      "           0       0.49      0.53      0.51        32\n",
      "           1       0.52      0.47      0.49        34\n",
      "\n",
      "    accuracy                           0.50        66\n",
      "   macro avg       0.50      0.50      0.50        66\n",
      "weighted avg       0.50      0.50      0.50        66\n",
      "\n"
     ]
    }
   ],
   "source": [
    "y_pred = clf_resampled.predict(X_test)\n",
    "print(classification_report(y_test, y_pred))"
   ]
  },
  {
   "cell_type": "code",
   "execution_count": null,
   "metadata": {},
   "outputs": [],
   "source": []
  },
  {
   "cell_type": "code",
   "execution_count": null,
   "metadata": {},
   "outputs": [],
   "source": [
    "def promotion_strategy(df):\n",
    "    '''\n",
    "    INPUT \n",
    "    df - a dataframe with *only* the columns V1 - V7 (same as train_data)\n",
    "\n",
    "    OUTPUT\n",
    "    promotion_df - np.array with the values\n",
    "                   'Yes' or 'No' related to whether or not an \n",
    "                   individual should recieve a promotion \n",
    "                   should be the length of df.shape[0]\n",
    "                \n",
    "    Ex:\n",
    "    INPUT: df\n",
    "    \n",
    "    V1\tV2\t  V3\tV4\tV5\tV6\tV7\n",
    "    2\t30\t-1.1\t1\t1\t3\t2\n",
    "    3\t32\t-0.6\t2\t3\t2\t2\n",
    "    2\t30\t0.13\t1\t1\t4\t2\n",
    "    \n",
    "    OUTPUT: promotion\n",
    "    \n",
    "    array(['Yes', 'Yes', 'No'])\n",
    "    indicating the first two users would recieve the promotion and \n",
    "    the last should not.\n",
    "    '''\n",
    "    # Load data\n",
    "    train_data = pd.read_csv('./data/training.csv')\n",
    "    train_data[\"Promotion\"] = train_data[\"Promotion\"].replace({\"No\": 0, \"Yes\": 1})\n",
    "    \n",
    "    # Split and scale``\n",
    "    # X = train_data.iloc[:,3:]\n",
    "    # Y = train_data[\"Promotion\"]\n",
    "    \n",
    "    # min_max_scaler = MinMaxScaler()\n",
    "    # X = min_max_scaler.fit_transform(X)\n",
    "    \n",
    "    X_train, X_test, y_train, y_test = train_test_split(X, Y, test_size=0.33)\n",
    "    clf_resampled = BalancedRandomForestClassifier()\n",
    "\n",
    "    clf_resampled.fit(X_train, y_train)\n",
    "    # Predictions\n",
    "    promotion = clf_resampled.predict(df)\n",
    "    promotion = np.array(promotion)\n",
    "    promotion = np.where(promotion==0, \"No\", \"Yes\")\n",
    "    \n",
    "    print(promotion)\n",
    "    return promotion"
   ]
  },
  {
   "cell_type": "code",
   "execution_count": null,
   "metadata": {},
   "outputs": [
    {
     "name": "stdout",
     "output_type": "stream",
     "text": [
      "['No' 'No' 'No' ... 'No' 'No' 'No']\n",
      "Nice job!  See how well your strategy worked on our test data below!\n",
      "\n",
      "Your irr with this strategy is 0.05.\n",
      "\n",
      "Your nir with this strategy is 21.75.\n",
      "Approximately, the highest scores obtained at Udacity were: irr of 0.1 and an nir of 300.\n",
      "\n",
      " How did you do?\n"
     ]
    },
    {
     "name": "stderr",
     "output_type": "stream",
     "text": [
      "/home/salman1567/code/Data Science - Machine Learning Projects/Data Science Portfolio/NYC_Airbnb/env/lib/python3.10/site-packages/sklearn/base.py:443: UserWarning: X has feature names, but BalancedRandomForestClassifier was fitted without feature names\n",
      "  warnings.warn(\n"
     ]
    },
    {
     "data": {
      "text/plain": [
       "(0.05454545454545454, 21.75)"
      ]
     },
     "execution_count": 1013,
     "metadata": {},
     "output_type": "execute_result"
    }
   ],
   "source": [
    "# This will test your results, and provide you back some information \n",
    "# on how well your promotion_strategy will work in practice\n",
    "\n",
    "test_results(promotion_strategy)"
   ]
  },
  {
   "cell_type": "markdown",
   "metadata": {},
   "source": [
    "There is a lot of variance with this model. The highest IRR and NIR Achieved was 0.05 and 21.75. While this is better then the IRR and NIR of the training dataset it can further be improved. Other methods to look into potentially is better imbalanced data handling. Purhaps feature engineering could be implemented or better data can be used. We could also improve our model accuracy just by hacking around with the random state as there is a lot of variance with our model."
   ]
  }
 ],
 "metadata": {
  "kernelspec": {
   "display_name": "Python 3",
   "language": "python",
   "name": "python3"
  },
  "language_info": {
   "codemirror_mode": {
    "name": "ipython",
    "version": 3
   },
   "file_extension": ".py",
   "mimetype": "text/x-python",
   "name": "python",
   "nbconvert_exporter": "python",
   "pygments_lexer": "ipython3",
   "version": "3.10.4"
  }
 },
 "nbformat": 4,
 "nbformat_minor": 2
}
