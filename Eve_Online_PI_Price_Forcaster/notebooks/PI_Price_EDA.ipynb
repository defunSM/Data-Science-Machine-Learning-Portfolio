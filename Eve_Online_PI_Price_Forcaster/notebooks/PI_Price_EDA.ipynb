{
 "cells": [
  {
   "cell_type": "markdown",
   "metadata": {},
   "source": [
    "## Imports"
   ]
  },
  {
   "cell_type": "code",
   "execution_count": null,
   "metadata": {},
   "outputs": [],
   "source": [
    "\n",
    "import psycopg2\n",
    "import os\n",
    "from os import path\n",
    "from dotenv import load_dotenv, find_dotenv\n",
    "\n",
    "\n",
    "\"\"\"---------------------- env constants --------------------------\"\"\"\n",
    "\n",
    "# find .env by walking up directories until it's found\n",
    "dotenv_path = find_dotenv()\n",
    "\n",
    "# load up the entries as environment variables\n",
    "load_dotenv(dotenv_path)\n",
    "\n",
    "\"\"\"---------------------- database constants --------------------------\"\"\"\n",
    "\n",
    "DATABASE_URL = os.environ.get('DATABASE_URL')\n",
    "DATABASE_NAME = os.environ.get(\"DATABASE_NAME\")\n",
    "DATABASE_USER = os.environ.get(\"DATABASE_USER\")\n",
    "DATABASE_PASSWORD = os.environ.get(\"DATABASE_PASSWORD\")\n",
    "\n",
    "\"\"\"---------------------- filepath and id constants --------------------------\"\"\"\n",
    "\n",
    "# Filepath that contains the items that we are interested in forcasting\n",
    "FILENAME = 'data/items.txt'\n",
    "\n",
    "# region ids that will be used in the function collect_data \n",
    "REGIONS = [0, 30000142, 30000144, 60003760, 60008494, 60011866, 60004588, 60005686]"
   ]
  },
  {
   "cell_type": "markdown",
   "metadata": {},
   "source": [
    "## Table of Contents\n",
    "\n",
    "1. [Data Collection](#data-collection)\n",
    "2. [Preprocessing](#preprocessing)"
   ]
  },
  {
   "cell_type": "markdown",
   "metadata": {},
   "source": [
    "## Data Collection"
   ]
  },
  {
   "cell_type": "code",
   "execution_count": null,
   "metadata": {},
   "outputs": [],
   "source": [
    "# List of Raw Material Items we are interested in tracking the price through the API\n",
    "def get_item_names():\n",
    "    \"\"\" Return a list of item names of interest from FILENAME\n",
    "\n",
    "    Returns:\n",
    "        item_names: item names of interest for forcast\n",
    "    \"\"\"\n",
    "    \n",
    "    \n",
    "    # List that will be returned after it has been populated\n",
    "    item_names = []\n",
    "    \n",
    "    if path.exists(FILENAME):\n",
    "        \n",
    "        file = open(FILENAME, \"r\")\n",
    "        \n",
    "        # Read each line from FILENAME and append each item name into the list\n",
    "        for item in file.readlines():\n",
    "            item_names.append(item)\n",
    "            \n",
    "        file.close()\n",
    "    else:\n",
    "        print(FILENAME, \"does not exist.\")\n",
    "    \n",
    "    # Make sure that the item names are not repeated\n",
    "    item_names = list(set(item_names))\n",
    "    \n",
    "    return item_names\n",
    "\n",
    "def get_item_id(item_name=None):\n",
    "    \"\"\" Returns the item ID from using the API endpoint https://www.fuzzwork.co.uk/api/typeid.php?typename=Silicon\n",
    "\n",
    "    Args:\n",
    "        item_name (_type_, optional): _description_. Defaults to None.\n",
    "\n",
    "    Returns:\n",
    "        list: A list of ids that are of type int\n",
    "    \"\"\"\n",
    "    item_id = None\n",
    "    \n",
    "    if item_id:\n",
    "        return item_id"
   ]
  },
  {
   "cell_type": "code",
   "execution_count": null,
   "metadata": {},
   "outputs": [],
   "source": [
    "def collect_data(regions=REGIONS, connection=conn):\n",
    "    \"\"\" GET Requests the Eve Online API endpoint https://market.fuzzwork.co.uk/aggregates/?region=30000142&types=9828 \n",
    "    which takes two params region and types. \n",
    "    \n",
    "    Region: The location that the markets are located in\n",
    "    - There are 7 Regions\n",
    "        - Global - 0\n",
    "        - Jita - 30000142\n",
    "        - Perimeter - 30000144\n",
    "        - Jita 4-4 CNAP - 60003760\n",
    "        - Amarr VIII - 60008494\n",
    "        - Dodixie - 60011866\n",
    "        - Rens - 60004588\n",
    "        - Hek - 60005686\n",
    "        \n",
    "    Types: The ID of the item, List of IDs: https://docs.google.com/spreadsheets/d/1X7mi7j-_yV5lq-Yd2BraE-t4QE_a4IKv2ZuCBSLD6QU/edit?usp=sharing\n",
    "\n",
    "        \n",
    "    Args:\n",
    "        connection (_type_, optional): _description_. Defaults to conn.\n",
    "    \"\"\"\n",
    "    \n",
    "    \n",
    "    \n",
    "    item_names = get_item_names()\n",
    "    item_ids = [ get_item_id(i) for i in item_names ]\n",
    "    \n",
    "    # Store the json into the raw_market_data\n",
    "    \n",
    "    \n",
    "    "
   ]
  },
  {
   "cell_type": "markdown",
   "metadata": {},
   "source": [
    "## Preprocessing"
   ]
  }
 ],
 "metadata": {
  "interpreter": {
   "hash": "5e421c40ca6ec0832df0f1983de2719ce27ef5fd59aba882704d6c9c14579863"
  },
  "kernelspec": {
   "display_name": "Python 3.10.2 64-bit ('env': venv)",
   "language": "python",
   "name": "python3"
  },
  "language_info": {
   "name": "python",
   "version": "3.10.4"
  },
  "orig_nbformat": 4
 },
 "nbformat": 4,
 "nbformat_minor": 2
}
