{
 "cells": [
  {
   "cell_type": "markdown",
   "metadata": {},
   "source": [
    "## Imports"
   ]
  },
  {
   "cell_type": "code",
   "execution_count": 3,
   "metadata": {},
   "outputs": [],
   "source": [
    "import psycopg2\n",
    "import os\n",
    "import requests\n",
    "import json\n",
    "from os import path\n",
    "from dotenv import load_dotenv, find_dotenv\n",
    "from datetime import datetime\n",
    "from alive_progress import alive_bar\n",
    "\n",
    "\"\"\"---------------------- env constants --------------------------\"\"\"\n",
    "\n",
    "# find .env by walking up directories until it's found\n",
    "dotenv_path = find_dotenv()\n",
    "\n",
    "# load up the entries as environment variables\n",
    "load_dotenv(dotenv_path)\n",
    "\n",
    "\"\"\"---------------------- database constants --------------------------\"\"\"\n",
    "\n",
    "DATABASE_URL = os.environ.get('DATABASE_URL')\n",
    "DATABASE_NAME = os.environ.get(\"DATABASE_NAME\")\n",
    "DATABASE_USER = os.environ.get(\"DATABASE_USER\")\n",
    "DATABASE_PASSWORD = os.environ.get(\"DATABASE_PASSWORD\")\n",
    "DATABASE_PORT = os.environ.get(\"DATABASE_PORT\")\n",
    "\n",
    "\"\"\"---------------------- filepath and id constants --------------------------\"\"\"\n",
    "\n",
    "# Filepath that contains the items that we are interested in forcasting\n",
    "FILENAME = '../src/data/items.txt'\n",
    "\n",
    "# region ids that will be used in the function collect_data \n",
    "REGIONS = [0, 30000142, 30000144, 60003760, 60008494, 60011866, 60004588, 60005686]"
   ]
  },
  {
   "cell_type": "code",
   "execution_count": 2,
   "metadata": {},
   "outputs": [],
   "source": [
    "#!/usr/bin/python\n",
    "\n",
    "import psycopg2\n",
    "import os\n",
    "from dotenv import load_dotenv, find_dotenv\n",
    "\n",
    "# find .env by walking up directories until it's found\n",
    "dotenv_path = find_dotenv()\n",
    "\n",
    "# load up the entries as environment variables\n",
    "load_dotenv(dotenv_path)\n",
    "\n",
    "DATABASE_URL = os.environ.get('DATABASE_URL')\n",
    "DATABASE_NAME = os.environ.get(\"DATABASE_NAME\")\n",
    "DATABASE_USER = os.environ.get(\"DATABASE_USER\")\n",
    "DATABASE_PASSWORD = os.environ.get(\"DATABASE_PASSWORD\")\n",
    "\n",
    "\n",
    "def create_tables():\n",
    "    \"\"\" create tables in the PostgreSQL database\"\"\"\n",
    "    command = (\n",
    "        \"\"\"\n",
    "        CREATE TABLE raw_market_data (\n",
    "            id SERIAL PRIMARY KEY,\n",
    "            time TIMESTAMP,\n",
    "            data JSON\n",
    "        )\n",
    "        \"\"\")\n",
    "    \n",
    "    conn = psycopg2.connect(host=DATABASE_URL,\n",
    "                            database=DATABASE_NAME,\n",
    "                            user=DATABASE_USER,\n",
    "                            password=DATABASE_PASSWORD,\n",
    "                            port=DATABASE_PORT)\n",
    "    try:\n",
    "\n",
    "        # connect to the PostgreSQL server\n",
    "        cur = conn.cursor()\n",
    "        \n",
    "        # create table one by one\n",
    "        cur.execute(command)\n",
    "        # close communication with the PostgreSQL database server\n",
    "        cur.close()\n",
    "        # commit the changes\n",
    "        conn.commit()\n",
    "        \n",
    "        print(\"Table created successfully\")\n",
    "        \n",
    "    except (Exception, psycopg2.DatabaseError) as error:\n",
    "        print(error)\n",
    "    finally:\n",
    "        if conn is not None:\n",
    "            conn.close()"
   ]
  },
  {
   "cell_type": "code",
   "execution_count": 7,
   "metadata": {},
   "outputs": [
    {
     "name": "stdout",
     "output_type": "stream",
     "text": [
      "Table created successfully\n"
     ]
    }
   ],
   "source": [
    "#create_tables()"
   ]
  },
  {
   "cell_type": "markdown",
   "metadata": {},
   "source": [
    "## Table of Contents\n",
    "\n",
    "1. [Data Collection](#data-collection)\n",
    "2. [Preprocessing](#preprocessing)"
   ]
  },
  {
   "cell_type": "markdown",
   "metadata": {},
   "source": [
    "## Data Collection"
   ]
  },
  {
   "cell_type": "code",
   "execution_count": 6,
   "metadata": {},
   "outputs": [],
   "source": [
    "def get_raw_material_names():\n",
    "    \"\"\" Return a list of raw material names from from FILENAME\n",
    "\n",
    "    Returns:\n",
    "        raw_material_names: item names of interest for forcast\n",
    "    \"\"\"\n",
    "    \n",
    "    \n",
    "    # List that will be returned after it has been populated\n",
    "    raw_material_names = []\n",
    "    \n",
    "    if path.exists(FILENAME):\n",
    "        \n",
    "        file = open(FILENAME, \"r\")\n",
    "        \n",
    "        # Read each line from FILENAME and append each item name into the list\n",
    "        for item in file.readlines():\n",
    "            raw_material_names.append(item.strip('\\n'))\n",
    "\n",
    "        file.close()\n",
    "        \n",
    "    else:\n",
    "        print(FILENAME, \"does not exist.\")\n",
    "    \n",
    "    # Make sure that the item names are not repeated\n",
    "    raw_material_names = list(set(raw_material_names))\n",
    "    \n",
    "    return raw_material_names\n",
    "\n",
    "def get_item_id(item_name=None):\n",
    "    \"\"\" Returns the item ID from using the API endpoint https://www.fuzzwork.co.uk/api/typeid.php?typename=Silicon\n",
    "\n",
    "    Args:\n",
    "        item_name (string): Name of the raw material. Defaults to None.\n",
    "\n",
    "    Returns:\n",
    "        int: ids that are of type int\n",
    "    \"\"\"\n",
    "    \n",
    "    item_id = None\n",
    "    \n",
    "    api_url = \"https://www.fuzzwork.co.uk/api/typeid.php?typename=\" + item_name\n",
    "    r = requests.get(api_url)\n",
    "    item_id = r.json()['typeID']\n",
    "    \n",
    "    if item_id:\n",
    "        return item_id\n",
    "    \n",
    "def fetch_data(region_id, item_id):\n",
    "    \"\"\" Returns JSON given an input of the region and item from an API\n",
    "\n",
    "    Args:\n",
    "        region_id (int): id that is assigned to each major market region.\n",
    "        item_id (int): id that is assigned to each raw material.\n",
    "\n",
    "    Returns:\n",
    "        dict: JSON Data from https://market.fuzzwork.co.uk/aggregates/?region=30000142&types=9828\n",
    "    \"\"\"\n",
    "    \n",
    "    api_url = \"https://market.fuzzwork.co.uk/aggregates/?region=\" + str(region_id) + \"&types=\" + str(item_id)\n",
    "    r = requests.get(api_url)\n",
    "    \n",
    "    # encoding as json\n",
    "    raw_material_data = r.json()\n",
    "    \n",
    "    return raw_material_data"
   ]
  },
  {
   "cell_type": "code",
   "execution_count": 24,
   "metadata": {},
   "outputs": [
    {
     "name": "stdout",
     "output_type": "stream",
     "text": [
      "{'buy': {'weightedAverage': '0.635268011252', 'max': '1.38', 'min': '0.01', 'stddev': '0.53276470913', 'median': '0.92', 'volume': '709540043.0', 'orderCount': '18', 'percentile': '1.38'}, 'sell': {'weightedAverage': '4.24927857003', 'max': '150.0', 'min': '1.0', 'stddev': '21.9770924539', 'median': '2.72', 'volume': '319974773.0', 'orderCount': '45', 'percentile': '1.8641616903'}}\n",
      "{'buy': {'weightedAverage': '344.378438957', 'max': '600.0', 'min': '0.01', 'stddev': '169.534536467', 'median': '386.4', 'volume': '19499124.0', 'orderCount': '83', 'percentile': '547.615833122'}, 'sell': {'weightedAverage': '610.52940589', 'max': '5916.0', 'min': '200.0', 'stddev': '614.256526942', 'median': '599.55', 'volume': '8238744.0', 'orderCount': '82', 'percentile': '344.968270892'}}\n"
     ]
    }
   ],
   "source": [
    "# Testing the functions defined above\n",
    "D1 = {}\n",
    "D2 = fetch_data(0, 2073)\n",
    "D3 = fetch_data(0, 9828)\n",
    "\n",
    "D1.update(D2)\n",
    "D1.update(D3)\n",
    "for i in D1:\n",
    "    print(D1[i])"
   ]
  },
  {
   "cell_type": "code",
   "execution_count": 9,
   "metadata": {},
   "outputs": [
    {
     "name": "stdout",
     "output_type": "stream",
     "text": [
      "Fetching data...\n",
      "|████████████████████████████████████████| 664/664 [100%] in 3:45.5 (2.94/s)                                            \n",
      "{'2287': {'buy': {'weightedAverage': '1.20714078562', 'max': '1.21', 'min': '1.2', 'stddev': '0.00707106781187', 'median': '1.205', 'volume': '8899581.0', 'orderCount': '2', 'percentile': '1.21'}, 'sell': {'weightedAverage': '12.947443321', 'max': '13.0', 'min': '12.94', 'stddev': '0.0321455025366', 'median': '12.95', 'volume': '6775352.0', 'orderCount': '3', 'percentile': '12.94'}}, '2361': {'buy': {'weightedAverage': '30100.0', 'max': '30100.0', 'min': '42.0', 'stddev': '21254.2156289', 'median': '15071.0', 'volume': '199.0', 'orderCount': '2', 'percentile': '30100.0'}, 'sell': {'weightedAverage': 0, 'max': 0, 'min': 0, 'stddev': 0, 'median': 0, 'volume': 0, 'orderCount': 0, 'percentile': 0}}, '2399': {'buy': {'weightedAverage': '430.986975834', 'max': '600.0', 'min': '420.4', 'stddev': '126.996377901', 'median': '510.2', 'volume': '212528.0', 'orderCount': '2', 'percentile': '600.0'}, 'sell': {'weightedAverage': '1349.20946354', 'max': '1699.0', 'min': '1349.0', 'stddev': '247.487373415', 'median': '1524.0', 'volume': '902305.0', 'orderCount': '2', 'percentile': '1349.0'}}, '2876': {'buy': {'weightedAverage': '205445.0', 'max': '251400.0', 'min': '129000.0', 'stddev': '61116.9030084', 'median': '251150.0', 'volume': '80.0', 'orderCount': '4', 'percentile': '251400.0'}, 'sell': {'weightedAverage': '1718875.68556', 'max': '2249000.0', 'min': '1575000.0', 'stddev': '236186.871132', 'median': '1875000.0', 'volume': '547.0', 'orderCount': '7', 'percentile': '1575000.0'}}, '2868': {'buy': {'weightedAverage': '761327.272727', 'max': '907200.0', 'min': '1600.0', 'stddev': '455980.577437', 'median': '906700.0', 'volume': '154.0', 'orderCount': '5', 'percentile': '907200.0'}, 'sell': {'weightedAverage': 0, 'max': 0, 'min': 0, 'stddev': 0, 'median': 0, 'volume': 0, 'orderCount': 0, 'percentile': 0}}, '44': {'buy': {'weightedAverage': 0, 'max': 0, 'min': 0, 'stddev': 0, 'median': 0, 'volume': 0, 'orderCount': 0, 'percentile': 0}, 'sell': {'weightedAverage': '11748.2813456', 'max': '15000.0', 'min': '10940.0', 'stddev': '1906.36652649', 'median': '11500.0', 'volume': '9810.0', 'orderCount': '4', 'percentile': '10940.0'}}, '9842': {'buy': {'weightedAverage': '1482.1929519', 'max': '2202.0', 'min': '42.0', 'stddev': '1527.35064736', 'median': '1122.0', 'volume': '7463.0', 'orderCount': '2', 'percentile': '2202.0'}, 'sell': {'weightedAverage': '10824.2084187', 'max': '11300.0', 'min': '9990.0', 'stddev': '678.00565386', 'median': '10500.0', 'volume': '53191.0', 'orderCount': '4', 'percentile': '9990.0'}}, '9830': {'buy': {'weightedAverage': 0, 'max': 0, 'min': 0, 'stddev': 0, 'median': 0, 'volume': 0, 'orderCount': 0, 'percentile': 0}, 'sell': {'weightedAverage': '9962.68939027', 'max': '10290.0', 'min': '9500.0', 'stddev': '223.683090554', 'median': '9995.0', 'volume': '41264.0', 'orderCount': '8', 'percentile': '9865.2481582'}}, '2310': {'buy': {'weightedAverage': '1.04346677455', 'max': '1.1', 'min': '1.0', 'stddev': '0.0707106781187', 'median': '1.05', 'volume': '17688713.0', 'orderCount': '2', 'percentile': '1.1'}, 'sell': {'weightedAverage': 0, 'max': 0, 'min': 0, 'stddev': 0, 'median': 0, 'volume': 0, 'orderCount': 0, 'percentile': 0}}, '2344': {'buy': {'weightedAverage': 0, 'max': 0, 'min': 0, 'stddev': 0, 'median': 0, 'volume': 0, 'orderCount': 0, 'percentile': 0}, 'sell': {'weightedAverage': 0, 'max': 0, 'min': 0, 'stddev': 0, 'median': 0, 'volume': 0, 'orderCount': 0, 'percentile': 0}}, '2319': {'buy': {'weightedAverage': '4899.78925184', 'max': '5600.0', 'min': '4000.0', 'stddev': '1131.3708499', 'median': '4800.0', 'volume': '15184.0', 'orderCount': '2', 'percentile': '5600.0'}, 'sell': {'weightedAverage': '8050.26915498', 'max': '8990.0', 'min': '6590.0', 'stddev': '1087.05149482', 'median': '6900.0', 'volume': '70034.0', 'orderCount': '7', 'percentile': '6590.0'}}, '3779': {'buy': {'weightedAverage': '105.958653162', 'max': '111.0', 'min': '104.8', 'stddev': '3.3501243758', 'median': '105.7', 'volume': '184239.0', 'orderCount': '3', 'percentile': '111.0'}, 'sell': {'weightedAverage': '600.0', 'max': '600.0', 'min': '600.0', 'stddev': '0.01', 'median': '600.0', 'volume': '45422.0', 'orderCount': '1', 'percentile': '600.0'}}, '2267': {'buy': {'weightedAverage': 0, 'max': 0, 'min': 0, 'stddev': 0, 'median': 0, 'volume': 0, 'orderCount': 0, 'percentile': 0}, 'sell': {'weightedAverage': '4.04719556203', 'max': '14.0', 'min': '4.0', 'stddev': '5.02692749102', 'median': '9.9', 'volume': '1216233.0', 'orderCount': '3', 'percentile': '4.0'}}, '3725': {'buy': {'weightedAverage': 0, 'max': 0, 'min': 0, 'stddev': 0, 'median': 0, 'volume': 0, 'orderCount': 0, 'percentile': 0}, 'sell': {'weightedAverage': 0, 'max': 0, 'min': 0, 'stddev': 0, 'median': 0, 'volume': 0, 'orderCount': 0, 'percentile': 0}}, '2348': {'buy': {'weightedAverage': '68804.856571', 'max': '80000.0', 'min': '62010.0', 'stddev': '10377.8819291', 'median': '62040.0', 'volume': '1499.0', 'orderCount': '3', 'percentile': '80000.0'}, 'sell': {'weightedAverage': '128000.0', 'max': '128000.0', 'min': '128000.0', 'stddev': '0.01', 'median': '128000.0', 'volume': '306.0', 'orderCount': '1', 'percentile': '128000.0'}}, '3775': {'buy': {'weightedAverage': '5000.0', 'max': '5000.0', 'min': '7.0', 'stddev': '3530.58415846', 'median': '2503.5', 'volume': '2145.0', 'orderCount': '2', 'percentile': '5000.0'}, 'sell': {'weightedAverage': '10010.2924064', 'max': '10080.0', 'min': '10000.0', 'stddev': '33.040379336', 'median': '10045.0', 'volume': '59985.0', 'orderCount': '4', 'percentile': '10000.0'}}, '2360': {'buy': {'weightedAverage': '50.0', 'max': '50.0', 'min': '50.0', 'stddev': '0.01', 'median': '50.0', 'volume': '10000.0', 'orderCount': '1', 'percentile': '50.0'}, 'sell': {'weightedAverage': '49900.0', 'max': '49900.0', 'min': '49900.0', 'stddev': '0.01', 'median': '49900.0', 'volume': '27.0', 'orderCount': '1', 'percentile': '49900.0'}}, '2305': {'buy': {'weightedAverage': '0.26', 'max': '0.5', 'min': '0.02', 'stddev': '0.33941125497', 'median': '0.26', 'volume': '20000000.0', 'orderCount': '2', 'percentile': '0.5'}, 'sell': {'weightedAverage': 0, 'max': 0, 'min': 0, 'stddev': 0, 'median': 0, 'volume': 0, 'orderCount': 0, 'percentile': 0}}, '3689': {'buy': {'weightedAverage': '6584.16666667', 'max': '7000.0', 'min': '6501.0', 'stddev': '352.846283812', 'median': '6750.5', 'volume': '6000.0', 'orderCount': '2', 'percentile': '7000.0'}, 'sell': {'weightedAverage': 0, 'max': 0, 'min': 0, 'stddev': 0, 'median': 0, 'volume': 0, 'orderCount': 0, 'percentile': 0}}, '2327': {'buy': {'weightedAverage': '5350.0', 'max': '5350.0', 'min': '5350.0', 'stddev': '0.01', 'median': '5350.0', 'volume': '120.0', 'orderCount': '1', 'percentile': '5350.0'}, 'sell': {'weightedAverage': '12058.1196581', 'max': '12100.0', 'min': '11120.0', 'stddev': '692.964645563', 'median': '11610.0', 'volume': '9360.0', 'orderCount': '2', 'percentile': '11262.3931624'}}, '2401': {'buy': {'weightedAverage': '485.0', 'max': '485.0', 'min': '485.0', 'stddev': '0.01', 'median': '485.0', 'volume': '150180.0', 'orderCount': '1', 'percentile': '485.0'}, 'sell': {'weightedAverage': 0, 'max': 0, 'min': 0, 'stddev': 0, 'median': 0, 'volume': 0, 'orderCount': 0, 'percentile': 0}}, '2328': {'buy': {'weightedAverage': '2087.50658695', 'max': '3002.0', 'min': '42.0', 'stddev': '1571.84488208', 'median': '605.0', 'volume': '39472.0', 'orderCount': '3', 'percentile': '3002.0'}, 'sell': {'weightedAverage': '6558.2984593', 'max': '7706.0', 'min': '6499.0', 'stddev': '541.832446426', 'median': '7002.0', 'volume': '61985.0', 'orderCount': '6', 'percentile': '6499.82253771'}}, '2397': {'buy': {'weightedAverage': '365.1', 'max': '365.1', 'min': '365.1', 'stddev': '0.01', 'median': '365.1', 'volume': '102582.0', 'orderCount': '1', 'percentile': '365.1'}, 'sell': {'weightedAverage': '599.0', 'max': '599.0', 'min': '599.0', 'stddev': '0.01', 'median': '599.0', 'volume': '2040.0', 'orderCount': '1', 'percentile': '599.0'}}, '2272': {'buy': {'weightedAverage': '0.37', 'max': '0.37', 'min': '0.37', 'stddev': '0.01', 'median': '0.37', 'volume': '5376001.0', 'orderCount': '1', 'percentile': '0.37'}, 'sell': {'weightedAverage': 0, 'max': 0, 'min': 0, 'stddev': 0, 'median': 0, 'volume': 0, 'orderCount': 0, 'percentile': 0}}, '2351': {'buy': {'weightedAverage': '35879.0113285', 'max': '36000.0', 'min': '100.0', 'stddev': '17878.6210784', 'median': '35785.0', 'volume': '971.0', 'orderCount': '4', 'percentile': '36000.0'}, 'sell': {'weightedAverage': '80000.0', 'max': '80000.0', 'min': '80000.0', 'stddev': '0.01', 'median': '80000.0', 'volume': '768.0', 'orderCount': '1', 'percentile': '80000.0'}}, '2345': {'buy': {'weightedAverage': '26000.0', 'max': '26000.0', 'min': '26000.0', 'stddev': '0.01', 'median': '26000.0', 'volume': '988.0', 'orderCount': '1', 'percentile': '26000.0'}, 'sell': {'weightedAverage': 0, 'max': 0, 'min': 0, 'stddev': 0, 'median': 0, 'volume': 0, 'orderCount': 0, 'percentile': 0}}, '9838': {'buy': {'weightedAverage': 0, 'max': 0, 'min': 0, 'stddev': 0, 'median': 0, 'volume': 0, 'orderCount': 0, 'percentile': 0}, 'sell': {'weightedAverage': '8199.09104965', 'max': '8200.0', 'min': '8198.0', 'stddev': '1.0', 'median': '8199.0', 'volume': '5821.0', 'orderCount': '3', 'percentile': '8198.0'}}, '2352': {'buy': {'weightedAverage': '41000.0', 'max': '41000.0', 'min': '41000.0', 'stddev': '0.01', 'median': '41000.0', 'volume': '811.0', 'orderCount': '1', 'percentile': '41000.0'}, 'sell': {'weightedAverage': 0, 'max': 0, 'min': 0, 'stddev': 0, 'median': 0, 'volume': 0, 'orderCount': 0, 'percentile': 0}}, '2270': {'buy': {'weightedAverage': '1.09724447479', 'max': '1.58', 'min': '0.3', 'stddev': '0.657368491284', 'median': '1.2', 'volume': '35203474.0', 'orderCount': '3', 'percentile': '1.58'}, 'sell': {'weightedAverage': '4.8', 'max': '4.8', 'min': '4.8', 'stddev': '0.01', 'median': '4.8', 'volume': '2305652.0', 'orderCount': '1', 'percentile': '4.8'}}, '3697': {'buy': {'weightedAverage': 0, 'max': 0, 'min': 0, 'stddev': 0, 'median': 0, 'volume': 0, 'orderCount': 0, 'percentile': 0}, 'sell': {'weightedAverage': 0, 'max': 0, 'min': 0, 'stddev': 0, 'median': 0, 'volume': 0, 'orderCount': 0, 'percentile': 0}}, '15317': {'buy': {'weightedAverage': 0, 'max': 0, 'min': 0, 'stddev': 0, 'median': 0, 'volume': 0, 'orderCount': 0, 'percentile': 0}, 'sell': {'weightedAverage': '7799.99947396', 'max': '7800.0', 'min': '7799.0', 'stddev': '0.707106781187', 'median': '7799.5', 'volume': '1901.0', 'orderCount': '2', 'percentile': '7799.98947922'}}, '3691': {'buy': {'weightedAverage': '6006.92312392', 'max': '6600.0', 'min': '5752.0', 'stddev': '426.264393696', 'median': '6100.0', 'volume': '29463.0', 'orderCount': '3', 'percentile': '6600.0'}, 'sell': {'weightedAverage': '8593.61437191', 'max': '8595.0', 'min': '8593.0', 'stddev': '1.0', 'median': '8594.0', 'volume': '5469.0', 'orderCount': '3', 'percentile': '8593.0'}}, '2463': {'buy': {'weightedAverage': 0, 'max': 0, 'min': 0, 'stddev': 0, 'median': 0, 'volume': 0, 'orderCount': 0, 'percentile': 0}, 'sell': {'weightedAverage': '5989.0', 'max': '5989.0', 'min': '5989.0', 'stddev': '0.01', 'median': '5989.0', 'volume': '835.0', 'orderCount': '1', 'percentile': '5989.0'}}, '2308': {'buy': {'weightedAverage': '0.643513922952', 'max': '0.74', 'min': '0.45', 'stddev': '0.164620776332', 'median': '0.73', 'volume': '25656772.0', 'orderCount': '3', 'percentile': '0.74'}, 'sell': {'weightedAverage': '2.49404434802', 'max': '3.9', 'min': '1.95', 'stddev': '1.11168040971', 'median': '2.0', 'volume': '1489266.0', 'orderCount': '3', 'percentile': '1.95'}}, '2073': {'buy': {'weightedAverage': '1.0', 'max': '1.0', 'min': '1.0', 'stddev': '0.01', 'median': '1.0', 'volume': '13060062.0', 'orderCount': '1', 'percentile': '1.0'}, 'sell': {'weightedAverage': '2.07141996742', 'max': '2.1', 'min': '2.0', 'stddev': '0.0707106781187', 'median': '2.05', 'volume': '791990.0', 'orderCount': '2', 'percentile': '2.0'}}, '9840': {'buy': {'weightedAverage': '42.0', 'max': '42.0', 'min': '42.0', 'stddev': '0.01', 'median': '42.0', 'volume': '2265.0', 'orderCount': '1', 'percentile': '42.0'}, 'sell': {'weightedAverage': '8716.70201407', 'max': '10050.0', 'min': '8300.0', 'stddev': '694.385267701', 'median': '9400.0', 'volume': '111267.0', 'orderCount': '10', 'percentile': '8300.0'}}, '3695': {'buy': {'weightedAverage': '1000.0', 'max': '1000.0', 'min': '8.0', 'stddev': '701.449926937', 'median': '504.0', 'volume': '5000.0', 'orderCount': '2', 'percentile': '1000.0'}, 'sell': {'weightedAverage': '5013.07875091', 'max': '6990.0', 'min': '4989.0', 'stddev': '691.720203034', 'median': '5794.5', 'volume': '172125.0', 'orderCount': '8', 'percentile': '4989.95526507'}}, '2354': {'buy': {'weightedAverage': '71.0', 'max': '71.0', 'min': '71.0', 'stddev': '0.01', 'median': '71.0', 'volume': '10000.0', 'orderCount': '1', 'percentile': '71.0'}, 'sell': {'weightedAverage': 0, 'max': 0, 'min': 0, 'stddev': 0, 'median': 0, 'volume': 0, 'orderCount': 0, 'percentile': 0}}, '9846': {'buy': {'weightedAverage': 0, 'max': 0, 'min': 0, 'stddev': 0, 'median': 0, 'volume': 0, 'orderCount': 0, 'percentile': 0}, 'sell': {'weightedAverage': 0, 'max': 0, 'min': 0, 'stddev': 0, 'median': 0, 'volume': 0, 'orderCount': 0, 'percentile': 0}}, '2389': {'buy': {'weightedAverage': 0, 'max': 0, 'min': 0, 'stddev': 0, 'median': 0, 'volume': 0, 'orderCount': 0, 'percentile': 0}, 'sell': {'weightedAverage': '724.019245779', 'max': '750.0', 'min': '599.9', 'stddev': '54.2201816231', 'median': '739.6', 'volume': '239585.0', 'orderCount': '7', 'percentile': '599.9'}}, '3828': {'buy': {'weightedAverage': '420.0', 'max': '420.0', 'min': '420.0', 'stddev': '0.01', 'median': '420.0', 'volume': '2463.0', 'orderCount': '1', 'percentile': '420.0'}, 'sell': {'weightedAverage': '8744.96314766', 'max': '8998.0', 'min': '8250.0', 'stddev': '302.771861308', 'median': '8700.0', 'volume': '40106.0', 'orderCount': '5', 'percentile': '8250.0'}}, '9832': {'buy': {'weightedAverage': '42.0', 'max': '42.0', 'min': '42.0', 'stddev': '0.01', 'median': '42.0', 'volume': '2500.0', 'orderCount': '1', 'percentile': '42.0'}, 'sell': {'weightedAverage': '12717.1649236', 'max': '14650.0', 'min': '9480.0', 'stddev': '1999.46121632', 'median': '10870.0', 'volume': '332172.0', 'orderCount': '10', 'percentile': '9480.0'}}, '2395': {'buy': {'weightedAverage': '415.0', 'max': '415.0', 'min': '415.0', 'stddev': '0.01', 'median': '415.0', 'volume': '100000.0', 'orderCount': '1', 'percentile': '415.0'}, 'sell': {'weightedAverage': '926.130359728', 'max': '1600.0', 'min': '700.0', 'stddev': '239.576764917', 'median': '897.5', 'volume': '1200686.0', 'orderCount': '12', 'percentile': '700.0'}}, '2867': {'buy': {'weightedAverage': '350285.714286', 'max': '450000.0', 'min': '312000.0', 'stddev': '79273.2825947', 'median': '313400.0', 'volume': '84.0', 'orderCount': '3', 'percentile': '450000.0'}, 'sell': {'weightedAverage': '2260244.83471', 'max': '2299000.0', 'min': '1872000.0', 'stddev': '212836.9877', 'median': '1874000.0', 'volume': '968.0', 'orderCount': '4', 'percentile': '1872152.89256'}}, '2286': {'buy': {'weightedAverage': '1.0', 'max': '1.0', 'min': '1.0', 'stddev': '0.01', 'median': '1.0', 'volume': '6000000.0', 'orderCount': '1', 'percentile': '1.0'}, 'sell': {'weightedAverage': 0, 'max': 0, 'min': 0, 'stddev': 0, 'median': 0, 'volume': 0, 'orderCount': 0, 'percentile': 0}}, '9848': {'buy': {'weightedAverage': '49042.7656368', 'max': '58000.0', 'min': '48520.0', 'stddev': '4857.58513393', 'median': '55100.0', 'volume': '10616.0', 'orderCount': '3', 'percentile': '57919.1409194'}, 'sell': {'weightedAverage': '69370.0380642', 'max': '74900.0', 'min': '68500.0', 'stddev': '4525.48339959', 'median': '71700.0', 'volume': '3678.0', 'orderCount': '2', 'percentile': '68500.0'}}, '2306': {'buy': {'weightedAverage': 0, 'max': 0, 'min': 0, 'stddev': 0, 'median': 0, 'volume': 0, 'orderCount': 0, 'percentile': 0}, 'sell': {'weightedAverage': '3.4', 'max': '3.4', 'min': '3.4', 'stddev': '0.01', 'median': '3.4', 'volume': '78540.0', 'orderCount': '1', 'percentile': '3.4'}}, '2871': {'buy': {'weightedAverage': '212159.677419', 'max': '213100.0', 'min': '212000.0', 'stddev': '556.776436283', 'median': '212400.0', 'volume': '62.0', 'orderCount': '3', 'percentile': '212625.806452'}, 'sell': {'weightedAverage': '1709345.2381', 'max': '1720000.0', 'min': '1450000.0', 'stddev': '149192.269684', 'median': '1695000.0', 'volume': '168.0', 'orderCount': '3', 'percentile': '1636666.66667'}}, '2307': {'buy': {'weightedAverage': '0.6', 'max': '0.6', 'min': '0.6', 'stddev': '0.01', 'median': '0.6', 'volume': '9504490.0', 'orderCount': '1', 'percentile': '0.6'}, 'sell': {'weightedAverage': 0, 'max': 0, 'min': 0, 'stddev': 0, 'median': 0, 'volume': 0, 'orderCount': 0, 'percentile': 0}}, '2875': {'buy': {'weightedAverage': 0, 'max': 0, 'min': 0, 'stddev': 0, 'median': 0, 'volume': 0, 'orderCount': 0, 'percentile': 0}, 'sell': {'weightedAverage': '1086325.0774', 'max': '1091000.0', 'min': '1084000.0', 'stddev': '3785.9388972', 'median': '1085000.0', 'volume': '969.0', 'orderCount': '3', 'percentile': '1084000.0'}}, '2396': {'buy': {'weightedAverage': '70.9727291541', 'max': '72.0', 'min': '70.0', 'stddev': '1.0', 'median': '71.0', 'volume': '1014710.0', 'orderCount': '3', 'percentile': '71.1971006494'}, 'sell': {'weightedAverage': '197.9', 'max': '197.9', 'min': '197.9', 'stddev': '0.01', 'median': '197.9', 'volume': '145379.0', 'orderCount': '1', 'percentile': '197.9'}}, '9834': {'buy': {'weightedAverage': '55104.5283019', 'max': '55260.0', 'min': '55100.0', 'stddev': '113.13708499', 'median': '55180.0', 'volume': '530.0', 'orderCount': '2', 'percentile': '55190.5660377'}, 'sell': {'weightedAverage': 0, 'max': 0, 'min': 0, 'stddev': 0, 'median': 0, 'volume': 0, 'orderCount': 0, 'percentile': 0}}, '2309': {'buy': {'weightedAverage': '1.31', 'max': '1.31', 'min': '1.31', 'stddev': '0.01', 'median': '1.31', 'volume': '4617271.0', 'orderCount': '1', 'percentile': '1.31'}, 'sell': {'weightedAverage': 0, 'max': 0, 'min': 0, 'stddev': 0, 'median': 0, 'volume': 0, 'orderCount': 0, 'percentile': 0}}, '17392': {'buy': {'weightedAverage': '5001.0', 'max': '5001.0', 'min': '5001.0', 'stddev': '0.01', 'median': '5001.0', 'volume': '250.0', 'orderCount': '1', 'percentile': '5001.0'}, 'sell': {'weightedAverage': '1799623.94705', 'max': '1800000.0', 'min': '1787000.0', 'stddev': '7234.17813807', 'median': '1788000.0', 'volume': '6648.0', 'orderCount': '3', 'percentile': '1792478.94103'}}, '2872': {'buy': {'weightedAverage': '721250.0', 'max': '905000.0', 'min': '170000.0', 'stddev': '519723.484172', 'median': '537500.0', 'volume': '40.0', 'orderCount': '2', 'percentile': '905000.0'}, 'sell': {'weightedAverage': '2500000.0', 'max': '2500000.0', 'min': '2500000.0', 'stddev': '0.01', 'median': '2500000.0', 'volume': '9.0', 'orderCount': '1', 'percentile': '2500000.0'}}, '2268': {'buy': {'weightedAverage': '1.0028262105', 'max': '1.01', 'min': '1.0', 'stddev': '0.00707106781187', 'median': '1.005', 'volume': '13939634.0', 'orderCount': '2', 'percentile': '1.01'}, 'sell': {'weightedAverage': 0, 'max': 0, 'min': 0, 'stddev': 0, 'median': 0, 'volume': 0, 'orderCount': 0, 'percentile': 0}}, '2312': {'buy': {'weightedAverage': '10.0', 'max': '10.0', 'min': '10.0', 'stddev': '0.01', 'median': '10.0', 'volume': '10000.0', 'orderCount': '1', 'percentile': '10.0'}, 'sell': {'weightedAverage': '10286.1809045', 'max': '10990.0', 'min': '10050.0', 'stddev': '664.680374315', 'median': '10520.0', 'volume': '3980.0', 'orderCount': '2', 'percentile': '10050.0'}}, '2349': {'buy': {'weightedAverage': '52656.2832339', 'max': '53000.0', 'min': '42.0', 'stddev': '26357.8952625', 'median': '52635.0', 'volume': '1843.0', 'orderCount': '4', 'percentile': '53000.0'}, 'sell': {'weightedAverage': '70000.0', 'max': '70000.0', 'min': '70000.0', 'stddev': '0.01', 'median': '70000.0', 'volume': '2745.0', 'orderCount': '1', 'percentile': '70000.0'}}, '2358': {'buy': {'weightedAverage': 0, 'max': 0, 'min': 0, 'stddev': 0, 'median': 0, 'volume': 0, 'orderCount': 0, 'percentile': 0}, 'sell': {'weightedAverage': '47400.0', 'max': '47400.0', 'min': '47400.0', 'stddev': '0.01', 'median': '47400.0', 'volume': '500.0', 'orderCount': '1', 'percentile': '47400.0'}}, '2393': {'buy': {'weightedAverage': '190.520207666', 'max': '306.0', 'min': '165.2', 'stddev': '61.3787721176', 'median': '289.5', 'volume': '1756279.0', 'orderCount': '6', 'percentile': '281.215254524'}, 'sell': {'weightedAverage': '559.703817706', 'max': '975.0', 'min': '400.0', 'stddev': '144.946396278', 'median': '519.0', 'volume': '1235192.0', 'orderCount': '17', 'percentile': '400.0'}}, '2870': {'buy': {'weightedAverage': '373855.474453', 'max': '380100.0', 'min': '373300.0', 'stddev': '3842.30833397', 'median': '373600.0', 'volume': '137.0', 'orderCount': '3', 'percentile': '380100.0'}, 'sell': {'weightedAverage': '707730.215827', 'max': '798900.0', 'min': '670000.0', 'stddev': '53789.4692296', 'median': '749000.0', 'volume': '695.0', 'orderCount': '5', 'percentile': '670000.0'}}, '2311': {'buy': {'weightedAverage': '1.09498689271', 'max': '1.1', 'min': '1.09', 'stddev': '0.00707106781187', 'median': '1.095', 'volume': '19164531.0', 'orderCount': '2', 'percentile': '1.1'}, 'sell': {'weightedAverage': 0, 'max': 0, 'min': 0, 'stddev': 0, 'median': 0, 'volume': 0, 'orderCount': 0, 'percentile': 0}}, '12836': {'buy': {'weightedAverage': '55000.0', 'max': '55000.0', 'min': '73.0', 'stddev': '38839.2541702', 'median': '27536.5', 'volume': '1997.0', 'orderCount': '2', 'percentile': '55000.0'}, 'sell': {'weightedAverage': '99000.0', 'max': '99000.0', 'min': '99000.0', 'stddev': '0.01', 'median': '99000.0', 'volume': '2598.0', 'orderCount': '1', 'percentile': '99000.0'}}, '2392': {'buy': {'weightedAverage': '341.3', 'max': '341.3', 'min': '341.3', 'stddev': '0.01', 'median': '341.3', 'volume': '190755.0', 'orderCount': '1', 'percentile': '341.3'}, 'sell': {'weightedAverage': '684.0', 'max': '684.0', 'min': '684.0', 'stddev': '0.01', 'median': '684.0', 'volume': '300.0', 'orderCount': '1', 'percentile': '684.0'}}, '2321': {'buy': {'weightedAverage': 0, 'max': 0, 'min': 0, 'stddev': 0, 'median': 0, 'volume': 0, 'orderCount': 0, 'percentile': 0}, 'sell': {'weightedAverage': '13544.586426', 'max': '14460.0', 'min': '9000.0', 'stddev': '3860.80302528', 'median': '11730.0', 'volume': '54295.0', 'orderCount': '2', 'percentile': '9000.0'}}, '9828': {'buy': {'weightedAverage': '365.0', 'max': '365.0', 'min': '365.0', 'stddev': '0.01', 'median': '365.0', 'volume': '147060.0', 'orderCount': '1', 'percentile': '365.0'}, 'sell': {'weightedAverage': '499.98371266', 'max': '510.0', 'min': '499.0', 'stddev': '5.20280373132', 'median': '499.95', 'volume': '68894.0', 'orderCount': '4', 'percentile': '499.0'}}, '2329': {'buy': {'weightedAverage': 0, 'max': 0, 'min': 0, 'stddev': 0, 'median': 0, 'volume': 0, 'orderCount': 0, 'percentile': 0}, 'sell': {'weightedAverage': '9733.39025845', 'max': '9800.0', 'min': '8500.0', 'stddev': '571.664455778', 'median': '9249.5', 'volume': '75450.0', 'orderCount': '4', 'percentile': '8762.89264414'}}, '17136': {'buy': {'weightedAverage': '70.0', 'max': '70.0', 'min': '70.0', 'stddev': '0.01', 'median': '70.0', 'volume': '9999.0', 'orderCount': '1', 'percentile': '70.0'}, 'sell': {'weightedAverage': 0, 'max': 0, 'min': 0, 'stddev': 0, 'median': 0, 'volume': 0, 'orderCount': 0, 'percentile': 0}}, '17898': {'buy': {'weightedAverage': '67.0', 'max': '67.0', 'min': '67.0', 'stddev': '0.01', 'median': '67.0', 'volume': '1000.0', 'orderCount': '1', 'percentile': '67.0'}, 'sell': {'weightedAverage': '96541.7897847', 'max': '99000.0', 'min': '80000.0', 'stddev': '13435.0288425', 'median': '89500.0', 'volume': '4738.0', 'orderCount': '2', 'percentile': '80000.0'}}, '3645': {'buy': {'weightedAverage': '306.5', 'max': '306.5', 'min': '306.5', 'stddev': '0.01', 'median': '306.5', 'volume': '66590.0', 'orderCount': '1', 'percentile': '306.5'}, 'sell': {'weightedAverage': '592.68162384', 'max': '800.0', 'min': '306.6', 'stddev': '169.81786027', 'median': '584.5', 'volume': '1264595.0', 'orderCount': '6', 'percentile': '558.04164179'}}, '2366': {'buy': {'weightedAverage': '42000.0', 'max': '42000.0', 'min': '42000.0', 'stddev': '0.01', 'median': '42000.0', 'volume': '1000.0', 'orderCount': '1', 'percentile': '42000.0'}, 'sell': {'weightedAverage': 0, 'max': 0, 'min': 0, 'stddev': 0, 'median': 0, 'volume': 0, 'orderCount': 0, 'percentile': 0}}, '2367': {'buy': {'weightedAverage': '36410.0', 'max': '36410.0', 'min': '36410.0', 'stddev': '0.01', 'median': '36410.0', 'volume': '1988.0', 'orderCount': '1', 'percentile': '36410.0'}, 'sell': {'weightedAverage': '125642.963731', 'max': '148000.0', 'min': '120000.0', 'stddev': '9937.95753664', 'median': '135000.0', 'volume': '4825.0', 'orderCount': '5', 'percentile': '120000.0'}}, '28974': {'buy': {'weightedAverage': '40000.0', 'max': '40000.0', 'min': '40000.0', 'stddev': '0.01', 'median': '40000.0', 'volume': '2500.0', 'orderCount': '1', 'percentile': '40000.0'}, 'sell': {'weightedAverage': '59900.0', 'max': '59900.0', 'min': '59900.0', 'stddev': '0.01', 'median': '59900.0', 'volume': '2497.0', 'orderCount': '1', 'percentile': '59900.0'}}, '2288': {'buy': {'weightedAverage': '0.02', 'max': '0.02', 'min': '0.02', 'stddev': '0.01', 'median': '0.02', 'volume': '1292875.0', 'orderCount': '1', 'percentile': '0.02'}, 'sell': {'weightedAverage': '2.5', 'max': '2.5', 'min': '2.5', 'stddev': '0.01', 'median': '2.5', 'volume': '417484.0', 'orderCount': '1', 'percentile': '2.5'}}, '3683': {'buy': {'weightedAverage': '351.0', 'max': '351.0', 'min': '351.0', 'stddev': '0.01', 'median': '351.0', 'volume': '153920.0', 'orderCount': '1', 'percentile': '351.0'}, 'sell': {'weightedAverage': '535.932111795', 'max': '800.0', 'min': '450.0', 'stddev': '141.320781675', 'median': '531.0', 'volume': '569937.0', 'orderCount': '7', 'percentile': '450.0'}}, '9836': {'buy': {'weightedAverage': '6450.0', 'max': '6450.0', 'min': '42.0', 'stddev': '4531.14025384', 'median': '3246.0', 'volume': '22484.0', 'orderCount': '2', 'percentile': '6450.0'}, 'sell': {'weightedAverage': '7692.98892989', 'max': '8500.0', 'min': '7000.0', 'stddev': '530.285351081', 'median': '7375.0', 'volume': '21680.0', 'orderCount': '8', 'percentile': '7000.0'}}, '2400': {'buy': {'weightedAverage': '190.044076934', 'max': '210.1', 'min': '178.0', 'stddev': '18.5041436801', 'median': '210.0', 'volume': '349650.0', 'orderCount': '3', 'percentile': '210.1'}, 'sell': {'weightedAverage': '393.248458552', 'max': '399.0', 'min': '350.0', 'stddev': '34.6482322781', 'median': '374.5', 'volume': '43790.0', 'orderCount': '2', 'percentile': '350.0'}}, '3693': {'buy': {'weightedAverage': 0, 'max': 0, 'min': 0, 'stddev': 0, 'median': 0, 'volume': 0, 'orderCount': 0, 'percentile': 0}, 'sell': {'weightedAverage': '9933.71482808', 'max': '10000.0', 'min': '9299.0', 'stddev': '291.609327697', 'median': '9800.0', 'volume': '93505.0', 'orderCount': '7', 'percentile': '9598.70006951'}}, '2390': {'buy': {'weightedAverage': 0, 'max': 0, 'min': 0, 'stddev': 0, 'median': 0, 'volume': 0, 'orderCount': 0, 'percentile': 0}, 'sell': {'weightedAverage': '529.982218993', 'max': '640000.0', 'min': '400.0', 'stddev': '202215.699211', 'median': '547.85', 'volume': '737028.0', 'orderCount': '10', 'percentile': '400.0'}}, '2869': {'buy': {'weightedAverage': '472921.341463', 'max': '476100.0', 'min': '351000.0', 'stddev': '55713.8492657', 'median': '475300.0', 'volume': '164.0', 'orderCount': '5', 'percentile': '476100.0'}, 'sell': {'weightedAverage': '1489127.90698', 'max': '1490000.0', 'min': '1485000.0', 'stddev': '2645.75131106', 'median': '1489000.0', 'volume': '86.0', 'orderCount': '3', 'percentile': '1485000.0'}}, '2398': {'buy': {'weightedAverage': '395.553941119', 'max': '400.0', 'min': '300.0', 'stddev': '70.7106781187', 'median': '350.0', 'volume': '1011705.0', 'orderCount': '2', 'percentile': '400.0'}, 'sell': {'weightedAverage': 0, 'max': 0, 'min': 0, 'stddev': 0, 'median': 0, 'volume': 0, 'orderCount': 0, 'percentile': 0}}, '2317': {'buy': {'weightedAverage': 0, 'max': 0, 'min': 0, 'stddev': 0, 'median': 0, 'volume': 0, 'orderCount': 0, 'percentile': 0}, 'sell': {'weightedAverage': '7598.02530173', 'max': '8500.0', 'min': '7000.0', 'stddev': '570.672118354', 'median': '8050.0', 'volume': '171925.0', 'orderCount': '6', 'percentile': '7206.55809219'}}, '2346': {'buy': {'weightedAverage': '40000.9041295', 'max': '40010.0', 'min': '40000.0', 'stddev': '7.07106781187', 'median': '40005.0', 'volume': '5497.0', 'orderCount': '2', 'percentile': '40010.0'}, 'sell': {'weightedAverage': '99303.4081932', 'max': '150000.0', 'min': '89800.0', 'stddev': '23889.8025665', 'median': '91950.0', 'volume': '8861.0', 'orderCount': '6', 'percentile': '90443.956664'}}}\n"
     ]
    }
   ],
   "source": [
    "\n",
    "\n",
    "# Testing parts of store_data()\n",
    "# TODO: Check roamresearch to figure out how to reduce api calls\n",
    "\n",
    "items = get_raw_material_names()\n",
    "item_ids = [ get_item_id(i) for i in items ]\n",
    "\n",
    "json_data = {}\n",
    "time = datetime.now()\n",
    "\n",
    "# Fetch the data for each region and raw material id\n",
    "print(\"Fetching data...\")\n",
    "with alive_bar(len(item_ids)*len(REGIONS), force_tty=True) as bar:\n",
    "    for i in item_ids:\n",
    "        for r in REGIONS:\n",
    "            data = fetch_data(region_id=r, item_id=i)\n",
    "            json_data.update(data)\n",
    "            bar()"
   ]
  },
  {
   "cell_type": "code",
   "execution_count": 13,
   "metadata": {},
   "outputs": [],
   "source": [
    "def store_data():\n",
    "    \"\"\" GET Requests the Eve Online API endpoint https://market.fuzzwork.co.uk/aggregates/?region=30000142&types=9828 \n",
    "    which takes two params region and types. This JSON data is then stored\n",
    "    \n",
    "    Region: The location that the markets are located in\n",
    "    - There are 7 Regions\n",
    "        - Global - 0\n",
    "        - Jita - 30000142\n",
    "        - Perimeter - 30000144\n",
    "        - Jita 4-4 CNAP - 60003760\n",
    "        - Amarr VIII - 60008494\n",
    "        - Dodixie - 60011866\n",
    "        - Rens - 60004588\n",
    "        - Hek - 60005686\n",
    "        \n",
    "    Types: The ID of the raw material, List of IDs: https://docs.google.com/spreadsheets/d/1X7mi7j-_yV5lq-Yd2BraE-t4QE_a4IKv2ZuCBSLD6QU/edit?usp=sharing\n",
    "    \"\"\"\n",
    "    \n",
    "    items = get_raw_material_names()\n",
    "    item_ids = [ get_item_id(i) for i in items ]\n",
    "    \n",
    "    json_data = {}\n",
    "    time = datetime.now()\n",
    "    \n",
    "    # Fetch the data for each region and raw material id\n",
    "    print(\"Fetching data...\")\n",
    "    for i in item_ids:\n",
    "        for r in REGIONS:\n",
    "            data = fetch_data(region_id=r, item_id=i)\n",
    "            json_data.update(data)\n",
    "    \n",
    "    # Connecting to the database\n",
    "    print(\"Trying to connect to database...\")\n",
    "    try:\n",
    "        conn = psycopg2.connect(host=DATABASE_URL,\n",
    "                                database=DATABASE_NAME,\n",
    "                                user=DATABASE_USER,\n",
    "                                password=DATABASE_PASSWORD)\n",
    "        cursor = conn.cursor()\n",
    "        \n",
    "        print(\"Connected to database and now inserting data into table...\")\n",
    "        \n",
    "        # sql to insert the json into the raw_market_data table\n",
    "        insert_command = (\n",
    "        \"\"\"\n",
    "        INSERT INTO raw_market_data (TIME, DATA) VALUES (%s, %s)\n",
    "        \"\"\"\n",
    "        )\n",
    "        \n",
    "        # Serializing json\n",
    "        json_object = json.dumps(json_data)\n",
    "        \n",
    "        # Inserting into table\n",
    "        values = (time, json_object)\n",
    "        cursor.execute(insert_command, values)\n",
    "        \n",
    "        # Close and commit changes to database server\n",
    "        conn.close()\n",
    "        conn.commit()\n",
    "        \n",
    "        print(\"Successfully stored data into table.\")\n",
    "        \n",
    "    except (Exception, psycopg2.DatabaseError) as error:\n",
    "        print(error)\n",
    "    finally:\n",
    "        if conn is not None:\n",
    "            conn.close()\n",
    "    \n",
    "    "
   ]
  },
  {
   "cell_type": "code",
   "execution_count": 14,
   "metadata": {},
   "outputs": [
    {
     "name": "stdout",
     "output_type": "stream",
     "text": [
      "Fetching data...\n",
      "Trying to connect to database...\n",
      "Connected to database and now inserting data into table...\n",
      "connection already closed\n"
     ]
    }
   ],
   "source": [
    "store_data()"
   ]
  },
  {
   "cell_type": "markdown",
   "metadata": {},
   "source": [
    "## Preprocessing"
   ]
  }
 ],
 "metadata": {
  "interpreter": {
   "hash": "5e421c40ca6ec0832df0f1983de2719ce27ef5fd59aba882704d6c9c14579863"
  },
  "kernelspec": {
   "display_name": "eveonline",
   "language": "python",
   "name": "eveonline"
  },
  "language_info": {
   "codemirror_mode": {
    "name": "ipython",
    "version": 3
   },
   "file_extension": ".py",
   "mimetype": "text/x-python",
   "name": "python",
   "nbconvert_exporter": "python",
   "pygments_lexer": "ipython3",
   "version": "3.10.4"
  },
  "orig_nbformat": 4
 },
 "nbformat": 4,
 "nbformat_minor": 2
}
