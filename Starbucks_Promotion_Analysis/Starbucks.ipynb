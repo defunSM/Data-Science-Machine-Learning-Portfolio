{
 "cells": [
  {
   "cell_type": "markdown",
   "metadata": {},
   "source": [
    "## Portfolio Exercise: Starbucks\n",
    "<br>\n",
    "\n",
    "<img src=\"https://opj.ca/wp-content/uploads/2018/02/New-Starbucks-Logo-1200x969.jpg\" width=\"200\" height=\"200\">\n",
    "<br>\n",
    "<br>\n",
    " \n",
    "#### Background Information\n",
    "\n",
    "The dataset you will be provided in this portfolio exercise was originally used as a take-home assignment provided by Starbucks for their job candidates. The data for this exercise consists of about 120,000 data points split in a 2:1 ratio among training and test files. In the experiment simulated by the data, an advertising promotion was tested to see if it would bring more customers to purchase a specific product priced at $10. Since it costs the company 0.15 to send out each promotion, it would be best to limit that promotion only to those that are most receptive to the promotion. Each data point includes one column indicating whether or not an individual was sent a promotion for the product, and one column indicating whether or not that individual eventually purchased that product. Each individual also has seven additional features associated with them, which are provided abstractly as V1-V7.\n",
    "\n",
    "#### Optimization Strategy\n",
    "\n",
    "Your task is to use the training data to understand what patterns in V1-V7 to indicate that a promotion should be provided to a user. Specifically, your goal is to maximize the following metrics:\n",
    "\n",
    "* **Incremental Response Rate (IRR)** \n",
    "\n",
    "IRR depicts how many more customers purchased the product with the promotion, as compared to if they didn't receive the promotion. Mathematically, it's the ratio of the number of purchasers in the promotion group to the total number of customers in the purchasers group (_treatment_) minus the ratio of the number of purchasers in the non-promotional group to the total number of customers in the non-promotional group (_control_).\n",
    "\n",
    "$$ IRR = \\frac{purch_{treat}}{cust_{treat}} - \\frac{purch_{ctrl}}{cust_{ctrl}} $$\n",
    "\n",
    "\n",
    "* **Net Incremental Revenue (NIR)**\n",
    "\n",
    "NIR depicts how much is made (or lost) by sending out the promotion. Mathematically, this is 10 times the total number of purchasers that received the promotion minus 0.15 times the number of promotions sent out, minus 10 times the number of purchasers who were not given the promotion.\n",
    "\n",
    "$$ NIR = (10\\cdot purch_{treat} - 0.15 \\cdot cust_{treat}) - 10 \\cdot purch_{ctrl}$$\n",
    "\n",
    "For a full description of what Starbucks provides to candidates see the [instructions available here](https://drive.google.com/open?id=18klca9Sef1Rs6q8DW4l7o349r8B70qXM).\n",
    "\n",
    "Below you can find the training data provided.  Explore the data and different optimization strategies.\n",
    "\n",
    "#### How To Test Your Strategy?\n",
    "\n",
    "When you feel like you have an optimization strategy, complete the `promotion_strategy` function to pass to the `test_results` function.  \n",
    "From past data, we know there are four possible outomes:\n",
    "\n",
    "Table of actual promotion vs. predicted promotion customers:  \n",
    "\n",
    "<table>\n",
    "<tr><th></th><th colspan = '2'>Actual</th></tr>\n",
    "<tr><th>Predicted</th><th>Yes</th><th>No</th></tr>\n",
    "<tr><th>Yes</th><td>I</td><td>II</td></tr>\n",
    "<tr><th>No</th><td>III</td><td>IV</td></tr>\n",
    "</table>\n",
    "\n",
    "The metrics are only being compared for the individuals we predict should obtain the promotion – that is, quadrants I and II.  Since the first set of individuals that receive the promotion (in the training set) receive it randomly, we can expect that quadrants I and II will have approximately equivalent participants.  \n",
    "\n",
    "Comparing quadrant I to II then gives an idea of how well your promotion strategy will work in the future. \n",
    "\n",
    "Get started by reading in the data below.  See how each variable or combination of variables along with a promotion influences the chance of purchasing.  When you feel like you have a strategy for who should receive a promotion, test your strategy against the test dataset used in the final `test_results` function."
   ]
  },
  {
   "cell_type": "code",
   "execution_count": 1,
   "metadata": {},
   "outputs": [
    {
     "data": {
      "text/html": [
       "<div>\n",
       "<style scoped>\n",
       "    .dataframe tbody tr th:only-of-type {\n",
       "        vertical-align: middle;\n",
       "    }\n",
       "\n",
       "    .dataframe tbody tr th {\n",
       "        vertical-align: top;\n",
       "    }\n",
       "\n",
       "    .dataframe thead th {\n",
       "        text-align: right;\n",
       "    }\n",
       "</style>\n",
       "<table border=\"1\" class=\"dataframe\">\n",
       "  <thead>\n",
       "    <tr style=\"text-align: right;\">\n",
       "      <th></th>\n",
       "      <th>ID</th>\n",
       "      <th>Promotion</th>\n",
       "      <th>purchase</th>\n",
       "      <th>V1</th>\n",
       "      <th>V2</th>\n",
       "      <th>V3</th>\n",
       "      <th>V4</th>\n",
       "      <th>V5</th>\n",
       "      <th>V6</th>\n",
       "      <th>V7</th>\n",
       "    </tr>\n",
       "  </thead>\n",
       "  <tbody>\n",
       "    <tr>\n",
       "      <th>0</th>\n",
       "      <td>1</td>\n",
       "      <td>No</td>\n",
       "      <td>0</td>\n",
       "      <td>2</td>\n",
       "      <td>30.443518</td>\n",
       "      <td>-1.165083</td>\n",
       "      <td>1</td>\n",
       "      <td>1</td>\n",
       "      <td>3</td>\n",
       "      <td>2</td>\n",
       "    </tr>\n",
       "    <tr>\n",
       "      <th>1</th>\n",
       "      <td>3</td>\n",
       "      <td>No</td>\n",
       "      <td>0</td>\n",
       "      <td>3</td>\n",
       "      <td>32.159350</td>\n",
       "      <td>-0.645617</td>\n",
       "      <td>2</td>\n",
       "      <td>3</td>\n",
       "      <td>2</td>\n",
       "      <td>2</td>\n",
       "    </tr>\n",
       "    <tr>\n",
       "      <th>2</th>\n",
       "      <td>4</td>\n",
       "      <td>No</td>\n",
       "      <td>0</td>\n",
       "      <td>2</td>\n",
       "      <td>30.431659</td>\n",
       "      <td>0.133583</td>\n",
       "      <td>1</td>\n",
       "      <td>1</td>\n",
       "      <td>4</td>\n",
       "      <td>2</td>\n",
       "    </tr>\n",
       "    <tr>\n",
       "      <th>3</th>\n",
       "      <td>5</td>\n",
       "      <td>No</td>\n",
       "      <td>0</td>\n",
       "      <td>0</td>\n",
       "      <td>26.588914</td>\n",
       "      <td>-0.212728</td>\n",
       "      <td>2</td>\n",
       "      <td>1</td>\n",
       "      <td>4</td>\n",
       "      <td>2</td>\n",
       "    </tr>\n",
       "    <tr>\n",
       "      <th>4</th>\n",
       "      <td>8</td>\n",
       "      <td>Yes</td>\n",
       "      <td>0</td>\n",
       "      <td>3</td>\n",
       "      <td>28.044331</td>\n",
       "      <td>-0.385883</td>\n",
       "      <td>1</td>\n",
       "      <td>1</td>\n",
       "      <td>2</td>\n",
       "      <td>2</td>\n",
       "    </tr>\n",
       "  </tbody>\n",
       "</table>\n",
       "</div>"
      ],
      "text/plain": [
       "   ID Promotion  purchase  V1         V2        V3  V4  V5  V6  V7\n",
       "0   1        No         0   2  30.443518 -1.165083   1   1   3   2\n",
       "1   3        No         0   3  32.159350 -0.645617   2   3   2   2\n",
       "2   4        No         0   2  30.431659  0.133583   1   1   4   2\n",
       "3   5        No         0   0  26.588914 -0.212728   2   1   4   2\n",
       "4   8       Yes         0   3  28.044331 -0.385883   1   1   2   2"
      ]
     },
     "execution_count": 1,
     "metadata": {},
     "output_type": "execute_result"
    }
   ],
   "source": [
    "# load in packages\n",
    "from itertools import combinations\n",
    "\n",
    "from test_results import test_results, score\n",
    "import numpy as np\n",
    "import pandas as pd\n",
    "import scipy as sp\n",
    "import sklearn as sk\n",
    "\n",
    "import matplotlib.pyplot as plt\n",
    "import seaborn as sns\n",
    "%matplotlib inline\n",
    "\n",
    "# load in the data\n",
    "train_data = pd.read_csv('./data/training.csv')\n",
    "train_data.head()"
   ]
  },
  {
   "cell_type": "markdown",
   "metadata": {},
   "source": [
    "## 1. Exploratory Data Analysis\n",
    "### 1.1 Preprocessing"
   ]
  },
  {
   "cell_type": "code",
   "execution_count": 2,
   "metadata": {},
   "outputs": [],
   "source": [
    "# Encoding the Promotion Feature for 0 as No and 1 as Yes\n",
    "train_data = train_data.replace({\"No\": 0, \"Yes\": 1})"
   ]
  },
  {
   "cell_type": "code",
   "execution_count": 3,
   "metadata": {},
   "outputs": [
    {
     "data": {
      "text/plain": [
       "ID           0\n",
       "Promotion    0\n",
       "purchase     0\n",
       "V1           0\n",
       "V2           0\n",
       "V3           0\n",
       "V4           0\n",
       "V5           0\n",
       "V6           0\n",
       "V7           0\n",
       "dtype: int64"
      ]
     },
     "execution_count": 3,
     "metadata": {},
     "output_type": "execute_result"
    }
   ],
   "source": [
    "train_data.isnull().sum()"
   ]
  },
  {
   "cell_type": "code",
   "execution_count": 4,
   "metadata": {},
   "outputs": [
    {
     "data": {
      "text/plain": [
       "0    83494\n",
       "1     1040\n",
       "Name: purchase, dtype: int64"
      ]
     },
     "execution_count": 4,
     "metadata": {},
     "output_type": "execute_result"
    }
   ],
   "source": [
    "# Checking number of samples if data is imbalanced\n",
    "\n",
    "train_data[\"Promotion\"].value_counts()\n",
    "train_data[\"purchase\"].value_counts()"
   ]
  },
  {
   "cell_type": "markdown",
   "metadata": {},
   "source": [
    "There is an class imbalanced in the purchase feature much more customers did not make a purchase than they did. We can try to use stratification to try to help remedy this and resample."
   ]
  },
  {
   "cell_type": "code",
   "execution_count": 5,
   "metadata": {},
   "outputs": [
    {
     "data": {
      "text/html": [
       "<div>\n",
       "<style scoped>\n",
       "    .dataframe tbody tr th:only-of-type {\n",
       "        vertical-align: middle;\n",
       "    }\n",
       "\n",
       "    .dataframe tbody tr th {\n",
       "        vertical-align: top;\n",
       "    }\n",
       "\n",
       "    .dataframe thead th {\n",
       "        text-align: right;\n",
       "    }\n",
       "</style>\n",
       "<table border=\"1\" class=\"dataframe\">\n",
       "  <thead>\n",
       "    <tr style=\"text-align: right;\">\n",
       "      <th></th>\n",
       "      <th>ID</th>\n",
       "      <th>Promotion</th>\n",
       "      <th>purchase</th>\n",
       "      <th>V1</th>\n",
       "      <th>V2</th>\n",
       "      <th>V3</th>\n",
       "      <th>V4</th>\n",
       "      <th>V5</th>\n",
       "      <th>V6</th>\n",
       "      <th>V7</th>\n",
       "    </tr>\n",
       "  </thead>\n",
       "  <tbody>\n",
       "    <tr>\n",
       "      <th>count</th>\n",
       "      <td>84534.000000</td>\n",
       "      <td>84534.000000</td>\n",
       "      <td>84534.000000</td>\n",
       "      <td>84534.000000</td>\n",
       "      <td>84534.000000</td>\n",
       "      <td>84534.000000</td>\n",
       "      <td>84534.000000</td>\n",
       "      <td>84534.000000</td>\n",
       "      <td>84534.000000</td>\n",
       "      <td>84534.000000</td>\n",
       "    </tr>\n",
       "    <tr>\n",
       "      <th>mean</th>\n",
       "      <td>62970.972413</td>\n",
       "      <td>0.501147</td>\n",
       "      <td>0.012303</td>\n",
       "      <td>1.500662</td>\n",
       "      <td>29.973600</td>\n",
       "      <td>0.000190</td>\n",
       "      <td>1.679608</td>\n",
       "      <td>2.327643</td>\n",
       "      <td>2.502898</td>\n",
       "      <td>1.701694</td>\n",
       "    </tr>\n",
       "    <tr>\n",
       "      <th>std</th>\n",
       "      <td>36418.440539</td>\n",
       "      <td>0.500002</td>\n",
       "      <td>0.110234</td>\n",
       "      <td>0.868234</td>\n",
       "      <td>5.010626</td>\n",
       "      <td>1.000485</td>\n",
       "      <td>0.466630</td>\n",
       "      <td>0.841167</td>\n",
       "      <td>1.117349</td>\n",
       "      <td>0.457517</td>\n",
       "    </tr>\n",
       "    <tr>\n",
       "      <th>min</th>\n",
       "      <td>1.000000</td>\n",
       "      <td>0.000000</td>\n",
       "      <td>0.000000</td>\n",
       "      <td>0.000000</td>\n",
       "      <td>7.104007</td>\n",
       "      <td>-1.684550</td>\n",
       "      <td>1.000000</td>\n",
       "      <td>1.000000</td>\n",
       "      <td>1.000000</td>\n",
       "      <td>1.000000</td>\n",
       "    </tr>\n",
       "    <tr>\n",
       "      <th>25%</th>\n",
       "      <td>31467.250000</td>\n",
       "      <td>0.000000</td>\n",
       "      <td>0.000000</td>\n",
       "      <td>1.000000</td>\n",
       "      <td>26.591501</td>\n",
       "      <td>-0.905350</td>\n",
       "      <td>1.000000</td>\n",
       "      <td>2.000000</td>\n",
       "      <td>2.000000</td>\n",
       "      <td>1.000000</td>\n",
       "    </tr>\n",
       "    <tr>\n",
       "      <th>50%</th>\n",
       "      <td>62827.500000</td>\n",
       "      <td>1.000000</td>\n",
       "      <td>0.000000</td>\n",
       "      <td>2.000000</td>\n",
       "      <td>29.979744</td>\n",
       "      <td>-0.039572</td>\n",
       "      <td>2.000000</td>\n",
       "      <td>2.000000</td>\n",
       "      <td>3.000000</td>\n",
       "      <td>2.000000</td>\n",
       "    </tr>\n",
       "    <tr>\n",
       "      <th>75%</th>\n",
       "      <td>94438.750000</td>\n",
       "      <td>1.000000</td>\n",
       "      <td>0.000000</td>\n",
       "      <td>2.000000</td>\n",
       "      <td>33.344593</td>\n",
       "      <td>0.826206</td>\n",
       "      <td>2.000000</td>\n",
       "      <td>3.000000</td>\n",
       "      <td>4.000000</td>\n",
       "      <td>2.000000</td>\n",
       "    </tr>\n",
       "    <tr>\n",
       "      <th>max</th>\n",
       "      <td>126184.000000</td>\n",
       "      <td>1.000000</td>\n",
       "      <td>1.000000</td>\n",
       "      <td>3.000000</td>\n",
       "      <td>50.375913</td>\n",
       "      <td>1.691984</td>\n",
       "      <td>2.000000</td>\n",
       "      <td>4.000000</td>\n",
       "      <td>4.000000</td>\n",
       "      <td>2.000000</td>\n",
       "    </tr>\n",
       "  </tbody>\n",
       "</table>\n",
       "</div>"
      ],
      "text/plain": [
       "                  ID     Promotion      purchase            V1            V2  \\\n",
       "count   84534.000000  84534.000000  84534.000000  84534.000000  84534.000000   \n",
       "mean    62970.972413      0.501147      0.012303      1.500662     29.973600   \n",
       "std     36418.440539      0.500002      0.110234      0.868234      5.010626   \n",
       "min         1.000000      0.000000      0.000000      0.000000      7.104007   \n",
       "25%     31467.250000      0.000000      0.000000      1.000000     26.591501   \n",
       "50%     62827.500000      1.000000      0.000000      2.000000     29.979744   \n",
       "75%     94438.750000      1.000000      0.000000      2.000000     33.344593   \n",
       "max    126184.000000      1.000000      1.000000      3.000000     50.375913   \n",
       "\n",
       "                 V3            V4            V5            V6            V7  \n",
       "count  84534.000000  84534.000000  84534.000000  84534.000000  84534.000000  \n",
       "mean       0.000190      1.679608      2.327643      2.502898      1.701694  \n",
       "std        1.000485      0.466630      0.841167      1.117349      0.457517  \n",
       "min       -1.684550      1.000000      1.000000      1.000000      1.000000  \n",
       "25%       -0.905350      1.000000      2.000000      2.000000      1.000000  \n",
       "50%       -0.039572      2.000000      2.000000      3.000000      2.000000  \n",
       "75%        0.826206      2.000000      3.000000      4.000000      2.000000  \n",
       "max        1.691984      2.000000      4.000000      4.000000      2.000000  "
      ]
     },
     "execution_count": 5,
     "metadata": {},
     "output_type": "execute_result"
    }
   ],
   "source": [
    "# Summary of the dataset\n",
    "train_data.describe()"
   ]
  },
  {
   "cell_type": "code",
   "execution_count": 6,
   "metadata": {},
   "outputs": [
    {
     "data": {
      "text/plain": [
       "<AxesSubplot:>"
      ]
     },
     "execution_count": 6,
     "metadata": {},
     "output_type": "execute_result"
    },
    {
     "data": {
      "image/png": "[encoded data removed]",
      "text/plain": [
       "<Figure size 842.4x595.44 with 2 Axes>"
      ]
     },
     "metadata": {},
     "output_type": "display_data"
    }
   ],
   "source": [
    "# Visualizing correlations\n",
    "sns.set(rc={'figure.figsize':(11.7,8.27)})\n",
    "sns.heatmap(train_data.iloc[:,1:].corr(), annot=True)"
   ]
  },
  {
   "cell_type": "markdown",
   "metadata": {},
   "source": [
    "#### Correlation Matrix\n",
    "There is a 0.043 correlation coefficient between promotion and purchase which is higher than the other features. V4 feature seems to affect purchasing decision. Thus leveraging this we can say looking at V4 will be helpful in swaying customers to purchase."
   ]
  },
  {
   "cell_type": "markdown",
   "metadata": {},
   "source": [
    "### 1.3 Identifying effect of Treatment on Product purchase and Net Incremental Revenue\n",
    "\n",
    "To address the first question: \n",
    "\n",
    "Analyze the results of the experiment and identify the effect of the Treatment on product purchase and Net Incremental Revenue\n",
    "\n",
    "TODO: Seperate out customers that have seen the promotion and bought and target those people."
   ]
  },
  {
   "cell_type": "code",
   "execution_count": 7,
   "metadata": {},
   "outputs": [
    {
     "data": {
      "text/plain": [
       "1    42364\n",
       "0    42170\n",
       "Name: Promotion, dtype: int64"
      ]
     },
     "execution_count": 7,
     "metadata": {},
     "output_type": "execute_result"
    }
   ],
   "source": [
    "# Splitting into control which does not have the promotion and treatment which contains customers that have seen the promotion\n",
    "\n",
    "control = train_data[train_data['Promotion']==0]\n",
    "treatment = train_data[train_data['Promotion']==1]\n",
    "\n",
    "# Checking to make sure number of promotions is balanced (Which they are)\n",
    "train_data['Promotion'].value_counts()"
   ]
  },
  {
   "cell_type": "code",
   "execution_count": 8,
   "metadata": {},
   "outputs": [
    {
     "name": "stdout",
     "output_type": "stream",
     "text": [
      "Control: # of purchases 319\n",
      "Treatment: # of purchases 721\n"
     ]
    },
    {
     "data": {
      "image/png": "[encoded data removed]",
      "text/plain": [
       "<Figure size 842.4x595.44 with 1 Axes>"
      ]
     },
     "metadata": {},
     "output_type": "display_data"
    }
   ],
   "source": [
    "# Seeing how many purchases in each group\n",
    "control_purchases = control['purchase'].sum()\n",
    "treatment_purchases = treatment['purchase'].sum()\n",
    "\n",
    "print(\"Control: # of purchases\", control_purchases)\n",
    "print(\"Treatment: # of purchases\", treatment['purchase'].sum())\n",
    "\n",
    "# Visualizing \n",
    "sns.set_theme(style=\"whitegrid\")\n",
    "fig = sns.countplot(data=train_data[train_data['purchase']==1], x=\"Promotion\", capsize=.2)\n",
    "fig.set_title(\"# of Purchases for control and treatment group\")\n",
    "fig.bar_label(fig.containers[0], labels=[control_purchases, treatment_purchases])\n",
    "plt.show()"
   ]
  },
  {
   "cell_type": "markdown",
   "metadata": {},
   "source": [
    "### 1.4 Statistical Hypothesis Test\n",
    "In order to evaluate if there is a statistical signifiance in purchases between the control and treatment group. We can conduct a binom test to evaluate the success rate between the two groups."
   ]
  },
  {
   "cell_type": "code",
   "execution_count": 28,
   "metadata": {},
   "outputs": [
    {
     "name": "stdout",
     "output_type": "stream",
     "text": [
      "Control Purchase Probability:  0.007564619397676073\n",
      "P-value:  7.817679547962718e-84\n",
      "Treatment Probability Estimate:  0.01709746265117382\n",
      "Treatment Probability Confidence Interval:  ConfidenceInterval(low=0.01588166160997846, high=0.018380387217800113)\n"
     ]
    }
   ],
   "source": [
    "# Chi square test to evaluate if the treatment group has a higher rate of success (purchase) than the control group\n",
    "\n",
    "\n",
    "from scipy.stats import binomtest\n",
    "\n",
    "# For the binom test we need to calculate the probability of success in our control group. The number of purchases divided by the number of trials\n",
    "control_p = control_purchases / len(control)\n",
    "print(\"Control Purchase Probability: \", control_p)\n",
    "result = binomtest(k=treatment_purchases, n=len(treatment), p=control_p)\n",
    "print(\"P-value: \", result.pvalue)\n",
    "print(\"Treatment Probability Estimate: \", result.proportion_estimate)\n",
    "print(\"Treatment Probability Confidence Interval: \", result.proportion_ci(confidence_level=0.95))\n"
   ]
  },
  {
   "cell_type": "markdown",
   "metadata": {},
   "source": [
    "## Modeling"
   ]
  },
  {
   "cell_type": "code",
   "execution_count": null,
   "metadata": {},
   "outputs": [
    {
     "data": {
      "image/png": "[encoded data removed]",
      "text/plain": [
       "<Figure size 842.4x595.44 with 1 Axes>"
      ]
     },
     "metadata": {},
     "output_type": "display_data"
    }
   ],
   "source": [
    "# Displaying the distribution of numerical values of V2 and V3\n",
    "\n",
    "sns.set(style=\"ticks\")\n",
    "\n",
    "fig = sns.kdeplot(control[\"V3\"], shade=True, color=\"r\")\n",
    "fig = sns.kdeplot(treatment[\"V3\"], shade=True, color=\"b\")\n",
    "plt.show()"
   ]
  },
  {
   "cell_type": "code",
   "execution_count": null,
   "metadata": {},
   "outputs": [],
   "source": [
    "# Scaling V1..V6\n"
   ]
  },
  {
   "cell_type": "code",
   "execution_count": null,
   "metadata": {},
   "outputs": [
    {
     "data": {
      "text/html": [
       "<div>\n",
       "<style scoped>\n",
       "    .dataframe tbody tr th:only-of-type {\n",
       "        vertical-align: middle;\n",
       "    }\n",
       "\n",
       "    .dataframe tbody tr th {\n",
       "        vertical-align: top;\n",
       "    }\n",
       "\n",
       "    .dataframe thead th {\n",
       "        text-align: right;\n",
       "    }\n",
       "</style>\n",
       "<table border=\"1\" class=\"dataframe\">\n",
       "  <thead>\n",
       "    <tr style=\"text-align: right;\">\n",
       "      <th></th>\n",
       "      <th>ID</th>\n",
       "      <th>Promotion</th>\n",
       "      <th>purchase</th>\n",
       "      <th>V1</th>\n",
       "      <th>V2</th>\n",
       "      <th>V3</th>\n",
       "      <th>V4</th>\n",
       "      <th>V5</th>\n",
       "      <th>V6</th>\n",
       "      <th>V7</th>\n",
       "    </tr>\n",
       "  </thead>\n",
       "  <tbody>\n",
       "    <tr>\n",
       "      <th>50341</th>\n",
       "      <td>74922</td>\n",
       "      <td>0</td>\n",
       "      <td>0</td>\n",
       "      <td>1</td>\n",
       "      <td>29.146745</td>\n",
       "      <td>0.912784</td>\n",
       "      <td>2</td>\n",
       "      <td>2</td>\n",
       "      <td>3</td>\n",
       "      <td>2</td>\n",
       "    </tr>\n",
       "    <tr>\n",
       "      <th>84469</th>\n",
       "      <td>126089</td>\n",
       "      <td>0</td>\n",
       "      <td>0</td>\n",
       "      <td>1</td>\n",
       "      <td>38.042327</td>\n",
       "      <td>1.172517</td>\n",
       "      <td>2</td>\n",
       "      <td>4</td>\n",
       "      <td>4</td>\n",
       "      <td>2</td>\n",
       "    </tr>\n",
       "    <tr>\n",
       "      <th>24316</th>\n",
       "      <td>36165</td>\n",
       "      <td>0</td>\n",
       "      <td>0</td>\n",
       "      <td>1</td>\n",
       "      <td>35.371730</td>\n",
       "      <td>-0.212728</td>\n",
       "      <td>1</td>\n",
       "      <td>2</td>\n",
       "      <td>2</td>\n",
       "      <td>2</td>\n",
       "    </tr>\n",
       "    <tr>\n",
       "      <th>26648</th>\n",
       "      <td>39581</td>\n",
       "      <td>1</td>\n",
       "      <td>0</td>\n",
       "      <td>2</td>\n",
       "      <td>31.914589</td>\n",
       "      <td>0.566472</td>\n",
       "      <td>2</td>\n",
       "      <td>4</td>\n",
       "      <td>2</td>\n",
       "      <td>2</td>\n",
       "    </tr>\n",
       "    <tr>\n",
       "      <th>22294</th>\n",
       "      <td>33158</td>\n",
       "      <td>1</td>\n",
       "      <td>0</td>\n",
       "      <td>2</td>\n",
       "      <td>26.825588</td>\n",
       "      <td>1.605406</td>\n",
       "      <td>1</td>\n",
       "      <td>3</td>\n",
       "      <td>1</td>\n",
       "      <td>1</td>\n",
       "    </tr>\n",
       "  </tbody>\n",
       "</table>\n",
       "</div>"
      ],
      "text/plain": [
       "           ID  Promotion  purchase  V1         V2        V3  V4  V5  V6  V7\n",
       "50341   74922          0         0   1  29.146745  0.912784   2   2   3   2\n",
       "84469  126089          0         0   1  38.042327  1.172517   2   4   4   2\n",
       "24316   36165          0         0   1  35.371730 -0.212728   1   2   2   2\n",
       "26648   39581          1         0   2  31.914589  0.566472   2   4   2   2\n",
       "22294   33158          1         0   2  26.825588  1.605406   1   3   1   1"
      ]
     },
     "execution_count": 58,
     "metadata": {},
     "output_type": "execute_result"
    }
   ],
   "source": [
    "# Resampling\n",
    "df_no_purchase = train_data[train_data['purchase']==0].sample(1000)\n",
    "df_purchase = train_data[train_data['purchase']==1].sample(1000)\n",
    "\n",
    "df_resampled = pd.concat([df_no_purchase, df_purchase], axis=0)\n",
    "\n",
    "df_resampled.head()"
   ]
  },
  {
   "cell_type": "code",
   "execution_count": null,
   "metadata": {},
   "outputs": [],
   "source": [
    "# Training model and splitting independent and dependent variables (V1, V2... V6) are the independent variables and the dependent variable is the Promotion\n",
    "\n",
    "X = train_data.iloc[:,3:]\n",
    "Y = train_data[\"Promotion\"]\n",
    "\n",
    "# Resampled split\n",
    "X_resampled = df_resampled.iloc[:,3:]\n",
    "Y_resampled = df_resampled[\"Promotion\"]\n"
   ]
  },
  {
   "cell_type": "code",
   "execution_count": null,
   "metadata": {},
   "outputs": [
    {
     "data": {
      "text/plain": [
       "LogisticRegression()"
      ]
     },
     "execution_count": 60,
     "metadata": {},
     "output_type": "execute_result"
    }
   ],
   "source": [
    "from sklearn.model_selection import train_test_split\n",
    "from sklearn.linear_model import LogisticRegression\n",
    "from sklearn.ensemble import RandomForestClassifier\n",
    "from sklearn.metrics import confusion_matrix, classification_report\n",
    "\n",
    "X_train, X_test, y_train, y_test = train_test_split(X, Y, test_size=0.33)\n",
    "clf = LogisticRegression()\n",
    "\n",
    "clf.fit(X_train, y_train)\n"
   ]
  },
  {
   "cell_type": "code",
   "execution_count": null,
   "metadata": {},
   "outputs": [
    {
     "name": "stdout",
     "output_type": "stream",
     "text": [
      "              precision    recall  f1-score   support\n",
      "\n",
      "           0       0.50      0.44      0.47     13911\n",
      "           1       0.50      0.56      0.53     13986\n",
      "\n",
      "    accuracy                           0.50     27897\n",
      "   macro avg       0.50      0.50      0.50     27897\n",
      "weighted avg       0.50      0.50      0.50     27897\n",
      "\n"
     ]
    }
   ],
   "source": [
    "# Calculating precision, recall and f1-score\n",
    "y_pred = clf.predict(X_test)\n",
    "print(classification_report(y_test, y_pred))"
   ]
  },
  {
   "cell_type": "markdown",
   "metadata": {},
   "source": [
    "### Random Forest Model"
   ]
  },
  {
   "cell_type": "code",
   "execution_count": null,
   "metadata": {},
   "outputs": [
    {
     "name": "stdout",
     "output_type": "stream",
     "text": [
      "              precision    recall  f1-score   support\n",
      "\n",
      "           0       0.41      0.29      0.34       255\n",
      "           1       0.62      0.73      0.67       405\n",
      "\n",
      "    accuracy                           0.56       660\n",
      "   macro avg       0.52      0.51      0.51       660\n",
      "weighted avg       0.54      0.56      0.55       660\n",
      "\n"
     ]
    }
   ],
   "source": [
    "clf_randomforest = RandomForestClassifier()\n",
    "clf_randomforest.fit(X_train, y_train)\n",
    "\n",
    "y_pred = clf_randomforest.predict(X_test)\n",
    "print(classification_report(y_test, y_pred))"
   ]
  },
  {
   "cell_type": "markdown",
   "metadata": {},
   "source": [
    "The classification report shows that there are improvements to precision, recall and f1-score when using the random forest model over the logistic regression model."
   ]
  },
  {
   "cell_type": "code",
   "execution_count": null,
   "metadata": {},
   "outputs": [],
   "source": []
  },
  {
   "cell_type": "markdown",
   "metadata": {},
   "source": [
    "### Resampled Model"
   ]
  },
  {
   "cell_type": "code",
   "execution_count": null,
   "metadata": {},
   "outputs": [
    {
     "data": {
      "text/plain": [
       "RandomForestClassifier()"
      ]
     },
     "execution_count": 63,
     "metadata": {},
     "output_type": "execute_result"
    }
   ],
   "source": [
    "# Modeling using the resampling of purchases\n",
    "X_train, X_test, y_train, y_test = train_test_split(X_resampled, Y_resampled, test_size=0.33)\n",
    "clf = RandomForestClassifier()\n",
    "\n",
    "clf.fit(X_train, y_train)"
   ]
  },
  {
   "cell_type": "code",
   "execution_count": null,
   "metadata": {},
   "outputs": [
    {
     "name": "stdout",
     "output_type": "stream",
     "text": [
      "              precision    recall  f1-score   support\n",
      "\n",
      "           0       0.42      0.29      0.35       255\n",
      "           1       0.63      0.75      0.68       405\n",
      "\n",
      "    accuracy                           0.57       660\n",
      "   macro avg       0.53      0.52      0.51       660\n",
      "weighted avg       0.55      0.57      0.55       660\n",
      "\n"
     ]
    }
   ],
   "source": [
    "y_pred = clf.predict(X_test)\n",
    "print(classification_report(y_test, y_pred))"
   ]
  },
  {
   "cell_type": "code",
   "execution_count": null,
   "metadata": {},
   "outputs": [],
   "source": []
  },
  {
   "cell_type": "code",
   "execution_count": null,
   "metadata": {},
   "outputs": [],
   "source": [
    "def promotion_strategy(df):\n",
    "    '''\n",
    "    INPUT \n",
    "    df - a dataframe with *only* the columns V1 - V7 (same as train_data)\n",
    "\n",
    "    OUTPUT\n",
    "    promotion_df - np.array with the values\n",
    "                   'Yes' or 'No' related to whether or not an \n",
    "                   individual should recieve a promotion \n",
    "                   should be the length of df.shape[0]\n",
    "                \n",
    "    Ex:\n",
    "    INPUT: df\n",
    "    \n",
    "    V1\tV2\t  V3\tV4\tV5\tV6\tV7\n",
    "    2\t30\t-1.1\t1\t1\t3\t2\n",
    "    3\t32\t-0.6\t2\t3\t2\t2\n",
    "    2\t30\t0.13\t1\t1\t4\t2\n",
    "    \n",
    "    OUTPUT: promotion\n",
    "    \n",
    "    array(['Yes', 'Yes', 'No'])\n",
    "    indicating the first two users would recieve the promotion and \n",
    "    the last should not.\n",
    "    '''\n",
    "    \n",
    "    \n",
    "    \n",
    "    \n",
    "    return promotion"
   ]
  },
  {
   "cell_type": "code",
   "execution_count": null,
   "metadata": {},
   "outputs": [
    {
     "ename": "NameError",
     "evalue": "name 'promotion' is not defined",
     "output_type": "error",
     "traceback": [
      "\u001b[0;31m---------------------------------------------------------------------------\u001b[0m",
      "\u001b[0;31mNameError\u001b[0m                                 Traceback (most recent call last)",
      "\u001b[1;32m/home/salman1567/code/Data Science - Machine Learning Projects/Data Science Portfolio/Starbucks_Promotion_Analysis/Starbucks.ipynb Cell 26'\u001b[0m in \u001b[0;36m<module>\u001b[0;34m\u001b[0m\n\u001b[1;32m      <a href='vscode-notebook-cell:/home/salman1567/code/Data%20Science%20-%20Machine%20Learning%20Projects/Data%20Science%20Portfolio/Starbucks_Promotion_Analysis/Starbucks.ipynb#ch0000016?line=0'>1</a>\u001b[0m \u001b[39m# This will test your results, and provide you back some information \u001b[39;00m\n\u001b[1;32m      <a href='vscode-notebook-cell:/home/salman1567/code/Data%20Science%20-%20Machine%20Learning%20Projects/Data%20Science%20Portfolio/Starbucks_Promotion_Analysis/Starbucks.ipynb#ch0000016?line=1'>2</a>\u001b[0m \u001b[39m# on how well your promotion_strategy will work in practice\u001b[39;00m\n\u001b[0;32m----> <a href='vscode-notebook-cell:/home/salman1567/code/Data%20Science%20-%20Machine%20Learning%20Projects/Data%20Science%20Portfolio/Starbucks_Promotion_Analysis/Starbucks.ipynb#ch0000016?line=3'>4</a>\u001b[0m test_results(promotion_strategy)\n",
      "File \u001b[0;32m~/code/Data Science - Machine Learning Projects/Data Science Portfolio/Starbucks_Promotion_Analysis/test_results.py:17\u001b[0m, in \u001b[0;36mtest_results\u001b[0;34m(promotion_strategy)\u001b[0m\n\u001b[1;32m     <a href='file:///home/salman1567/code/Data%20Science%20-%20Machine%20Learning%20Projects/Data%20Science%20Portfolio/Starbucks_Promotion_Analysis/test_results.py?line=14'>15</a>\u001b[0m test_data \u001b[39m=\u001b[39m pd\u001b[39m.\u001b[39mread_csv(\u001b[39m'\u001b[39m\u001b[39mdata/Test.csv\u001b[39m\u001b[39m'\u001b[39m)\n\u001b[1;32m     <a href='file:///home/salman1567/code/Data%20Science%20-%20Machine%20Learning%20Projects/Data%20Science%20Portfolio/Starbucks_Promotion_Analysis/test_results.py?line=15'>16</a>\u001b[0m df \u001b[39m=\u001b[39m test_data[[\u001b[39m'\u001b[39m\u001b[39mV1\u001b[39m\u001b[39m'\u001b[39m, \u001b[39m'\u001b[39m\u001b[39mV2\u001b[39m\u001b[39m'\u001b[39m, \u001b[39m'\u001b[39m\u001b[39mV3\u001b[39m\u001b[39m'\u001b[39m, \u001b[39m'\u001b[39m\u001b[39mV4\u001b[39m\u001b[39m'\u001b[39m, \u001b[39m'\u001b[39m\u001b[39mV5\u001b[39m\u001b[39m'\u001b[39m, \u001b[39m'\u001b[39m\u001b[39mV6\u001b[39m\u001b[39m'\u001b[39m, \u001b[39m'\u001b[39m\u001b[39mV7\u001b[39m\u001b[39m'\u001b[39m]]\n\u001b[0;32m---> <a href='file:///home/salman1567/code/Data%20Science%20-%20Machine%20Learning%20Projects/Data%20Science%20Portfolio/Starbucks_Promotion_Analysis/test_results.py?line=16'>17</a>\u001b[0m promos \u001b[39m=\u001b[39m promotion_strategy(df)\n\u001b[1;32m     <a href='file:///home/salman1567/code/Data%20Science%20-%20Machine%20Learning%20Projects/Data%20Science%20Portfolio/Starbucks_Promotion_Analysis/test_results.py?line=17'>18</a>\u001b[0m score_df \u001b[39m=\u001b[39m test_data\u001b[39m.\u001b[39miloc[np\u001b[39m.\u001b[39mwhere(promos \u001b[39m==\u001b[39m \u001b[39m'\u001b[39m\u001b[39mYes\u001b[39m\u001b[39m'\u001b[39m)]    \n\u001b[1;32m     <a href='file:///home/salman1567/code/Data%20Science%20-%20Machine%20Learning%20Projects/Data%20Science%20Portfolio/Starbucks_Promotion_Analysis/test_results.py?line=18'>19</a>\u001b[0m irr, nir \u001b[39m=\u001b[39m score(score_df)\n",
      "\u001b[1;32m/home/salman1567/code/Data Science - Machine Learning Projects/Data Science Portfolio/Starbucks_Promotion_Analysis/Starbucks.ipynb Cell 25'\u001b[0m in \u001b[0;36mpromotion_strategy\u001b[0;34m(df)\u001b[0m\n\u001b[1;32m      <a href='vscode-notebook-cell:/home/salman1567/code/Data%20Science%20-%20Machine%20Learning%20Projects/Data%20Science%20Portfolio/Starbucks_Promotion_Analysis/Starbucks.ipynb#ch0000015?line=0'>1</a>\u001b[0m \u001b[39mdef\u001b[39;00m \u001b[39mpromotion_strategy\u001b[39m(df):\n\u001b[1;32m      <a href='vscode-notebook-cell:/home/salman1567/code/Data%20Science%20-%20Machine%20Learning%20Projects/Data%20Science%20Portfolio/Starbucks_Promotion_Analysis/Starbucks.ipynb#ch0000015?line=1'>2</a>\u001b[0m     \u001b[39m'''\u001b[39;00m\n\u001b[1;32m      <a href='vscode-notebook-cell:/home/salman1567/code/Data%20Science%20-%20Machine%20Learning%20Projects/Data%20Science%20Portfolio/Starbucks_Promotion_Analysis/Starbucks.ipynb#ch0000015?line=2'>3</a>\u001b[0m \u001b[39m    INPUT \u001b[39;00m\n\u001b[1;32m      <a href='vscode-notebook-cell:/home/salman1567/code/Data%20Science%20-%20Machine%20Learning%20Projects/Data%20Science%20Portfolio/Starbucks_Promotion_Analysis/Starbucks.ipynb#ch0000015?line=3'>4</a>\u001b[0m \u001b[39m    df - a dataframe with *only* the columns V1 - V7 (same as train_data)\u001b[39;00m\n\u001b[0;32m   (...)\u001b[0m\n\u001b[1;32m     <a href='vscode-notebook-cell:/home/salman1567/code/Data%20Science%20-%20Machine%20Learning%20Projects/Data%20Science%20Portfolio/Starbucks_Promotion_Analysis/Starbucks.ipynb#ch0000015?line=23'>24</a>\u001b[0m \u001b[39m    the last should not.\u001b[39;00m\n\u001b[1;32m     <a href='vscode-notebook-cell:/home/salman1567/code/Data%20Science%20-%20Machine%20Learning%20Projects/Data%20Science%20Portfolio/Starbucks_Promotion_Analysis/Starbucks.ipynb#ch0000015?line=24'>25</a>\u001b[0m \u001b[39m    '''\u001b[39;00m\n\u001b[0;32m---> <a href='vscode-notebook-cell:/home/salman1567/code/Data%20Science%20-%20Machine%20Learning%20Projects/Data%20Science%20Portfolio/Starbucks_Promotion_Analysis/Starbucks.ipynb#ch0000015?line=29'>30</a>\u001b[0m     \u001b[39mreturn\u001b[39;00m promotion\n",
      "\u001b[0;31mNameError\u001b[0m: name 'promotion' is not defined"
     ]
    }
   ],
   "source": [
    "# This will test your results, and provide you back some information \n",
    "# on how well your promotion_strategy will work in practice\n",
    "\n",
    "test_results(promotion_strategy)"
   ]
  }
 ],
 "metadata": {
  "kernelspec": {
   "display_name": "Python 3",
   "language": "python",
   "name": "python3"
  },
  "language_info": {
   "codemirror_mode": {
    "name": "ipython",
    "version": 3
   },
   "file_extension": ".py",
   "mimetype": "text/x-python",
   "name": "python",
   "nbconvert_exporter": "python",
   "pygments_lexer": "ipython3",
   "version": "3.10.4"
  }
 },
 "nbformat": 4,
 "nbformat_minor": 2
}
