{
 "cells": [
  {
   "cell_type": "markdown",
   "metadata": {},
   "source": [
    "## Imports"
   ]
  },
  {
   "cell_type": "code",
   "execution_count": 18,
   "metadata": {},
   "outputs": [],
   "source": [
    "import os\n",
    "import sys\n",
    "import pandas as pd\n",
    "import seaborn as sns\n",
    "\n",
    "from typing import List, Union\n",
    "from pydantic import validate_arguments\n",
    "\n",
    "# Importing functions from src/data\n",
    "parent_dir = os.path.abspath(os.path.join('..'))\n",
    "module_path = parent_dir + \"/src/data\"\n",
    "\n",
    "if module_path not in sys.path:\n",
    "    sys.path.append(module_path)\n",
    "\n",
    "import database as db\n",
    "import api\n",
    "import pickle_helpers as pkle\n",
    "import constants as cnt"
   ]
  },
  {
   "cell_type": "code",
   "execution_count": 4,
   "metadata": {},
   "outputs": [
    {
     "data": {
      "text/plain": [
       "'/home/salman1567/code/Data Science - Machine Learning Projects/Data Science Portfolio/Eve_Online_PI_Price_Forecaster'"
      ]
     },
     "execution_count": 4,
     "metadata": {},
     "output_type": "execute_result"
    }
   ],
   "source": [
    "parent_dir = os.path.abspath(os.path.join('..'))\n",
    "parent_dir"
   ]
  },
  {
   "cell_type": "markdown",
   "metadata": {},
   "source": [
    "## Table of Contents\n",
    "\n",
    "1. [Data Collection](#data-collection)\n",
    "2. [Data Validation](#data-validation)\n",
    "3. [Preprocessing](#preprocessing)"
   ]
  },
  {
   "cell_type": "markdown",
   "metadata": {},
   "source": [
    "### Data Collection\n",
    "\n",
    "The average price is collected from an API and stored in a postgresql database. In order to retrieve the data in order to begin any analysis we make a query to the database which is handled by the market_data function below.\n",
    "\n",
    "The data recieved is in the format of a list of 3-tuples containing a unique id, time and price at that time."
   ]
  },
  {
   "cell_type": "code",
   "execution_count": 4,
   "metadata": {},
   "outputs": [],
   "source": [
    "@validate_arguments\n",
    "def market_data(item_name: str, region_id: str | int = \"0\", order_type: str = \"buy\", stat: str = \"weightedAverage\") -> List:\n",
    "    \"\"\" Makes a query to the postgresql database market_data based on the parameters specified.\n",
    "\n",
    "    Args:\n",
    "        item_name (str): Provide the name of the raw material,\n",
    "        \n",
    "        region_id (str, int): Select region id of the market data. defaults to \"0\".\n",
    "        \n",
    "            - There are 7 Regions\n",
    "                - Global - 0\n",
    "                - Jita - 30000142\n",
    "                - Perimeter - 30000144\n",
    "                - Jita 4-4 CNAP - 60003760\n",
    "                - Amarr VIII - 60008494\n",
    "                - Dodixie - 60011866\n",
    "                - Rens - 60004588\n",
    "                - Hek - 60005686\n",
    "                \n",
    "        order_type (str, optional): Either 'buy' or 'sell' orders. Defaults to \"buy\".\n",
    "        \n",
    "        stat(str): Select the summary statistic to return\n",
    "\n",
    "            - Valid args for stat:\n",
    "                - weightedAverage\n",
    "                - max\n",
    "                - min\n",
    "                - stddev\n",
    "                - median\n",
    "                - volume\n",
    "                - orderCount\n",
    "                - percentile\n",
    "\n",
    "    Returns:\n",
    "        List: Contains a list of tuples containing id, time, and data from market_data\n",
    "    \"\"\"\n",
    "    # Validating and reformating arguments into proper format\n",
    "    order_type = order_type.lower()\n",
    "    \n",
    "    if order_type != (\"buy\" or \"sell\"):\n",
    "        raise ValueError(f\"Found order_type to be of type {type(order_type)}\")\n",
    "    \n",
    "    itemid = api.get_item_id(item_name)\n",
    "    \n",
    "    # Postgresql query unpacking JSON data field\n",
    "    command = (\n",
    "        f\"\"\"\n",
    "        SELECT id, time, data -> '{itemid}' -> '{order_type}' -> '{stat}'\n",
    "        FROM market_data\n",
    "        WHERE region_id = {region_id}\n",
    "        \"\"\"\n",
    "        )\n",
    "    \n",
    "    results = db.postgresql_command(command, results=True)\n",
    "    \n",
    "    return results\n",
    "    "
   ]
  },
  {
   "cell_type": "code",
   "execution_count": 1,
   "metadata": {},
   "outputs": [],
   "source": [
    "# Historical average buy order price for Silicon\n",
    "#market_data(\"Silicon\")"
   ]
  },
  {
   "cell_type": "code",
   "execution_count": 6,
   "metadata": {},
   "outputs": [
    {
     "name": "stdout",
     "output_type": "stream",
     "text": [
      "Command executed successfully\n"
     ]
    },
    {
     "data": {
      "text/html": [
       "<div>\n",
       "<style scoped>\n",
       "    .dataframe tbody tr th:only-of-type {\n",
       "        vertical-align: middle;\n",
       "    }\n",
       "\n",
       "    .dataframe tbody tr th {\n",
       "        vertical-align: top;\n",
       "    }\n",
       "\n",
       "    .dataframe thead th {\n",
       "        text-align: right;\n",
       "    }\n",
       "</style>\n",
       "<table border=\"1\" class=\"dataframe\">\n",
       "  <thead>\n",
       "    <tr style=\"text-align: right;\">\n",
       "      <th></th>\n",
       "      <th>id</th>\n",
       "      <th>time</th>\n",
       "      <th>avg_price</th>\n",
       "    </tr>\n",
       "  </thead>\n",
       "  <tbody>\n",
       "    <tr>\n",
       "      <th>0</th>\n",
       "      <td>9</td>\n",
       "      <td>2022-05-23 17:43:39.109944</td>\n",
       "      <td>330.190015</td>\n",
       "    </tr>\n",
       "    <tr>\n",
       "      <th>1</th>\n",
       "      <td>17</td>\n",
       "      <td>2022-05-23 17:51:28.265570</td>\n",
       "      <td>330.185014</td>\n",
       "    </tr>\n",
       "    <tr>\n",
       "      <th>2</th>\n",
       "      <td>25</td>\n",
       "      <td>2022-05-23 17:53:37.343203</td>\n",
       "      <td>330.185014</td>\n",
       "    </tr>\n",
       "    <tr>\n",
       "      <th>3</th>\n",
       "      <td>33</td>\n",
       "      <td>2022-05-23 17:56:09.378611</td>\n",
       "      <td>330.185014</td>\n",
       "    </tr>\n",
       "    <tr>\n",
       "      <th>4</th>\n",
       "      <td>41</td>\n",
       "      <td>2022-05-23 18:00:36.550194</td>\n",
       "      <td>330.185014</td>\n",
       "    </tr>\n",
       "    <tr>\n",
       "      <th>...</th>\n",
       "      <td>...</td>\n",
       "      <td>...</td>\n",
       "      <td>...</td>\n",
       "    </tr>\n",
       "    <tr>\n",
       "      <th>121</th>\n",
       "      <td>977</td>\n",
       "      <td>2022-05-30 12:00:39.347071</td>\n",
       "      <td>328.482254</td>\n",
       "    </tr>\n",
       "    <tr>\n",
       "      <th>122</th>\n",
       "      <td>985</td>\n",
       "      <td>2022-05-30 13:00:39.033141</td>\n",
       "      <td>328.143212</td>\n",
       "    </tr>\n",
       "    <tr>\n",
       "      <th>123</th>\n",
       "      <td>993</td>\n",
       "      <td>2022-05-30 14:00:38.958329</td>\n",
       "      <td>328.143212</td>\n",
       "    </tr>\n",
       "    <tr>\n",
       "      <th>124</th>\n",
       "      <td>1001</td>\n",
       "      <td>2022-05-30 15:00:39.350501</td>\n",
       "      <td>328.238807</td>\n",
       "    </tr>\n",
       "    <tr>\n",
       "      <th>125</th>\n",
       "      <td>1009</td>\n",
       "      <td>2022-05-30 16:00:40.184732</td>\n",
       "      <td>328.224031</td>\n",
       "    </tr>\n",
       "  </tbody>\n",
       "</table>\n",
       "<p>126 rows × 3 columns</p>\n",
       "</div>"
      ],
      "text/plain": [
       "       id                       time   avg_price\n",
       "0       9 2022-05-23 17:43:39.109944  330.190015\n",
       "1      17 2022-05-23 17:51:28.265570  330.185014\n",
       "2      25 2022-05-23 17:53:37.343203  330.185014\n",
       "3      33 2022-05-23 17:56:09.378611  330.185014\n",
       "4      41 2022-05-23 18:00:36.550194  330.185014\n",
       "..    ...                        ...         ...\n",
       "121   977 2022-05-30 12:00:39.347071  328.482254\n",
       "122   985 2022-05-30 13:00:39.033141  328.143212\n",
       "123   993 2022-05-30 14:00:38.958329  328.143212\n",
       "124  1001 2022-05-30 15:00:39.350501  328.238807\n",
       "125  1009 2022-05-30 16:00:40.184732  328.224031\n",
       "\n",
       "[126 rows x 3 columns]"
      ]
     },
     "execution_count": 6,
     "metadata": {},
     "output_type": "execute_result"
    }
   ],
   "source": [
    "# Historical average buy order price for Silicon\n",
    "df = pd.DataFrame(data=market_data(\"Silicon\"), columns=[\"id\", \"time\", \"avg_price\"])\n",
    "df.avg_price = pd.to_numeric(df.avg_price)\n",
    "df"
   ]
  },
  {
   "cell_type": "code",
   "execution_count": 9,
   "metadata": {},
   "outputs": [
    {
     "data": {
      "text/plain": [
       "[Text(0.5, 1.0, 'Avg Price for Silicon')]"
      ]
     },
     "execution_count": 9,
     "metadata": {},
     "output_type": "execute_result"
    },
    {
     "data": {
      "image/png": "[encoded data removed]",
      "text/plain": [
       "<Figure size 432x288 with 1 Axes>"
      ]
     },
     "metadata": {},
     "output_type": "display_data"
    }
   ],
   "source": [
    "# Plot\n",
    "sns.set_theme(style=\"white\")\n",
    "plt = sns.lineplot(x=df.time, y=df.avg_price)\n",
    "plt.set(title=\"Avg Price for Silicon\")\n",
    "\n"
   ]
  },
  {
   "cell_type": "code",
   "execution_count": 19,
   "metadata": {},
   "outputs": [
    {
     "data": {
      "text/plain": [
       "[2348,\n",
       " 9842,\n",
       " 2307,\n",
       " 3725,\n",
       " 9830,\n",
       " 2366,\n",
       " 12836,\n",
       " 2328,\n",
       " 2305,\n",
       " 9828,\n",
       " 2321,\n",
       " 2360,\n",
       " 2397,\n",
       " 2389,\n",
       " 3697,\n",
       " 2352,\n",
       " 2344,\n",
       " 2327,\n",
       " 2868,\n",
       " 2367,\n",
       " 2329,\n",
       " 17392,\n",
       " 2309,\n",
       " 2270,\n",
       " 2308,\n",
       " 2319,\n",
       " 17136,\n",
       " 2272,\n",
       " 2310,\n",
       " 2872,\n",
       " 2287,\n",
       " 2876,\n",
       " 44,\n",
       " 9840,\n",
       " 3645,\n",
       " 2288,\n",
       " 9832,\n",
       " 3683,\n",
       " 2867,\n",
       " 9846,\n",
       " 2390,\n",
       " 2400,\n",
       " 2267,\n",
       " 2869,\n",
       " 2392,\n",
       " 2399,\n",
       " 3779,\n",
       " 17898,\n",
       " 2401,\n",
       " 2346,\n",
       " 9834,\n",
       " 2870,\n",
       " 2345,\n",
       " 9838,\n",
       " 3695,\n",
       " 9836,\n",
       " 2311,\n",
       " 3775,\n",
       " 9848,\n",
       " 28974,\n",
       " 2351,\n",
       " 2268,\n",
       " 2393,\n",
       " 3693,\n",
       " 2398,\n",
       " 2354,\n",
       " 2286,\n",
       " 2875,\n",
       " 15317,\n",
       " 2395,\n",
       " 2463,\n",
       " 2871,\n",
       " 2306,\n",
       " 2396,\n",
       " 3828,\n",
       " 3691,\n",
       " 2358,\n",
       " 2361,\n",
       " 2312,\n",
       " 2349,\n",
       " 3689,\n",
       " 2073,\n",
       " 2317]"
      ]
     },
     "execution_count": 19,
     "metadata": {},
     "output_type": "execute_result"
    }
   ],
   "source": [
    "pickled_items_path = parent_dir + \"/\" + cnt.ITEMS_PATH\n",
    "pkle.load_pickle_data(pickled_items_path)"
   ]
  }
 ],
 "metadata": {
  "interpreter": {
   "hash": "0c7c545e18f71168b0f0faa889157618686ac54bcfd377c91147b26dbd4ffa70"
  },
  "kernelspec": {
   "display_name": "Python 3.10.4 ('env': venv)",
   "language": "python",
   "name": "python3"
  },
  "language_info": {
   "codemirror_mode": {
    "name": "ipython",
    "version": 3
   },
   "file_extension": ".py",
   "mimetype": "text/x-python",
   "name": "python",
   "nbconvert_exporter": "python",
   "pygments_lexer": "ipython3",
   "version": "3.10.4"
  },
  "orig_nbformat": 4
 },
 "nbformat": 4,
 "nbformat_minor": 2
}
