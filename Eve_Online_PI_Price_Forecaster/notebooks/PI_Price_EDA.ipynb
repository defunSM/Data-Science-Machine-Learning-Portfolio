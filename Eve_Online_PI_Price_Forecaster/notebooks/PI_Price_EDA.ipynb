{
 "cells": [
  {
   "cell_type": "markdown",
   "metadata": {},
   "source": [
    "## Imports"
   ]
  },
  {
   "cell_type": "code",
   "execution_count": 4,
   "metadata": {},
   "outputs": [],
   "source": [
    "import os\n",
    "import sys\n",
    "import pandas as pd\n",
    "import seaborn as sns\n",
    "\n",
    "from typing import List\n",
    "\n",
    "\n",
    "# Importing functions from src/data\n",
    "parent_dir = os.path.abspath(os.path.join('..'))\n",
    "module_path = parent_dir + \"/src/data\"\n",
    "\n",
    "if module_path not in sys.path:\n",
    "    sys.path.append(module_path)\n",
    "\n",
    "import database as db\n",
    "import api\n",
    "import pickle_helpers as pkle\n",
    "import constants as cnt"
   ]
  },
  {
   "cell_type": "markdown",
   "metadata": {},
   "source": [
    "## Table of Contents\n",
    "\n",
    "1. [Data Collection](#data-collection)\n",
    "2. [Data Validation](#data-validation)\n",
    "3. [Preprocessing](#preprocessing)"
   ]
  },
  {
   "cell_type": "markdown",
   "metadata": {},
   "source": [
    "### Data Collection\n",
    "\n",
    "The average price is collected from an API and stored in a postgresql database. In order to retrieve the data in order to begin any analysis we make a query to the database which is handled by the market_data function below.\n",
    "\n",
    "The data recieved is in the format of a list of 3-tuples containing a unique id, time and price at that time."
   ]
  },
  {
   "cell_type": "code",
   "execution_count": 5,
   "metadata": {},
   "outputs": [],
   "source": [
    "# TODO: Improve function to follow dry principles\n",
    "def create_item_dataframe(raw_material_name: str, region_id: str | int = \"0\"):\n",
    "    \n",
    "    # Historical average buy and sell order stats for raw_material_name\n",
    "    buy_market_stats = api.market_data(raw_material_name, region_id=region_id)\n",
    "    buy_order_stats = [i[2] for i in buy_market_stats]\n",
    "    times = [i[1] for i in buy_market_stats]\n",
    "    \n",
    "    sell_market_stats = api.market_data(raw_material_name, region_id=region_id, order_type=\"sell\")\n",
    "    sell_order_stats = [i[2] for i in sell_market_stats]\n",
    "    times = [i[1] for i in sell_market_stats]\n",
    "\n",
    "    # Creating dataframe for buy and sell orders and renaming columns\n",
    "    df_buy = pd.DataFrame(data=buy_order_stats)\n",
    "    df_buy.rename(columns=lambda x: \"buy_\" + x, inplace=True)\n",
    "    \n",
    "    df_sell = pd.DataFrame(data=sell_order_stats)\n",
    "    df_sell.rename(columns=lambda x: \"sell_\" + x, inplace=True)\n",
    "    \n",
    "    df_times = pd.DataFrame(data=times, columns=[\"time\"])\n",
    "\n",
    "    df = pd.concat([df_times, df_buy, df_sell], axis=1)\n",
    "\n",
    "    return df\n",
    "\n",
    "def create_item_plot(raw_material_name: str, region_id: str = \"0\", order_type: str = \"both\"):\n",
    "    \n",
    "    df = create_item_dataframe(raw_material_name, region_id=region_id)\n",
    "    \n",
    "\n",
    "    # Fixing datatype for all the columns except the time column\n",
    "    for i in df.iloc[:,1:].columns:\n",
    "        df[i] = pd.to_numeric(df[i])\n",
    "    \n",
    "    if order_type == \"both\":\n",
    "        cols = ['time', 'buy_median', 'buy_weightedAverage', 'sell_median', 'sell_weightedAverage']\n",
    "    elif order_type == \"sell\":\n",
    "        cols = ['time', 'sell_median', 'sell_weightedAverage']\n",
    "    elif order_type == \"buy\":\n",
    "        cols = ['time', 'buy_median', 'buy_weightedAverage']\n",
    "        \n",
    "    df = df[cols]\n",
    "    data = pd.melt(df, [\"time\"])\n",
    "        \n",
    "    # Plot\n",
    "    sns.set_theme(style=\"white\")\n",
    "    plt = sns.lineplot(data=data, x='time', y='value', hue='variable')\n",
    "    plt.set(title=f\"The Price of {raw_material_name}\", ylabel=\"Price (ISK)\")\n",
    "    "
   ]
  },
  {
   "cell_type": "code",
   "execution_count": 6,
   "metadata": {},
   "outputs": [
    {
     "name": "stdout",
     "output_type": "stream",
     "text": [
      "Command executed successfully\n",
      "Command executed successfully\n"
     ]
    },
    {
     "data": {
      "image/png": "[encoded data removed]",
      "text/plain": [
       "<Figure size 432x288 with 1 Axes>"
      ]
     },
     "metadata": {
      "needs_background": "light"
     },
     "output_type": "display_data"
    }
   ],
   "source": [
    "#market_data(\"Silicon\", \"0\", order_type=\"sell\")\n",
    "#create_item_dataframe(\"Silicon\", \"0\")\n",
    "\n",
    "create_item_plot(\"Chiral Structures\", \"0\", \"sell\")"
   ]
  },
  {
   "cell_type": "code",
   "execution_count": 7,
   "metadata": {},
   "outputs": [],
   "source": [
    "# Return the current price of a material in all regions\n",
    "def current_price(material_name: str, region_id: int | str = \"all\", order_type: str = \"buy\"):\n",
    "    \"\"\"_summary_\n",
    "\n",
    "    Args:\n",
    "        material_name (str): _description_\n",
    "        region_id (int | str, optional): _description_. Defaults to \"all\".\n",
    "        order_type (str, optional): _description_. Defaults to \"buy\".\n",
    "    \"\"\"\n",
    "    \n",
    "    item_id = api.get_item_id(material_name)\n",
    "    \n",
    "    command = (f\"\"\"\n",
    "        SELECT data -> '{item_id}' -> '{order_type}'\n",
    "        FROM market_data\n",
    "        WHERE region_id = {region_id}\n",
    "    \"\"\")\n",
    "    \n",
    "# Determine how much an item has increased by given a time frame\n",
    "def compute_percentage_gain(material_name: str, region_id: str | int, order_type):\n",
    "    pass\n"
   ]
  }
 ],
 "metadata": {
  "interpreter": {
   "hash": "0c7c545e18f71168b0f0faa889157618686ac54bcfd377c91147b26dbd4ffa70"
  },
  "kernelspec": {
   "display_name": "Python 3.10.4 ('env': venv)",
   "language": "python",
   "name": "python3"
  },
  "language_info": {
   "codemirror_mode": {
    "name": "ipython",
    "version": 3
   },
   "file_extension": ".py",
   "mimetype": "text/x-python",
   "name": "python",
   "nbconvert_exporter": "python",
   "pygments_lexer": "ipython3",
   "version": "3.10.4"
  },
  "orig_nbformat": 4
 },
 "nbformat": 4,
 "nbformat_minor": 2
}
