{
 "cells": [
  {
   "cell_type": "markdown",
   "metadata": {},
   "source": [
    "## Imports"
   ]
  },
  {
   "cell_type": "code",
   "execution_count": 1,
   "metadata": {},
   "outputs": [],
   "source": [
    "import psycopg2\n",
    "import os\n",
    "import requests\n",
    "import json\n",
    "from os import path\n",
    "from dotenv import load_dotenv, find_dotenv\n",
    "from datetime import datetime\n",
    "\n",
    "\"\"\"---------------------- env constants --------------------------\"\"\"\n",
    "\n",
    "# find .env by walking up directories until it's found\n",
    "dotenv_path = find_dotenv()\n",
    "\n",
    "# load up the entries as environment variables\n",
    "load_dotenv(dotenv_path)\n",
    "\n",
    "\"\"\"---------------------- database constants --------------------------\"\"\"\n",
    "\n",
    "DATABASE_URL = os.environ.get('DATABASE_URL')\n",
    "DATABASE_NAME = os.environ.get(\"DATABASE_NAME\")\n",
    "DATABASE_USER = os.environ.get(\"DATABASE_USER\")\n",
    "DATABASE_PASSWORD = os.environ.get(\"DATABASE_PASSWORD\")\n",
    "\n",
    "\"\"\"---------------------- filepath and id constants --------------------------\"\"\"\n",
    "\n",
    "# Filepath that contains the items that we are interested in forcasting\n",
    "FILENAME = 'data/items.txt'\n",
    "\n",
    "# region ids that will be used in the function collect_data \n",
    "REGIONS = [0, 30000142, 30000144, 60003760, 60008494, 60011866, 60004588, 60005686]"
   ]
  },
  {
   "cell_type": "markdown",
   "metadata": {},
   "source": [
    "## Table of Contents\n",
    "\n",
    "1. [Data Collection](#data-collection)\n",
    "2. [Preprocessing](#preprocessing)"
   ]
  },
  {
   "cell_type": "markdown",
   "metadata": {},
   "source": [
    "## Data Collection"
   ]
  },
  {
   "cell_type": "code",
   "execution_count": 4,
   "metadata": {},
   "outputs": [],
   "source": [
    "def get_raw_material_names():\n",
    "    \"\"\" Return a list of raw material names from from FILENAME\n",
    "\n",
    "    Returns:\n",
    "        raw_material_names: item names of interest for forcast\n",
    "    \"\"\"\n",
    "    \n",
    "    \n",
    "    # List that will be returned after it has been populated\n",
    "    raw_material_names = []\n",
    "    \n",
    "    if path.exists(FILENAME):\n",
    "        \n",
    "        file = open(FILENAME, \"r\")\n",
    "        \n",
    "        # Read each line from FILENAME and append each item name into the list\n",
    "        for item in file.readlines():\n",
    "            raw_material_names.append(item)\n",
    "            \n",
    "        file.close()\n",
    "        \n",
    "    else:\n",
    "        print(FILENAME, \"does not exist.\")\n",
    "    \n",
    "    # Make sure that the item names are not repeated\n",
    "    raw_material_names = list(set(raw_material_names))\n",
    "    \n",
    "    return raw_material_names\n",
    "\n",
    "def get_item_id(item_name=None):\n",
    "    \"\"\" Returns the item ID from using the API endpoint https://www.fuzzwork.co.uk/api/typeid.php?typename=Silicon\n",
    "\n",
    "    Args:\n",
    "        item_name (string): Name of the raw material. Defaults to None.\n",
    "\n",
    "    Returns:\n",
    "        list: A list of ids that are of type int\n",
    "    \"\"\"\n",
    "    \n",
    "    item_id = None\n",
    "    \n",
    "    if item_id:\n",
    "        return item_id\n",
    "    \n",
    "def fetch_data(region_id, item_id):\n",
    "    \"\"\" Returns JSON given an input of the region and item from an API\n",
    "\n",
    "    Args:\n",
    "        region_id (int): id that is assigned to each major market region.\n",
    "        item_id (int): id that is assigned to each raw material.\n",
    "\n",
    "    Returns:\n",
    "        dict: JSON Data from https://market.fuzzwork.co.uk/aggregates/?region=30000142&types=9828\n",
    "    \"\"\"\n",
    "    \n",
    "    api_url = \"https://market.fuzzwork.co.uk/aggregates/?region=\" + str(region_id) + \"&types=\" + str(item_id)\n",
    "    r = requests.get(api_url)\n",
    "    \n",
    "    # encoding as json\n",
    "    raw_material_data = r.json()\n",
    "    \n",
    "    return raw_material_data"
   ]
  },
  {
   "cell_type": "code",
   "execution_count": 21,
   "metadata": {},
   "outputs": [
    {
     "name": "stdout",
     "output_type": "stream",
     "text": [
      "{'2073': {'buy': {'weightedAverage': '0.635268011252', 'max': '1.38', 'min': '0.01', 'stddev': '0.53276470913', 'median': '0.92', 'volume': '709540043.0', 'orderCount': '18', 'percentile': '1.38'}, 'sell': {'weightedAverage': '4.24927857003', 'max': '150.0', 'min': '1.0', 'stddev': '21.9770924539', 'median': '2.72', 'volume': '319974773.0', 'orderCount': '45', 'percentile': '1.8641616903'}}, '9828': {'buy': {'weightedAverage': '344.378438957', 'max': '600.0', 'min': '0.01', 'stddev': '169.534536467', 'median': '386.4', 'volume': '19499124.0', 'orderCount': '83', 'percentile': '547.615833122'}, 'sell': {'weightedAverage': '610.52940589', 'max': '5916.0', 'min': '200.0', 'stddev': '614.256526942', 'median': '599.55', 'volume': '8238744.0', 'orderCount': '82', 'percentile': '344.968270892'}}}\n"
     ]
    }
   ],
   "source": [
    "# Testing the functions defined above\n",
    "D1 = {}\n",
    "D2 = fetch_data(0, 2073)\n",
    "D3 = fetch_data(0, 9828)\n",
    "\n",
    "D1.update(D2)\n",
    "D1.update(D3)\n",
    "print(D1)"
   ]
  },
  {
   "cell_type": "code",
   "execution_count": null,
   "metadata": {},
   "outputs": [],
   "source": [
    "def store_data():\n",
    "    \"\"\" GET Requests the Eve Online API endpoint https://market.fuzzwork.co.uk/aggregates/?region=30000142&types=9828 \n",
    "    which takes two params region and types. This JSON data is then stored\n",
    "    \n",
    "    Region: The location that the markets are located in\n",
    "    - There are 7 Regions\n",
    "        - Global - 0\n",
    "        - Jita - 30000142\n",
    "        - Perimeter - 30000144\n",
    "        - Jita 4-4 CNAP - 60003760\n",
    "        - Amarr VIII - 60008494\n",
    "        - Dodixie - 60011866\n",
    "        - Rens - 60004588\n",
    "        - Hek - 60005686\n",
    "        \n",
    "    Types: The ID of the raw material, List of IDs: https://docs.google.com/spreadsheets/d/1X7mi7j-_yV5lq-Yd2BraE-t4QE_a4IKv2ZuCBSLD6QU/edit?usp=sharing\n",
    "    \"\"\"\n",
    "    \n",
    "    items = get_raw_material_names()\n",
    "    item_ids = [ get_item_id(i) for i in items ]\n",
    "    \n",
    "    json_data = {}\n",
    "    time = datetime.now()\n",
    "    \n",
    "    # Fetch the data for each region and raw material id\n",
    "    print(\"Fetching data...\")\n",
    "    for i in item_ids:\n",
    "        for r in REGIONS:\n",
    "            data = fetch_data(region_id=r, item_id=i)\n",
    "            json_data.update(data)\n",
    "    \n",
    "    # Connecting to the database\n",
    "    print(\"Trying to connect to database...\")\n",
    "    try:\n",
    "        conn = psycopg2.connect(host=DATABASE_URL,\n",
    "                                database=DATABASE_NAME,\n",
    "                                user=DATABASE_USER,\n",
    "                                password=DATABASE_PASSWORD)\n",
    "        cursor = conn.cursor()\n",
    "        \n",
    "        print(\"Connected to database and now inserting data into table...\")\n",
    "        \n",
    "        # sql to insert the json into the raw_market_data table\n",
    "        insert_command = (\n",
    "        \"\"\"\n",
    "        INSERT INTO raw_market_data (TIME, DATA) VALUES (%s, %s)\n",
    "        \"\"\"\n",
    "        )\n",
    "        \n",
    "        # Serializing json\n",
    "        json_object = json.dumps(json_data)\n",
    "        \n",
    "        # Inserting into table\n",
    "        values = (time, json_object)\n",
    "        cursor.execute(insert_command, values)\n",
    "        \n",
    "        # Close and commit changes to database server\n",
    "        conn.close()\n",
    "        conn.commit()\n",
    "        \n",
    "        print(\"Successfully stored data into table.\")\n",
    "        \n",
    "    except (Exception, psycopg2.DatabaseError) as error:\n",
    "        print(error)\n",
    "    finally:\n",
    "        if conn is not None:\n",
    "            conn.close()\n",
    "    \n",
    "    "
   ]
  },
  {
   "cell_type": "markdown",
   "metadata": {},
   "source": [
    "## Preprocessing"
   ]
  }
 ],
 "metadata": {
  "interpreter": {
   "hash": "5e421c40ca6ec0832df0f1983de2719ce27ef5fd59aba882704d6c9c14579863"
  },
  "kernelspec": {
   "display_name": "eveonline",
   "language": "python",
   "name": "eveonline"
  },
  "language_info": {
   "codemirror_mode": {
    "name": "ipython",
    "version": 3
   },
   "file_extension": ".py",
   "mimetype": "text/x-python",
   "name": "python",
   "nbconvert_exporter": "python",
   "pygments_lexer": "ipython3",
   "version": "3.10.4"
  },
  "orig_nbformat": 4
 },
 "nbformat": 4,
 "nbformat_minor": 2
}
