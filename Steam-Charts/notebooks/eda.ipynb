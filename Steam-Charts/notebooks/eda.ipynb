{
 "cells": [
  {
   "cell_type": "markdown",
   "metadata": {},
   "source": [
    "# Imports"
   ]
  },
  {
   "cell_type": "code",
   "execution_count": 79,
   "metadata": {},
   "outputs": [],
   "source": [
    "import numpy as np\n",
    "import pandas as pd\n",
    "import seaborn as sns\n",
    "import matplotlib as plt\n"
   ]
  },
  {
   "cell_type": "markdown",
   "metadata": {},
   "source": [
    "# Data Collection\n",
    "\n",
    "In this exploratory data analysis we are going to be looking at the top 5 most played games on steam as of June 2022 which are Lost Ark, Counter-Strike, Dota 2, ARK, and Apex Legends. The data is going to be csv files that were downloaded from https://steamdb.info/graph/ and looking at the concurrent players over the course of the month of June 2022 to present day. \n",
    "\n",
    "It is important to consider the limitations and strengths of the data set that we are examining:\n",
    "\n",
    "Pros:\n",
    "- Exclusively records players from the Steam platform\n",
    "- Records updated every 10 minutes\n",
    "- Includes twitch views as an additional feature\n",
    "\n",
    "Cons:\n",
    "- Not all Players are included (i.e other platforms)\n",
    "- Data limited to current week\n"
   ]
  },
  {
   "cell_type": "code",
   "execution_count": 80,
   "metadata": {},
   "outputs": [],
   "source": [
    "# Data Collection\n",
    "\n",
    "FILE_PATH = '../data/apex.csv'\n",
    "df = pd.read_csv(FILE_PATH)"
   ]
  },
  {
   "cell_type": "markdown",
   "metadata": {},
   "source": [
    "# Data Exploration\n",
    "\n",
    "- Checking Assumptions (Dataframe datatypes)\n",
    "- Handling Missing Data\n",
    "- Removing Unnecessary Features\n",
    "- Renaming Columns"
   ]
  },
  {
   "cell_type": "code",
   "execution_count": 81,
   "metadata": {},
   "outputs": [
    {
     "data": {
      "text/html": [
       "<div>\n",
       "<style scoped>\n",
       "    .dataframe tbody tr th:only-of-type {\n",
       "        vertical-align: middle;\n",
       "    }\n",
       "\n",
       "    .dataframe tbody tr th {\n",
       "        vertical-align: top;\n",
       "    }\n",
       "\n",
       "    .dataframe thead th {\n",
       "        text-align: right;\n",
       "    }\n",
       "</style>\n",
       "<table border=\"1\" class=\"dataframe\">\n",
       "  <thead>\n",
       "    <tr style=\"text-align: right;\">\n",
       "      <th></th>\n",
       "      <th>DateTime</th>\n",
       "      <th>Players</th>\n",
       "      <th>Players Trend</th>\n",
       "      <th>Twitch Viewers</th>\n",
       "    </tr>\n",
       "  </thead>\n",
       "  <tbody>\n",
       "    <tr>\n",
       "      <th>0</th>\n",
       "      <td>2022-05-31 22:20:00</td>\n",
       "      <td>112300</td>\n",
       "      <td>177956.152778</td>\n",
       "      <td>96807</td>\n",
       "    </tr>\n",
       "    <tr>\n",
       "      <th>1</th>\n",
       "      <td>2022-05-31 22:30:00</td>\n",
       "      <td>111307</td>\n",
       "      <td>177912.427710</td>\n",
       "      <td>96756</td>\n",
       "    </tr>\n",
       "    <tr>\n",
       "      <th>2</th>\n",
       "      <td>2022-05-31 22:40:00</td>\n",
       "      <td>110563</td>\n",
       "      <td>177868.428131</td>\n",
       "      <td>98085</td>\n",
       "    </tr>\n",
       "    <tr>\n",
       "      <th>3</th>\n",
       "      <td>2022-05-31 22:50:00</td>\n",
       "      <td>110144</td>\n",
       "      <td>177825.616185</td>\n",
       "      <td>98080</td>\n",
       "    </tr>\n",
       "    <tr>\n",
       "      <th>4</th>\n",
       "      <td>2022-05-31 23:00:00</td>\n",
       "      <td>109717</td>\n",
       "      <td>177784.107016</td>\n",
       "      <td>99534</td>\n",
       "    </tr>\n",
       "    <tr>\n",
       "      <th>...</th>\n",
       "      <td>...</td>\n",
       "      <td>...</td>\n",
       "      <td>...</td>\n",
       "      <td>...</td>\n",
       "    </tr>\n",
       "    <tr>\n",
       "      <th>2011</th>\n",
       "      <td>2022-06-14 21:30:00</td>\n",
       "      <td>108148</td>\n",
       "      <td>161229.261770</td>\n",
       "      <td>69661</td>\n",
       "    </tr>\n",
       "    <tr>\n",
       "      <th>2012</th>\n",
       "      <td>2022-06-14 21:40:00</td>\n",
       "      <td>107093</td>\n",
       "      <td>161264.566413</td>\n",
       "      <td>68039</td>\n",
       "    </tr>\n",
       "    <tr>\n",
       "      <th>2013</th>\n",
       "      <td>2022-06-14 21:50:00</td>\n",
       "      <td>105766</td>\n",
       "      <td>161307.219453</td>\n",
       "      <td>69285</td>\n",
       "    </tr>\n",
       "    <tr>\n",
       "      <th>2014</th>\n",
       "      <td>2022-06-14 22:00:00</td>\n",
       "      <td>104124</td>\n",
       "      <td>161352.114239</td>\n",
       "      <td>77704</td>\n",
       "    </tr>\n",
       "    <tr>\n",
       "      <th>2015</th>\n",
       "      <td>2022-06-14 22:10:00</td>\n",
       "      <td>102306</td>\n",
       "      <td>161399.992401</td>\n",
       "      <td>74310</td>\n",
       "    </tr>\n",
       "  </tbody>\n",
       "</table>\n",
       "<p>2016 rows × 4 columns</p>\n",
       "</div>"
      ],
      "text/plain": [
       "                 DateTime  Players  Players Trend  Twitch Viewers\n",
       "0     2022-05-31 22:20:00   112300  177956.152778           96807\n",
       "1     2022-05-31 22:30:00   111307  177912.427710           96756\n",
       "2     2022-05-31 22:40:00   110563  177868.428131           98085\n",
       "3     2022-05-31 22:50:00   110144  177825.616185           98080\n",
       "4     2022-05-31 23:00:00   109717  177784.107016           99534\n",
       "...                   ...      ...            ...             ...\n",
       "2011  2022-06-14 21:30:00   108148  161229.261770           69661\n",
       "2012  2022-06-14 21:40:00   107093  161264.566413           68039\n",
       "2013  2022-06-14 21:50:00   105766  161307.219453           69285\n",
       "2014  2022-06-14 22:00:00   104124  161352.114239           77704\n",
       "2015  2022-06-14 22:10:00   102306  161399.992401           74310\n",
       "\n",
       "[2016 rows x 4 columns]"
      ]
     },
     "execution_count": 81,
     "metadata": {},
     "output_type": "execute_result"
    }
   ],
   "source": [
    "df"
   ]
  },
  {
   "cell_type": "markdown",
   "metadata": {},
   "source": [
    "We will be handling any missing data. Drop the `Players Trend` column as it is the moving average provided by the Steamdb we will be creating our own player trend later on."
   ]
  },
  {
   "cell_type": "code",
   "execution_count": 82,
   "metadata": {},
   "outputs": [
    {
     "data": {
      "text/html": [
       "<div>\n",
       "<style scoped>\n",
       "    .dataframe tbody tr th:only-of-type {\n",
       "        vertical-align: middle;\n",
       "    }\n",
       "\n",
       "    .dataframe tbody tr th {\n",
       "        vertical-align: top;\n",
       "    }\n",
       "\n",
       "    .dataframe thead th {\n",
       "        text-align: right;\n",
       "    }\n",
       "</style>\n",
       "<table border=\"1\" class=\"dataframe\">\n",
       "  <thead>\n",
       "    <tr style=\"text-align: right;\">\n",
       "      <th></th>\n",
       "      <th>date</th>\n",
       "      <th>players</th>\n",
       "      <th>twitch_viewers</th>\n",
       "    </tr>\n",
       "  </thead>\n",
       "  <tbody>\n",
       "    <tr>\n",
       "      <th>0</th>\n",
       "      <td>2022-05-31 22:20:00</td>\n",
       "      <td>112300</td>\n",
       "      <td>96807</td>\n",
       "    </tr>\n",
       "    <tr>\n",
       "      <th>1</th>\n",
       "      <td>2022-05-31 22:30:00</td>\n",
       "      <td>111307</td>\n",
       "      <td>96756</td>\n",
       "    </tr>\n",
       "    <tr>\n",
       "      <th>2</th>\n",
       "      <td>2022-05-31 22:40:00</td>\n",
       "      <td>110563</td>\n",
       "      <td>98085</td>\n",
       "    </tr>\n",
       "    <tr>\n",
       "      <th>3</th>\n",
       "      <td>2022-05-31 22:50:00</td>\n",
       "      <td>110144</td>\n",
       "      <td>98080</td>\n",
       "    </tr>\n",
       "    <tr>\n",
       "      <th>4</th>\n",
       "      <td>2022-05-31 23:00:00</td>\n",
       "      <td>109717</td>\n",
       "      <td>99534</td>\n",
       "    </tr>\n",
       "    <tr>\n",
       "      <th>...</th>\n",
       "      <td>...</td>\n",
       "      <td>...</td>\n",
       "      <td>...</td>\n",
       "    </tr>\n",
       "    <tr>\n",
       "      <th>2011</th>\n",
       "      <td>2022-06-14 21:30:00</td>\n",
       "      <td>108148</td>\n",
       "      <td>69661</td>\n",
       "    </tr>\n",
       "    <tr>\n",
       "      <th>2012</th>\n",
       "      <td>2022-06-14 21:40:00</td>\n",
       "      <td>107093</td>\n",
       "      <td>68039</td>\n",
       "    </tr>\n",
       "    <tr>\n",
       "      <th>2013</th>\n",
       "      <td>2022-06-14 21:50:00</td>\n",
       "      <td>105766</td>\n",
       "      <td>69285</td>\n",
       "    </tr>\n",
       "    <tr>\n",
       "      <th>2014</th>\n",
       "      <td>2022-06-14 22:00:00</td>\n",
       "      <td>104124</td>\n",
       "      <td>77704</td>\n",
       "    </tr>\n",
       "    <tr>\n",
       "      <th>2015</th>\n",
       "      <td>2022-06-14 22:10:00</td>\n",
       "      <td>102306</td>\n",
       "      <td>74310</td>\n",
       "    </tr>\n",
       "  </tbody>\n",
       "</table>\n",
       "<p>2016 rows × 3 columns</p>\n",
       "</div>"
      ],
      "text/plain": [
       "                     date  players  twitch_viewers\n",
       "0     2022-05-31 22:20:00   112300           96807\n",
       "1     2022-05-31 22:30:00   111307           96756\n",
       "2     2022-05-31 22:40:00   110563           98085\n",
       "3     2022-05-31 22:50:00   110144           98080\n",
       "4     2022-05-31 23:00:00   109717           99534\n",
       "...                   ...      ...             ...\n",
       "2011  2022-06-14 21:30:00   108148           69661\n",
       "2012  2022-06-14 21:40:00   107093           68039\n",
       "2013  2022-06-14 21:50:00   105766           69285\n",
       "2014  2022-06-14 22:00:00   104124           77704\n",
       "2015  2022-06-14 22:10:00   102306           74310\n",
       "\n",
       "[2016 rows x 3 columns]"
      ]
     },
     "execution_count": 82,
     "metadata": {},
     "output_type": "execute_result"
    }
   ],
   "source": [
    "# Remove rows where there is no values for players\n",
    "df.dropna(subset='Players', inplace=True)\n",
    "\n",
    "# Removing flags column\n",
    "df.drop(columns=['Players Trend'], inplace=True)\n",
    "\n",
    "# Rename column names for convinence for later on when doing manipulations with dataframes.\n",
    "df.columns = ['date', 'players', 'twitch_viewers']\n",
    "\n",
    "df"
   ]
  },
  {
   "cell_type": "markdown",
   "metadata": {},
   "source": [
    "Lets make sure that our columns have the correct datatypes. We can see that our date column is of type object indicating its being detected as a string when we really want it as a datetime."
   ]
  },
  {
   "cell_type": "code",
   "execution_count": 83,
   "metadata": {},
   "outputs": [
    {
     "data": {
      "text/plain": [
       "date              object\n",
       "players            int64\n",
       "twitch_viewers     int64\n",
       "dtype: object"
      ]
     },
     "execution_count": 83,
     "metadata": {},
     "output_type": "execute_result"
    }
   ],
   "source": [
    "# Checking to make sure that the dataframe has all the correct data types\n",
    "df.dtypes"
   ]
  },
  {
   "cell_type": "code",
   "execution_count": 84,
   "metadata": {},
   "outputs": [],
   "source": [
    "# Converting to first column to datateime\n",
    "df.date = pd.to_datetime(df.date)"
   ]
  },
  {
   "cell_type": "code",
   "execution_count": 85,
   "metadata": {},
   "outputs": [
    {
     "data": {
      "text/plain": [
       "date              datetime64[ns]\n",
       "players                    int64\n",
       "twitch_viewers             int64\n",
       "dtype: object"
      ]
     },
     "execution_count": 85,
     "metadata": {},
     "output_type": "execute_result"
    }
   ],
   "source": [
    "# Checkign to see that the date column is indeed a datetime rather than object\n",
    "df.dtypes"
   ]
  },
  {
   "cell_type": "code",
   "execution_count": 86,
   "metadata": {},
   "outputs": [],
   "source": [
    "# Check to make sure that the time interval is consistant\n",
    "\n",
    "df['date_interval'] = df.date - df.shift(1).date"
   ]
  },
  {
   "cell_type": "code",
   "execution_count": 87,
   "metadata": {},
   "outputs": [],
   "source": [
    "# Data Cleaning"
   ]
  },
  {
   "cell_type": "code",
   "execution_count": 88,
   "metadata": {},
   "outputs": [],
   "source": [
    "# Data Preperation"
   ]
  },
  {
   "cell_type": "code",
   "execution_count": null,
   "metadata": {},
   "outputs": [],
   "source": []
  }
 ],
 "metadata": {
  "kernelspec": {
   "display_name": "Python 3.10.2 64-bit ('env': venv)",
   "language": "python",
   "name": "python3"
  },
  "language_info": {
   "codemirror_mode": {
    "name": "ipython",
    "version": 3
   },
   "file_extension": ".py",
   "mimetype": "text/x-python",
   "name": "python",
   "nbconvert_exporter": "python",
   "pygments_lexer": "ipython3",
   "version": "3.10.5"
  },
  "orig_nbformat": 4,
  "vscode": {
   "interpreter": {
    "hash": "5e421c40ca6ec0832df0f1983de2719ce27ef5fd59aba882704d6c9c14579863"
   }
  }
 },
 "nbformat": 4,
 "nbformat_minor": 2
}
