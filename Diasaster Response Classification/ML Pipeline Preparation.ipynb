{
 "cells": [
  {
   "cell_type": "markdown",
   "metadata": {},
   "source": [
    "# ML Pipeline Preparation\n",
    "Follow the instructions below to help you create your ML pipeline.\n",
    "### 1. Import libraries and load data from database.\n",
    "- Import Python libraries\n",
    "- Load dataset from database with [`read_sql_table`](https://pandas.pydata.org/pandas-docs/stable/generated/pandas.read_sql_table.html)\n",
    "- Define feature and target variables X and Y"
   ]
  },
  {
   "cell_type": "code",
   "execution_count": 135,
   "metadata": {},
   "outputs": [
    {
     "name": "stderr",
     "output_type": "stream",
     "text": [
      "[nltk_data] Downloading package punkt to /home/salman1567/nltk_data...\n",
      "[nltk_data]   Package punkt is already up-to-date!\n",
      "[nltk_data] Downloading package stopwords to\n",
      "[nltk_data]     /home/salman1567/nltk_data...\n",
      "[nltk_data]   Package stopwords is already up-to-date!\n"
     ]
    }
   ],
   "source": [
    "# import libraries\n",
    "import numpy as np\n",
    "import pandas as pd\n",
    "import sys\n",
    "from sqlalchemy import create_engine\n",
    "import nltk\n",
    "\n",
    "nltk.download('punkt')\n",
    "nltk.download('stopwords')\n",
    "\n",
    "from nltk.corpus import stopwords\n",
    "from nltk.tokenize import word_tokenize\n",
    "from nltk.stem.porter import PorterStemmer\n",
    "\n",
    "from nltk.stem import WordNetLemmatizer\n",
    "from nltk.tokenize import word_tokenize\n",
    "from sklearn.feature_extraction.text import TfidfVectorizer\n",
    "from sklearn.feature_extraction.text import CountVectorizer\n",
    "from sklearn.feature_extraction.text import TfidfTransformer\n",
    "from sklearn.pipeline import Pipeline\n",
    "from sklearn.base import BaseEstimator, TransformerMixin\n",
    "from sklearn.ensemble import RandomForestClassifier\n",
    "\n",
    "from sklearn.multioutput import MultiOutputClassifier\n",
    "from sklearn.model_selection import train_test_split, GridSearchCV\n",
    "from sklearn.metrics import confusion_matrix, accuracy_score, classification_report\n",
    "\n",
    "from sklearn.neighbors import KNeighborsClassifier"
   ]
  },
  {
   "cell_type": "code",
   "execution_count": 136,
   "metadata": {},
   "outputs": [
    {
     "name": "stdout",
     "output_type": "stream",
     "text": [
      "   related  request  offer  aid_related  medical_help  medical_products  \\\n",
      "0      1.0      0.0    0.0          0.0           0.0               0.0   \n",
      "1      1.0      0.0    0.0          1.0           0.0               0.0   \n",
      "2      1.0      0.0    0.0          0.0           0.0               0.0   \n",
      "3      1.0      1.0    0.0          1.0           0.0               1.0   \n",
      "4      1.0      0.0    0.0          0.0           0.0               0.0   \n",
      "\n",
      "   search_and_rescue  security  military  child_alone  ...  aid_centers  \\\n",
      "0                0.0       0.0       0.0          0.0  ...          0.0   \n",
      "1                0.0       0.0       0.0          0.0  ...          0.0   \n",
      "2                0.0       0.0       0.0          0.0  ...          0.0   \n",
      "3                0.0       0.0       0.0          0.0  ...          0.0   \n",
      "4                0.0       0.0       0.0          0.0  ...          0.0   \n",
      "\n",
      "   other_infrastructure  weather_related  floods  storm  fire  earthquake  \\\n",
      "0                   0.0              0.0     0.0    0.0   0.0         0.0   \n",
      "1                   0.0              1.0     0.0    1.0   0.0         0.0   \n",
      "2                   0.0              0.0     0.0    0.0   0.0         0.0   \n",
      "3                   0.0              0.0     0.0    0.0   0.0         0.0   \n",
      "4                   0.0              0.0     0.0    0.0   0.0         0.0   \n",
      "\n",
      "   cold  other_weather  direct_report  \n",
      "0   0.0            0.0            0.0  \n",
      "1   0.0            0.0            0.0  \n",
      "2   0.0            0.0            0.0  \n",
      "3   0.0            0.0            0.0  \n",
      "4   0.0            0.0            0.0  \n",
      "\n",
      "[5 rows x 36 columns]\n"
     ]
    }
   ],
   "source": [
    "# load data from database\n",
    "engine = create_engine('sqlite:///disaster.db')\n",
    "df = pd.read_sql_table('disaster', engine)\n",
    "X = df.iloc[:,1]\n",
    "Y = df.iloc[:,4:]\n",
    "\n",
    "print(Y.head())"
   ]
  },
  {
   "cell_type": "markdown",
   "metadata": {},
   "source": [
    "### 2. Write a tokenization function to process your text data"
   ]
  },
  {
   "cell_type": "code",
   "execution_count": 137,
   "metadata": {},
   "outputs": [],
   "source": [
    "def tokenize(text):\n",
    "    \n",
    "    clean_tokens = []\n",
    "    # lowercasing\n",
    "    tokens = word_tokenize(text.lower())\n",
    "    # Remove stop words + stem\n",
    "    stemmer = PorterStemmer()\n",
    "    \n",
    "    \n",
    "    stop_words = stopwords.words(\"english\")\n",
    "    clean_tokens = [ stemmer.stem(word) for word in tokens if word not in stop_words]\n",
    "\n",
    "    return clean_tokens\n"
   ]
  },
  {
   "cell_type": "markdown",
   "metadata": {},
   "source": [
    "### 3. Build a machine learning pipeline\n",
    "This machine pipeline should take in the `message` column as input and output classification results on the other 36 categories in the dataset. You may find the [MultiOutputClassifier](http://scikit-learn.org/stable/modules/generated/sklearn.multioutput.MultiOutputClassifier.html) helpful for predicting multiple target variables."
   ]
  },
  {
   "cell_type": "code",
   "execution_count": 138,
   "metadata": {},
   "outputs": [],
   "source": [
    "# Try other estimators to see if performance is better\n",
    "pipeline = Pipeline([\n",
    "    #('tokenize', tokenize())\n",
    "    ('count-vector', CountVectorizer(tokenizer=tokenize)),\n",
    "    ('tf-idf', TfidfTransformer()),\n",
    "    #('tf-idf', TfidfVectorizer()),\n",
    "    ('clf', MultiOutputClassifier(RandomForestClassifier()))\n",
    "])"
   ]
  },
  {
   "cell_type": "markdown",
   "metadata": {},
   "source": [
    "### 4. Train pipeline\n",
    "- Split data into train and test sets\n",
    "- Train pipeline"
   ]
  },
  {
   "cell_type": "code",
   "execution_count": 139,
   "metadata": {},
   "outputs": [
    {
     "ename": "ValueError",
     "evalue": "Input contains NaN, infinity or a value too large for dtype('float64').",
     "output_type": "error",
     "traceback": [
      "\u001b[0;31m---------------------------------------------------------------------------\u001b[0m",
      "\u001b[0;31mValueError\u001b[0m                                Traceback (most recent call last)",
      "\u001b[1;32m/home/salman1567/code/Data Science - Machine Learning Projects/Data Science Portfolio/Diasaster Response Classification/ML Pipeline Preparation.ipynb Cell 9'\u001b[0m in \u001b[0;36m<cell line: 2>\u001b[0;34m()\u001b[0m\n\u001b[1;32m      <a href='vscode-notebook-cell:/home/salman1567/code/Data%20Science%20-%20Machine%20Learning%20Projects/Data%20Science%20Portfolio/Diasaster%20Response%20Classification/ML%20Pipeline%20Preparation.ipynb#ch0000008?line=0'>1</a>\u001b[0m X_train, X_test, y_train, y_test \u001b[39m=\u001b[39m train_test_split(X, Y, test_size\u001b[39m=\u001b[39m\u001b[39m0.33\u001b[39m, random_state\u001b[39m=\u001b[39m\u001b[39m1\u001b[39m)\n\u001b[0;32m----> <a href='vscode-notebook-cell:/home/salman1567/code/Data%20Science%20-%20Machine%20Learning%20Projects/Data%20Science%20Portfolio/Diasaster%20Response%20Classification/ML%20Pipeline%20Preparation.ipynb#ch0000008?line=1'>2</a>\u001b[0m pipeline\u001b[39m.\u001b[39;49mfit(X_train, y_train)\n",
      "File \u001b[0;32m~/code/Data Science - Machine Learning Projects/Data Science Portfolio/Diasaster Response Classification/env/lib/python3.10/site-packages/sklearn/pipeline.py:394\u001b[0m, in \u001b[0;36mPipeline.fit\u001b[0;34m(self, X, y, **fit_params)\u001b[0m\n\u001b[1;32m    <a href='file:///home/salman1567/code/Data%20Science%20-%20Machine%20Learning%20Projects/Data%20Science%20Portfolio/Diasaster%20Response%20Classification/env/lib/python3.10/site-packages/sklearn/pipeline.py?line=391'>392</a>\u001b[0m     \u001b[39mif\u001b[39;00m \u001b[39mself\u001b[39m\u001b[39m.\u001b[39m_final_estimator \u001b[39m!=\u001b[39m \u001b[39m\"\u001b[39m\u001b[39mpassthrough\u001b[39m\u001b[39m\"\u001b[39m:\n\u001b[1;32m    <a href='file:///home/salman1567/code/Data%20Science%20-%20Machine%20Learning%20Projects/Data%20Science%20Portfolio/Diasaster%20Response%20Classification/env/lib/python3.10/site-packages/sklearn/pipeline.py?line=392'>393</a>\u001b[0m         fit_params_last_step \u001b[39m=\u001b[39m fit_params_steps[\u001b[39mself\u001b[39m\u001b[39m.\u001b[39msteps[\u001b[39m-\u001b[39m\u001b[39m1\u001b[39m][\u001b[39m0\u001b[39m]]\n\u001b[0;32m--> <a href='file:///home/salman1567/code/Data%20Science%20-%20Machine%20Learning%20Projects/Data%20Science%20Portfolio/Diasaster%20Response%20Classification/env/lib/python3.10/site-packages/sklearn/pipeline.py?line=393'>394</a>\u001b[0m         \u001b[39mself\u001b[39;49m\u001b[39m.\u001b[39;49m_final_estimator\u001b[39m.\u001b[39;49mfit(Xt, y, \u001b[39m*\u001b[39;49m\u001b[39m*\u001b[39;49mfit_params_last_step)\n\u001b[1;32m    <a href='file:///home/salman1567/code/Data%20Science%20-%20Machine%20Learning%20Projects/Data%20Science%20Portfolio/Diasaster%20Response%20Classification/env/lib/python3.10/site-packages/sklearn/pipeline.py?line=395'>396</a>\u001b[0m \u001b[39mreturn\u001b[39;00m \u001b[39mself\u001b[39m\n",
      "File \u001b[0;32m~/code/Data Science - Machine Learning Projects/Data Science Portfolio/Diasaster Response Classification/env/lib/python3.10/site-packages/sklearn/multioutput.py:434\u001b[0m, in \u001b[0;36mMultiOutputClassifier.fit\u001b[0;34m(self, X, Y, sample_weight, **fit_params)\u001b[0m\n\u001b[1;32m    <a href='file:///home/salman1567/code/Data%20Science%20-%20Machine%20Learning%20Projects/Data%20Science%20Portfolio/Diasaster%20Response%20Classification/env/lib/python3.10/site-packages/sklearn/multioutput.py?line=407'>408</a>\u001b[0m \u001b[39mdef\u001b[39;00m \u001b[39mfit\u001b[39m(\u001b[39mself\u001b[39m, X, Y, sample_weight\u001b[39m=\u001b[39m\u001b[39mNone\u001b[39;00m, \u001b[39m*\u001b[39m\u001b[39m*\u001b[39mfit_params):\n\u001b[1;32m    <a href='file:///home/salman1567/code/Data%20Science%20-%20Machine%20Learning%20Projects/Data%20Science%20Portfolio/Diasaster%20Response%20Classification/env/lib/python3.10/site-packages/sklearn/multioutput.py?line=408'>409</a>\u001b[0m     \u001b[39m\"\"\"Fit the model to data matrix X and targets Y.\u001b[39;00m\n\u001b[1;32m    <a href='file:///home/salman1567/code/Data%20Science%20-%20Machine%20Learning%20Projects/Data%20Science%20Portfolio/Diasaster%20Response%20Classification/env/lib/python3.10/site-packages/sklearn/multioutput.py?line=409'>410</a>\u001b[0m \n\u001b[1;32m    <a href='file:///home/salman1567/code/Data%20Science%20-%20Machine%20Learning%20Projects/Data%20Science%20Portfolio/Diasaster%20Response%20Classification/env/lib/python3.10/site-packages/sklearn/multioutput.py?line=410'>411</a>\u001b[0m \u001b[39m    Parameters\u001b[39;00m\n\u001b[0;32m   (...)\u001b[0m\n\u001b[1;32m    <a href='file:///home/salman1567/code/Data%20Science%20-%20Machine%20Learning%20Projects/Data%20Science%20Portfolio/Diasaster%20Response%20Classification/env/lib/python3.10/site-packages/sklearn/multioutput.py?line=431'>432</a>\u001b[0m \u001b[39m        Returns a fitted instance.\u001b[39;00m\n\u001b[1;32m    <a href='file:///home/salman1567/code/Data%20Science%20-%20Machine%20Learning%20Projects/Data%20Science%20Portfolio/Diasaster%20Response%20Classification/env/lib/python3.10/site-packages/sklearn/multioutput.py?line=432'>433</a>\u001b[0m \u001b[39m    \"\"\"\u001b[39;00m\n\u001b[0;32m--> <a href='file:///home/salman1567/code/Data%20Science%20-%20Machine%20Learning%20Projects/Data%20Science%20Portfolio/Diasaster%20Response%20Classification/env/lib/python3.10/site-packages/sklearn/multioutput.py?line=433'>434</a>\u001b[0m     \u001b[39msuper\u001b[39;49m()\u001b[39m.\u001b[39;49mfit(X, Y, sample_weight, \u001b[39m*\u001b[39;49m\u001b[39m*\u001b[39;49mfit_params)\n\u001b[1;32m    <a href='file:///home/salman1567/code/Data%20Science%20-%20Machine%20Learning%20Projects/Data%20Science%20Portfolio/Diasaster%20Response%20Classification/env/lib/python3.10/site-packages/sklearn/multioutput.py?line=434'>435</a>\u001b[0m     \u001b[39mself\u001b[39m\u001b[39m.\u001b[39mclasses_ \u001b[39m=\u001b[39m [estimator\u001b[39m.\u001b[39mclasses_ \u001b[39mfor\u001b[39;00m estimator \u001b[39min\u001b[39;00m \u001b[39mself\u001b[39m\u001b[39m.\u001b[39mestimators_]\n\u001b[1;32m    <a href='file:///home/salman1567/code/Data%20Science%20-%20Machine%20Learning%20Projects/Data%20Science%20Portfolio/Diasaster%20Response%20Classification/env/lib/python3.10/site-packages/sklearn/multioutput.py?line=435'>436</a>\u001b[0m     \u001b[39mreturn\u001b[39;00m \u001b[39mself\u001b[39m\n",
      "File \u001b[0;32m~/code/Data Science - Machine Learning Projects/Data Science Portfolio/Diasaster Response Classification/env/lib/python3.10/site-packages/sklearn/multioutput.py:184\u001b[0m, in \u001b[0;36m_MultiOutputEstimator.fit\u001b[0;34m(self, X, y, sample_weight, **fit_params)\u001b[0m\n\u001b[1;32m    <a href='file:///home/salman1567/code/Data%20Science%20-%20Machine%20Learning%20Projects/Data%20Science%20Portfolio/Diasaster%20Response%20Classification/env/lib/python3.10/site-packages/sklearn/multioutput.py?line=180'>181</a>\u001b[0m \u001b[39mif\u001b[39;00m \u001b[39mnot\u001b[39;00m \u001b[39mhasattr\u001b[39m(\u001b[39mself\u001b[39m\u001b[39m.\u001b[39mestimator, \u001b[39m\"\u001b[39m\u001b[39mfit\u001b[39m\u001b[39m\"\u001b[39m):\n\u001b[1;32m    <a href='file:///home/salman1567/code/Data%20Science%20-%20Machine%20Learning%20Projects/Data%20Science%20Portfolio/Diasaster%20Response%20Classification/env/lib/python3.10/site-packages/sklearn/multioutput.py?line=181'>182</a>\u001b[0m     \u001b[39mraise\u001b[39;00m \u001b[39mValueError\u001b[39;00m(\u001b[39m\"\u001b[39m\u001b[39mThe base estimator should implement a fit method\u001b[39m\u001b[39m\"\u001b[39m)\n\u001b[0;32m--> <a href='file:///home/salman1567/code/Data%20Science%20-%20Machine%20Learning%20Projects/Data%20Science%20Portfolio/Diasaster%20Response%20Classification/env/lib/python3.10/site-packages/sklearn/multioutput.py?line=183'>184</a>\u001b[0m y \u001b[39m=\u001b[39m \u001b[39mself\u001b[39;49m\u001b[39m.\u001b[39;49m_validate_data(X\u001b[39m=\u001b[39;49m\u001b[39m\"\u001b[39;49m\u001b[39mno_validation\u001b[39;49m\u001b[39m\"\u001b[39;49m, y\u001b[39m=\u001b[39;49my, multi_output\u001b[39m=\u001b[39;49m\u001b[39mTrue\u001b[39;49;00m)\n\u001b[1;32m    <a href='file:///home/salman1567/code/Data%20Science%20-%20Machine%20Learning%20Projects/Data%20Science%20Portfolio/Diasaster%20Response%20Classification/env/lib/python3.10/site-packages/sklearn/multioutput.py?line=185'>186</a>\u001b[0m \u001b[39mif\u001b[39;00m is_classifier(\u001b[39mself\u001b[39m):\n\u001b[1;32m    <a href='file:///home/salman1567/code/Data%20Science%20-%20Machine%20Learning%20Projects/Data%20Science%20Portfolio/Diasaster%20Response%20Classification/env/lib/python3.10/site-packages/sklearn/multioutput.py?line=186'>187</a>\u001b[0m     check_classification_targets(y)\n",
      "File \u001b[0;32m~/code/Data Science - Machine Learning Projects/Data Science Portfolio/Diasaster Response Classification/env/lib/python3.10/site-packages/sklearn/base.py:569\u001b[0m, in \u001b[0;36mBaseEstimator._validate_data\u001b[0;34m(self, X, y, reset, validate_separately, **check_params)\u001b[0m\n\u001b[1;32m    <a href='file:///home/salman1567/code/Data%20Science%20-%20Machine%20Learning%20Projects/Data%20Science%20Portfolio/Diasaster%20Response%20Classification/env/lib/python3.10/site-packages/sklearn/base.py?line=566'>567</a>\u001b[0m     out \u001b[39m=\u001b[39m X\n\u001b[1;32m    <a href='file:///home/salman1567/code/Data%20Science%20-%20Machine%20Learning%20Projects/Data%20Science%20Portfolio/Diasaster%20Response%20Classification/env/lib/python3.10/site-packages/sklearn/base.py?line=567'>568</a>\u001b[0m \u001b[39melif\u001b[39;00m no_val_X \u001b[39mand\u001b[39;00m \u001b[39mnot\u001b[39;00m no_val_y:\n\u001b[0;32m--> <a href='file:///home/salman1567/code/Data%20Science%20-%20Machine%20Learning%20Projects/Data%20Science%20Portfolio/Diasaster%20Response%20Classification/env/lib/python3.10/site-packages/sklearn/base.py?line=568'>569</a>\u001b[0m     y \u001b[39m=\u001b[39m _check_y(y, \u001b[39m*\u001b[39;49m\u001b[39m*\u001b[39;49mcheck_params)\n\u001b[1;32m    <a href='file:///home/salman1567/code/Data%20Science%20-%20Machine%20Learning%20Projects/Data%20Science%20Portfolio/Diasaster%20Response%20Classification/env/lib/python3.10/site-packages/sklearn/base.py?line=569'>570</a>\u001b[0m     out \u001b[39m=\u001b[39m y\n\u001b[1;32m    <a href='file:///home/salman1567/code/Data%20Science%20-%20Machine%20Learning%20Projects/Data%20Science%20Portfolio/Diasaster%20Response%20Classification/env/lib/python3.10/site-packages/sklearn/base.py?line=570'>571</a>\u001b[0m \u001b[39melse\u001b[39;00m:\n",
      "File \u001b[0;32m~/code/Data Science - Machine Learning Projects/Data Science Portfolio/Diasaster Response Classification/env/lib/python3.10/site-packages/sklearn/utils/validation.py:989\u001b[0m, in \u001b[0;36m_check_y\u001b[0;34m(y, multi_output, y_numeric)\u001b[0m\n\u001b[1;32m    <a href='file:///home/salman1567/code/Data%20Science%20-%20Machine%20Learning%20Projects/Data%20Science%20Portfolio/Diasaster%20Response%20Classification/env/lib/python3.10/site-packages/sklearn/utils/validation.py?line=986'>987</a>\u001b[0m \u001b[39m\"\"\"Isolated part of check_X_y dedicated to y validation\"\"\"\u001b[39;00m\n\u001b[1;32m    <a href='file:///home/salman1567/code/Data%20Science%20-%20Machine%20Learning%20Projects/Data%20Science%20Portfolio/Diasaster%20Response%20Classification/env/lib/python3.10/site-packages/sklearn/utils/validation.py?line=987'>988</a>\u001b[0m \u001b[39mif\u001b[39;00m multi_output:\n\u001b[0;32m--> <a href='file:///home/salman1567/code/Data%20Science%20-%20Machine%20Learning%20Projects/Data%20Science%20Portfolio/Diasaster%20Response%20Classification/env/lib/python3.10/site-packages/sklearn/utils/validation.py?line=988'>989</a>\u001b[0m     y \u001b[39m=\u001b[39m check_array(\n\u001b[1;32m    <a href='file:///home/salman1567/code/Data%20Science%20-%20Machine%20Learning%20Projects/Data%20Science%20Portfolio/Diasaster%20Response%20Classification/env/lib/python3.10/site-packages/sklearn/utils/validation.py?line=989'>990</a>\u001b[0m         y, accept_sparse\u001b[39m=\u001b[39;49m\u001b[39m\"\u001b[39;49m\u001b[39mcsr\u001b[39;49m\u001b[39m\"\u001b[39;49m, force_all_finite\u001b[39m=\u001b[39;49m\u001b[39mTrue\u001b[39;49;00m, ensure_2d\u001b[39m=\u001b[39;49m\u001b[39mFalse\u001b[39;49;00m, dtype\u001b[39m=\u001b[39;49m\u001b[39mNone\u001b[39;49;00m\n\u001b[1;32m    <a href='file:///home/salman1567/code/Data%20Science%20-%20Machine%20Learning%20Projects/Data%20Science%20Portfolio/Diasaster%20Response%20Classification/env/lib/python3.10/site-packages/sklearn/utils/validation.py?line=990'>991</a>\u001b[0m     )\n\u001b[1;32m    <a href='file:///home/salman1567/code/Data%20Science%20-%20Machine%20Learning%20Projects/Data%20Science%20Portfolio/Diasaster%20Response%20Classification/env/lib/python3.10/site-packages/sklearn/utils/validation.py?line=991'>992</a>\u001b[0m \u001b[39melse\u001b[39;00m:\n\u001b[1;32m    <a href='file:///home/salman1567/code/Data%20Science%20-%20Machine%20Learning%20Projects/Data%20Science%20Portfolio/Diasaster%20Response%20Classification/env/lib/python3.10/site-packages/sklearn/utils/validation.py?line=992'>993</a>\u001b[0m     y \u001b[39m=\u001b[39m column_or_1d(y, warn\u001b[39m=\u001b[39m\u001b[39mTrue\u001b[39;00m)\n",
      "File \u001b[0;32m~/code/Data Science - Machine Learning Projects/Data Science Portfolio/Diasaster Response Classification/env/lib/python3.10/site-packages/sklearn/utils/validation.py:800\u001b[0m, in \u001b[0;36mcheck_array\u001b[0;34m(array, accept_sparse, accept_large_sparse, dtype, order, copy, force_all_finite, ensure_2d, allow_nd, ensure_min_samples, ensure_min_features, estimator)\u001b[0m\n\u001b[1;32m    <a href='file:///home/salman1567/code/Data%20Science%20-%20Machine%20Learning%20Projects/Data%20Science%20Portfolio/Diasaster%20Response%20Classification/env/lib/python3.10/site-packages/sklearn/utils/validation.py?line=793'>794</a>\u001b[0m         \u001b[39mraise\u001b[39;00m \u001b[39mValueError\u001b[39;00m(\n\u001b[1;32m    <a href='file:///home/salman1567/code/Data%20Science%20-%20Machine%20Learning%20Projects/Data%20Science%20Portfolio/Diasaster%20Response%20Classification/env/lib/python3.10/site-packages/sklearn/utils/validation.py?line=794'>795</a>\u001b[0m             \u001b[39m\"\u001b[39m\u001b[39mFound array with dim \u001b[39m\u001b[39m%d\u001b[39;00m\u001b[39m. \u001b[39m\u001b[39m%s\u001b[39;00m\u001b[39m expected <= 2.\u001b[39m\u001b[39m\"\u001b[39m\n\u001b[1;32m    <a href='file:///home/salman1567/code/Data%20Science%20-%20Machine%20Learning%20Projects/Data%20Science%20Portfolio/Diasaster%20Response%20Classification/env/lib/python3.10/site-packages/sklearn/utils/validation.py?line=795'>796</a>\u001b[0m             \u001b[39m%\u001b[39m (array\u001b[39m.\u001b[39mndim, estimator_name)\n\u001b[1;32m    <a href='file:///home/salman1567/code/Data%20Science%20-%20Machine%20Learning%20Projects/Data%20Science%20Portfolio/Diasaster%20Response%20Classification/env/lib/python3.10/site-packages/sklearn/utils/validation.py?line=796'>797</a>\u001b[0m         )\n\u001b[1;32m    <a href='file:///home/salman1567/code/Data%20Science%20-%20Machine%20Learning%20Projects/Data%20Science%20Portfolio/Diasaster%20Response%20Classification/env/lib/python3.10/site-packages/sklearn/utils/validation.py?line=798'>799</a>\u001b[0m     \u001b[39mif\u001b[39;00m force_all_finite:\n\u001b[0;32m--> <a href='file:///home/salman1567/code/Data%20Science%20-%20Machine%20Learning%20Projects/Data%20Science%20Portfolio/Diasaster%20Response%20Classification/env/lib/python3.10/site-packages/sklearn/utils/validation.py?line=799'>800</a>\u001b[0m         _assert_all_finite(array, allow_nan\u001b[39m=\u001b[39;49mforce_all_finite \u001b[39m==\u001b[39;49m \u001b[39m\"\u001b[39;49m\u001b[39mallow-nan\u001b[39;49m\u001b[39m\"\u001b[39;49m)\n\u001b[1;32m    <a href='file:///home/salman1567/code/Data%20Science%20-%20Machine%20Learning%20Projects/Data%20Science%20Portfolio/Diasaster%20Response%20Classification/env/lib/python3.10/site-packages/sklearn/utils/validation.py?line=801'>802</a>\u001b[0m \u001b[39mif\u001b[39;00m ensure_min_samples \u001b[39m>\u001b[39m \u001b[39m0\u001b[39m:\n\u001b[1;32m    <a href='file:///home/salman1567/code/Data%20Science%20-%20Machine%20Learning%20Projects/Data%20Science%20Portfolio/Diasaster%20Response%20Classification/env/lib/python3.10/site-packages/sklearn/utils/validation.py?line=802'>803</a>\u001b[0m     n_samples \u001b[39m=\u001b[39m _num_samples(array)\n",
      "File \u001b[0;32m~/code/Data Science - Machine Learning Projects/Data Science Portfolio/Diasaster Response Classification/env/lib/python3.10/site-packages/sklearn/utils/validation.py:114\u001b[0m, in \u001b[0;36m_assert_all_finite\u001b[0;34m(X, allow_nan, msg_dtype)\u001b[0m\n\u001b[1;32m    <a href='file:///home/salman1567/code/Data%20Science%20-%20Machine%20Learning%20Projects/Data%20Science%20Portfolio/Diasaster%20Response%20Classification/env/lib/python3.10/site-packages/sklearn/utils/validation.py?line=106'>107</a>\u001b[0m     \u001b[39mif\u001b[39;00m (\n\u001b[1;32m    <a href='file:///home/salman1567/code/Data%20Science%20-%20Machine%20Learning%20Projects/Data%20Science%20Portfolio/Diasaster%20Response%20Classification/env/lib/python3.10/site-packages/sklearn/utils/validation.py?line=107'>108</a>\u001b[0m         allow_nan\n\u001b[1;32m    <a href='file:///home/salman1567/code/Data%20Science%20-%20Machine%20Learning%20Projects/Data%20Science%20Portfolio/Diasaster%20Response%20Classification/env/lib/python3.10/site-packages/sklearn/utils/validation.py?line=108'>109</a>\u001b[0m         \u001b[39mand\u001b[39;00m np\u001b[39m.\u001b[39misinf(X)\u001b[39m.\u001b[39many()\n\u001b[1;32m    <a href='file:///home/salman1567/code/Data%20Science%20-%20Machine%20Learning%20Projects/Data%20Science%20Portfolio/Diasaster%20Response%20Classification/env/lib/python3.10/site-packages/sklearn/utils/validation.py?line=109'>110</a>\u001b[0m         \u001b[39mor\u001b[39;00m \u001b[39mnot\u001b[39;00m allow_nan\n\u001b[1;32m    <a href='file:///home/salman1567/code/Data%20Science%20-%20Machine%20Learning%20Projects/Data%20Science%20Portfolio/Diasaster%20Response%20Classification/env/lib/python3.10/site-packages/sklearn/utils/validation.py?line=110'>111</a>\u001b[0m         \u001b[39mand\u001b[39;00m \u001b[39mnot\u001b[39;00m np\u001b[39m.\u001b[39misfinite(X)\u001b[39m.\u001b[39mall()\n\u001b[1;32m    <a href='file:///home/salman1567/code/Data%20Science%20-%20Machine%20Learning%20Projects/Data%20Science%20Portfolio/Diasaster%20Response%20Classification/env/lib/python3.10/site-packages/sklearn/utils/validation.py?line=111'>112</a>\u001b[0m     ):\n\u001b[1;32m    <a href='file:///home/salman1567/code/Data%20Science%20-%20Machine%20Learning%20Projects/Data%20Science%20Portfolio/Diasaster%20Response%20Classification/env/lib/python3.10/site-packages/sklearn/utils/validation.py?line=112'>113</a>\u001b[0m         type_err \u001b[39m=\u001b[39m \u001b[39m\"\u001b[39m\u001b[39minfinity\u001b[39m\u001b[39m\"\u001b[39m \u001b[39mif\u001b[39;00m allow_nan \u001b[39melse\u001b[39;00m \u001b[39m\"\u001b[39m\u001b[39mNaN, infinity\u001b[39m\u001b[39m\"\u001b[39m\n\u001b[0;32m--> <a href='file:///home/salman1567/code/Data%20Science%20-%20Machine%20Learning%20Projects/Data%20Science%20Portfolio/Diasaster%20Response%20Classification/env/lib/python3.10/site-packages/sklearn/utils/validation.py?line=113'>114</a>\u001b[0m         \u001b[39mraise\u001b[39;00m \u001b[39mValueError\u001b[39;00m(\n\u001b[1;32m    <a href='file:///home/salman1567/code/Data%20Science%20-%20Machine%20Learning%20Projects/Data%20Science%20Portfolio/Diasaster%20Response%20Classification/env/lib/python3.10/site-packages/sklearn/utils/validation.py?line=114'>115</a>\u001b[0m             msg_err\u001b[39m.\u001b[39mformat(\n\u001b[1;32m    <a href='file:///home/salman1567/code/Data%20Science%20-%20Machine%20Learning%20Projects/Data%20Science%20Portfolio/Diasaster%20Response%20Classification/env/lib/python3.10/site-packages/sklearn/utils/validation.py?line=115'>116</a>\u001b[0m                 type_err, msg_dtype \u001b[39mif\u001b[39;00m msg_dtype \u001b[39mis\u001b[39;00m \u001b[39mnot\u001b[39;00m \u001b[39mNone\u001b[39;00m \u001b[39melse\u001b[39;00m X\u001b[39m.\u001b[39mdtype\n\u001b[1;32m    <a href='file:///home/salman1567/code/Data%20Science%20-%20Machine%20Learning%20Projects/Data%20Science%20Portfolio/Diasaster%20Response%20Classification/env/lib/python3.10/site-packages/sklearn/utils/validation.py?line=116'>117</a>\u001b[0m             )\n\u001b[1;32m    <a href='file:///home/salman1567/code/Data%20Science%20-%20Machine%20Learning%20Projects/Data%20Science%20Portfolio/Diasaster%20Response%20Classification/env/lib/python3.10/site-packages/sklearn/utils/validation.py?line=117'>118</a>\u001b[0m         )\n\u001b[1;32m    <a href='file:///home/salman1567/code/Data%20Science%20-%20Machine%20Learning%20Projects/Data%20Science%20Portfolio/Diasaster%20Response%20Classification/env/lib/python3.10/site-packages/sklearn/utils/validation.py?line=118'>119</a>\u001b[0m \u001b[39m# for object dtype data, we only check for NaNs (GH-13254)\u001b[39;00m\n\u001b[1;32m    <a href='file:///home/salman1567/code/Data%20Science%20-%20Machine%20Learning%20Projects/Data%20Science%20Portfolio/Diasaster%20Response%20Classification/env/lib/python3.10/site-packages/sklearn/utils/validation.py?line=119'>120</a>\u001b[0m \u001b[39melif\u001b[39;00m X\u001b[39m.\u001b[39mdtype \u001b[39m==\u001b[39m np\u001b[39m.\u001b[39mdtype(\u001b[39m\"\u001b[39m\u001b[39mobject\u001b[39m\u001b[39m\"\u001b[39m) \u001b[39mand\u001b[39;00m \u001b[39mnot\u001b[39;00m allow_nan:\n",
      "\u001b[0;31mValueError\u001b[0m: Input contains NaN, infinity or a value too large for dtype('float64')."
     ]
    }
   ],
   "source": [
    "X_train, X_test, y_train, y_test = train_test_split(X, Y, test_size=0.33, random_state=1)\n",
    "pipeline.fit(X_train, y_train)"
   ]
  },
  {
   "cell_type": "markdown",
   "metadata": {},
   "source": [
    "### 5. Test your model\n",
    "Report the f1 score, precision and recall for each output category of the dataset. You can do this by iterating through the columns and calling sklearn's `classification_report` on each."
   ]
  },
  {
   "cell_type": "code",
   "execution_count": null,
   "metadata": {},
   "outputs": [],
   "source": [
    "col_names = Y.columns.unique()\n",
    "y_pred = pipeline.predict(X_test)\n",
    "print(classification_report(y_test, y_pred, target_names=col_names))\n",
    "\n"
   ]
  },
  {
   "cell_type": "markdown",
   "metadata": {},
   "source": [
    "### 6. Improve your model\n",
    "Use grid search to find better parameters. "
   ]
  },
  {
   "cell_type": "code",
   "execution_count": null,
   "metadata": {},
   "outputs": [],
   "source": [
    "parameters = \n",
    "\n",
    "cv = "
   ]
  },
  {
   "cell_type": "markdown",
   "metadata": {},
   "source": [
    "### 7. Test your model\n",
    "Show the accuracy, precision, and recall of the tuned model.  \n",
    "\n",
    "Since this project focuses on code quality, process, and  pipelines, there is no minimum performance metric needed to pass. However, make sure to fine tune your models for accuracy, precision and recall to make your project stand out - especially for your portfolio!"
   ]
  },
  {
   "cell_type": "code",
   "execution_count": null,
   "metadata": {},
   "outputs": [],
   "source": []
  },
  {
   "cell_type": "markdown",
   "metadata": {},
   "source": [
    "### 8. Try improving your model further. Here are a few ideas:\n",
    "* try other machine learning algorithms\n",
    "* add other features besides the TF-IDF"
   ]
  },
  {
   "cell_type": "code",
   "execution_count": null,
   "metadata": {},
   "outputs": [],
   "source": []
  },
  {
   "cell_type": "markdown",
   "metadata": {},
   "source": [
    "### 9. Export your model as a pickle file"
   ]
  },
  {
   "cell_type": "code",
   "execution_count": null,
   "metadata": {},
   "outputs": [],
   "source": []
  },
  {
   "cell_type": "markdown",
   "metadata": {},
   "source": [
    "### 10. Use this notebook to complete `train.py`\n",
    "Use the template file attached in the Resources folder to write a script that runs the steps above to create a database and export a model based on a new dataset specified by the user."
   ]
  },
  {
   "cell_type": "code",
   "execution_count": null,
   "metadata": {},
   "outputs": [],
   "source": []
  }
 ],
 "metadata": {
  "kernelspec": {
   "display_name": "Python 3",
   "language": "python",
   "name": "python3"
  },
  "language_info": {
   "codemirror_mode": {
    "name": "ipython",
    "version": 3
   },
   "file_extension": ".py",
   "mimetype": "text/x-python",
   "name": "python",
   "nbconvert_exporter": "python",
   "pygments_lexer": "ipython3",
   "version": "3.10.4"
  }
 },
 "nbformat": 4,
 "nbformat_minor": 2
}
