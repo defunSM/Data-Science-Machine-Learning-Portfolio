{
 "cells": [
  {
   "cell_type": "markdown",
   "metadata": {},
   "source": [
    "# ML Pipeline Preparation\n",
    "Follow the instructions below to help you create your ML pipeline.\n",
    "### 1. Import libraries and load data from database.\n",
    "- Import Python libraries\n",
    "- Load dataset from database with [`read_sql_table`](https://pandas.pydata.org/pandas-docs/stable/generated/pandas.read_sql_table.html)\n",
    "- Define feature and target variables X and Y"
   ]
  },
  {
   "cell_type": "code",
   "execution_count": 1,
   "metadata": {},
   "outputs": [
    {
     "name": "stderr",
     "output_type": "stream",
     "text": [
      "[nltk_data] Downloading package punkt to /home/salman1567/nltk_data...\n",
      "[nltk_data]   Package punkt is already up-to-date!\n",
      "[nltk_data] Downloading package stopwords to\n",
      "[nltk_data]     /home/salman1567/nltk_data...\n",
      "[nltk_data]   Package stopwords is already up-to-date!\n"
     ]
    }
   ],
   "source": [
    "# import libraries\n",
    "import numpy as np\n",
    "import pandas as pd\n",
    "import sys\n",
    "from sqlalchemy import create_engine\n",
    "import nltk\n",
    "import joblib\n",
    "\n",
    "nltk.download('punkt')\n",
    "nltk.download('stopwords')\n",
    "\n",
    "from nltk.corpus import stopwords\n",
    "from nltk.tokenize import word_tokenize\n",
    "from nltk.stem.porter import PorterStemmer\n",
    "\n",
    "import re\n",
    "\n",
    "from nltk.stem import WordNetLemmatizer\n",
    "from nltk.tokenize import word_tokenize\n",
    "from sklearn.feature_extraction.text import TfidfVectorizer, CountVectorizer, TfidfTransformer\n",
    "from sklearn.pipeline import Pipeline, FeatureUnion\n",
    "from sklearn.base import BaseEstimator, TransformerMixin\n",
    "from sklearn.ensemble import RandomForestClassifier, GradientBoostingClassifier, AdaBoostClassifier\n",
    "from sklearn.naive_bayes import GaussianNB\n",
    "from sklearn.linear_model import LogisticRegression\n",
    "from sklearn.decomposition import TruncatedSVD\n",
    "\n",
    "from imblearn.over_sampling import SMOTE\n",
    "from imblearn.pipeline import Pipeline as iPipeline\n",
    "\n",
    "from sklearn.multioutput import MultiOutputClassifier\n",
    "from sklearn.model_selection import train_test_split, GridSearchCV\n",
    "from sklearn.metrics import confusion_matrix, accuracy_score, classification_report, precision_score, recall_score, f1_score\n",
    "\n",
    "from mismote import MLSMOTE"
   ]
  },
  {
   "cell_type": "markdown",
   "metadata": {},
   "source": [
    "## Part I: Loading the Dataset"
   ]
  },
  {
   "cell_type": "code",
   "execution_count": 2,
   "metadata": {},
   "outputs": [
    {
     "name": "stdout",
     "output_type": "stream",
     "text": [
      "0    Weather update - a cold front from Cuba that c...\n",
      "1              Is the Hurricane over or is it not over\n",
      "2                      Looking for someone but no name\n",
      "3    UN reports Leogane 80-90 destroyed. Only Hospi...\n",
      "4    says: west side of Haiti, rest of the country ...\n",
      "Name: message, dtype: object\n"
     ]
    }
   ],
   "source": [
    "# load data from database\n",
    "engine = create_engine('sqlite:///disaster.db')\n",
    "df = pd.read_sql_table('disaster', engine)\n",
    "X = df.iloc[:,1]\n",
    "Y = df.iloc[:,4:]\n",
    "\n",
    "# We can drop child alone since there aren't any messages with that category.\n",
    "\n",
    "\n",
    "print(X.head())"
   ]
  },
  {
   "cell_type": "markdown",
   "metadata": {},
   "source": [
    "This dataset is imbalanced so we will try to attempt to merge some of the really small categories which have less than 200 samples. This does mean we lose some specificity with our model and this is an important consideration if this trade off is acceptable or not. It can be argued in some situations we don't need to know the exact specific disaster but rather the general category such as if it is infrastructural related we make sure we send out a team with tools and general capability to handle that kind of situation.\n",
    "\n",
    "We will be merging buildings, electricity, tools, hospitals, shops, aid-centers, other_infrastructure all into `infrastructure_related`. The reason for doing this makes sense from a logical point of view since those are all infrastructure related and will typically mean we send out similar teams prepared for any kind of infrastructure related problems.\n",
    "\n",
    "We will also be placing clothing, money, missing people, refugees and death category into `other_aid`\n",
    "\n"
   ]
  },
  {
   "cell_type": "markdown",
   "metadata": {},
   "source": [
    "## Part II: Experimenting with Feature Engineering"
   ]
  },
  {
   "cell_type": "code",
   "execution_count": 3,
   "metadata": {},
   "outputs": [],
   "source": [
    "# If any of these features are 1 than infrastructure_related should be 1 since we merging them in\n",
    "\n",
    "\n",
    "df.loc[(df['buildings']==1) |\n",
    "      (df['electricity']==1) |\n",
    "      (df['tools']==1) |\n",
    "      (df['hospitals']==1) |\n",
    "      (df['shops']==1) |\n",
    "      (df['aid_centers']==1) |\n",
    "      (df['other_infrastructure']==1), 'infrastructure_related'] = 1\n",
    "\n",
    "# Merging categories into other aid\n",
    "\n",
    "df.loc[(df['clothing']==1) |\n",
    "      (df['money']==1) |\n",
    "      (df['missing_people']==1) |\n",
    "      (df['refugees']==1) |\n",
    "      (df['death']==1), 'other_aid'] = 1\n",
    "\n",
    "# Merging floods, storm, cold and other_weather into weather_related\n",
    "\n",
    "df.loc[(df['floods']==1) |\n",
    "      (df['storm']==1) |\n",
    "      (df['cold']==1) |\n",
    "      (df['other_weather']==1), 'weather_related'] = 1\n",
    "\n",
    "# for i in df.columns.unique()[7:]:\n",
    "#       print(df.columns.unique())\n",
    "#       if df[df[i]==1].shape[0] > 1000:\n",
    "#             pass\n",
    "#       else:\n",
    "#             df = df.drop(labels=[i])\n",
    "\n",
    "\n",
    "# Dropping the merged in features\n",
    "df = df.drop(labels=['buildings', 'electricity', 'tools', 'hospitals', 'shops', 'aid_centers', 'other_infrastructure',\n",
    "      'clothing', 'money', 'missing_people', 'refugees', 'death', 'floods', 'storm', 'cold', 'other_weather'], axis=1)\n",
    "\n"
   ]
  },
  {
   "cell_type": "markdown",
   "metadata": {},
   "source": [
    "#### Feature merging\n",
    "\n",
    "Later when running the pipeline we see that this merging improves f1 score very slightly, lowering precision but improving recall thus overall with an improved f1 score. Since we are dealing with an imbalanced dataset we will prioritize recall and f1 score over precision."
   ]
  },
  {
   "cell_type": "code",
   "execution_count": 4,
   "metadata": {},
   "outputs": [
    {
     "name": "stdout",
     "output_type": "stream",
     "text": [
      "related - 19914\n",
      "request - 4480\n",
      "offer - 119\n",
      "aid_related - 10878\n",
      "medical_help - 2087\n",
      "medical_products - 1314\n",
      "search_and_rescue - 724\n",
      "security - 471\n",
      "military - 860\n",
      "water - 1674\n",
      "food - 2930\n",
      "shelter - 2319\n",
      "other_aid - 5737\n",
      "infrastructure_related - 3064\n",
      "transport - 1203\n",
      "weather_related - 7302\n",
      "fire - 282\n",
      "earthquake - 2453\n",
      "direct_report - 5080\n"
     ]
    }
   ],
   "source": [
    "# Making sure that the features successfuly merged into infrastructure_related\n",
    "X = df.iloc[:,1]\n",
    "Y = df.iloc[:,4:]\n",
    "\n",
    "for i in Y.columns.unique():\n",
    "    print(i, Y[Y[i]==1].shape[0], sep=\" - \")"
   ]
  },
  {
   "cell_type": "code",
   "execution_count": 5,
   "metadata": {},
   "outputs": [
    {
     "data": {
      "text/html": [
       "<div>\n",
       "<style scoped>\n",
       "    .dataframe tbody tr th:only-of-type {\n",
       "        vertical-align: middle;\n",
       "    }\n",
       "\n",
       "    .dataframe tbody tr th {\n",
       "        vertical-align: top;\n",
       "    }\n",
       "\n",
       "    .dataframe thead th {\n",
       "        text-align: right;\n",
       "    }\n",
       "</style>\n",
       "<table border=\"1\" class=\"dataframe\">\n",
       "  <thead>\n",
       "    <tr style=\"text-align: right;\">\n",
       "      <th></th>\n",
       "      <th>related</th>\n",
       "      <th>request</th>\n",
       "      <th>offer</th>\n",
       "      <th>aid_related</th>\n",
       "      <th>medical_help</th>\n",
       "      <th>medical_products</th>\n",
       "      <th>search_and_rescue</th>\n",
       "      <th>security</th>\n",
       "      <th>military</th>\n",
       "      <th>water</th>\n",
       "      <th>food</th>\n",
       "      <th>shelter</th>\n",
       "      <th>other_aid</th>\n",
       "      <th>infrastructure_related</th>\n",
       "      <th>transport</th>\n",
       "      <th>weather_related</th>\n",
       "      <th>fire</th>\n",
       "      <th>earthquake</th>\n",
       "      <th>direct_report</th>\n",
       "    </tr>\n",
       "  </thead>\n",
       "  <tbody>\n",
       "    <tr>\n",
       "      <th>0</th>\n",
       "      <td>1</td>\n",
       "      <td>0</td>\n",
       "      <td>0</td>\n",
       "      <td>0</td>\n",
       "      <td>0</td>\n",
       "      <td>0</td>\n",
       "      <td>0</td>\n",
       "      <td>0</td>\n",
       "      <td>0</td>\n",
       "      <td>0</td>\n",
       "      <td>0</td>\n",
       "      <td>0</td>\n",
       "      <td>0</td>\n",
       "      <td>0</td>\n",
       "      <td>0</td>\n",
       "      <td>0</td>\n",
       "      <td>0</td>\n",
       "      <td>0</td>\n",
       "      <td>0</td>\n",
       "    </tr>\n",
       "    <tr>\n",
       "      <th>1</th>\n",
       "      <td>1</td>\n",
       "      <td>0</td>\n",
       "      <td>0</td>\n",
       "      <td>1</td>\n",
       "      <td>0</td>\n",
       "      <td>0</td>\n",
       "      <td>0</td>\n",
       "      <td>0</td>\n",
       "      <td>0</td>\n",
       "      <td>0</td>\n",
       "      <td>0</td>\n",
       "      <td>0</td>\n",
       "      <td>1</td>\n",
       "      <td>0</td>\n",
       "      <td>0</td>\n",
       "      <td>1</td>\n",
       "      <td>0</td>\n",
       "      <td>0</td>\n",
       "      <td>0</td>\n",
       "    </tr>\n",
       "    <tr>\n",
       "      <th>2</th>\n",
       "      <td>1</td>\n",
       "      <td>0</td>\n",
       "      <td>0</td>\n",
       "      <td>0</td>\n",
       "      <td>0</td>\n",
       "      <td>0</td>\n",
       "      <td>0</td>\n",
       "      <td>0</td>\n",
       "      <td>0</td>\n",
       "      <td>0</td>\n",
       "      <td>0</td>\n",
       "      <td>0</td>\n",
       "      <td>0</td>\n",
       "      <td>0</td>\n",
       "      <td>0</td>\n",
       "      <td>0</td>\n",
       "      <td>0</td>\n",
       "      <td>0</td>\n",
       "      <td>0</td>\n",
       "    </tr>\n",
       "    <tr>\n",
       "      <th>3</th>\n",
       "      <td>1</td>\n",
       "      <td>1</td>\n",
       "      <td>0</td>\n",
       "      <td>1</td>\n",
       "      <td>0</td>\n",
       "      <td>1</td>\n",
       "      <td>0</td>\n",
       "      <td>0</td>\n",
       "      <td>0</td>\n",
       "      <td>0</td>\n",
       "      <td>0</td>\n",
       "      <td>0</td>\n",
       "      <td>1</td>\n",
       "      <td>1</td>\n",
       "      <td>0</td>\n",
       "      <td>0</td>\n",
       "      <td>0</td>\n",
       "      <td>0</td>\n",
       "      <td>0</td>\n",
       "    </tr>\n",
       "    <tr>\n",
       "      <th>4</th>\n",
       "      <td>1</td>\n",
       "      <td>0</td>\n",
       "      <td>0</td>\n",
       "      <td>0</td>\n",
       "      <td>0</td>\n",
       "      <td>0</td>\n",
       "      <td>0</td>\n",
       "      <td>0</td>\n",
       "      <td>0</td>\n",
       "      <td>0</td>\n",
       "      <td>0</td>\n",
       "      <td>0</td>\n",
       "      <td>0</td>\n",
       "      <td>0</td>\n",
       "      <td>0</td>\n",
       "      <td>0</td>\n",
       "      <td>0</td>\n",
       "      <td>0</td>\n",
       "      <td>0</td>\n",
       "    </tr>\n",
       "  </tbody>\n",
       "</table>\n",
       "</div>"
      ],
      "text/plain": [
       "   related  request  offer  aid_related  medical_help  medical_products  \\\n",
       "0        1        0      0            0             0                 0   \n",
       "1        1        0      0            1             0                 0   \n",
       "2        1        0      0            0             0                 0   \n",
       "3        1        1      0            1             0                 1   \n",
       "4        1        0      0            0             0                 0   \n",
       "\n",
       "   search_and_rescue  security  military  water  food  shelter  other_aid  \\\n",
       "0                  0         0         0      0     0        0          0   \n",
       "1                  0         0         0      0     0        0          1   \n",
       "2                  0         0         0      0     0        0          0   \n",
       "3                  0         0         0      0     0        0          1   \n",
       "4                  0         0         0      0     0        0          0   \n",
       "\n",
       "   infrastructure_related  transport  weather_related  fire  earthquake  \\\n",
       "0                       0          0                0     0           0   \n",
       "1                       0          0                1     0           0   \n",
       "2                       0          0                0     0           0   \n",
       "3                       1          0                0     0           0   \n",
       "4                       0          0                0     0           0   \n",
       "\n",
       "   direct_report  \n",
       "0              0  \n",
       "1              0  \n",
       "2              0  \n",
       "3              0  \n",
       "4              0  "
      ]
     },
     "execution_count": 5,
     "metadata": {},
     "output_type": "execute_result"
    }
   ],
   "source": [
    "# Do the same for other aid\n",
    "Y.head()"
   ]
  },
  {
   "cell_type": "markdown",
   "metadata": {},
   "source": [
    "## Part III: Tokenization of text data\n",
    "### 2. Write a tokenization function to process your text data"
   ]
  },
  {
   "cell_type": "code",
   "execution_count": 6,
   "metadata": {},
   "outputs": [],
   "source": [
    "def tokenize(text):\n",
    "    \n",
    "    clean_tokens = []\n",
    "    \n",
    "    # lowercasing and removing punctuation\n",
    "    text = re.sub(r\"[^a-zA-Z0-9]\", \" \", text.lower().strip())\n",
    "    tokens = word_tokenize(text)\n",
    "    # Remove stop words + stem\n",
    "    stemmer = PorterStemmer()\n",
    "    \n",
    "    \n",
    "    stop_words = stopwords.words(\"english\")\n",
    "    clean_tokens = [ stemmer.stem(word) for word in tokens if word not in stop_words]\n",
    "\n",
    "    return clean_tokens\n"
   ]
  },
  {
   "cell_type": "markdown",
   "metadata": {},
   "source": [
    "### 3. Build a machine learning pipeline\n",
    "This machine pipeline should take in the `message` column as input and output classification results on the other 36 categories in the dataset. You may find the [MultiOutputClassifier](http://scikit-learn.org/stable/modules/generated/sklearn.multioutput.MultiOutputClassifier.html) helpful for predicting multiple target variables."
   ]
  },
  {
   "cell_type": "code",
   "execution_count": 7,
   "metadata": {},
   "outputs": [],
   "source": [
    "# build a transformer that scales\n",
    "class OverSamplingTransformer(BaseEstimator, TransformerMixin):\n",
    "    \"\"\"A custom transformer to be used in the ML pipeline to handle the class imbalance that is present\n",
    "    in this dataset.\n",
    "    \"\"\"\n",
    "    \n",
    "    def __init__(self, n_sample):\n",
    "        self.n_sample = n_sample\n",
    "        pass\n",
    "    \n",
    "    def fit(self, X, y=None):\n",
    "        X = pd.DataFrame(X)\n",
    "        y = pd.DataFrame(y)\n",
    "        return MLSMOTE(X, y, self.n_sample)\n",
    "    \n",
    "    def transform(self, X):\n",
    "        pass"
   ]
  },
  {
   "cell_type": "code",
   "execution_count": 8,
   "metadata": {},
   "outputs": [],
   "source": [
    "# Try other estimators to see if performance is better\n",
    "# Implement oversampling using SVD of n components\n",
    "\n",
    "# Number of featurs we want to reduce to so that we can then use this in oversampling transformer\n",
    "n_features = 33 \n",
    "\n",
    "pipeline = iPipeline([\n",
    "    #('smt', SMOTE()),\n",
    "    ('features', FeatureUnion([\n",
    "        ('nltk_pipeline', Pipeline([\n",
    "                ('count-vector', CountVectorizer(tokenizer=tokenize)),\n",
    "                ('tf-idf', TfidfTransformer())   \n",
    "        ])),\n",
    "        \n",
    "        \n",
    "        \n",
    "    ])),\n",
    "     #('tf-idf', TfidfVectorizer()),\n",
    "    ('SVD', TruncatedSVD(n_components=n_features)),\n",
    "    #('smote', OverSamplingTransformer(n_sample=1000)),\n",
    "    ('clf', MultiOutputClassifier(RandomForestClassifier(), n_jobs=-1))\n",
    "])"
   ]
  },
  {
   "cell_type": "code",
   "execution_count": 9,
   "metadata": {},
   "outputs": [],
   "source": [
    "# Trying a different model\n",
    "pipeline2 = Pipeline([\n",
    "    #('smt', SMOTE()),\n",
    "    ('count-vector', CountVectorizer(tokenizer=tokenize)),\n",
    "    ('tf-idf', TfidfTransformer()),\n",
    "    #('tf-idf', TfidfVectorizer()),\n",
    "    ('clf', MultiOutputClassifier(AdaBoostClassifier(), n_jobs=-1))\n",
    "])"
   ]
  },
  {
   "cell_type": "markdown",
   "metadata": {},
   "source": [
    "### 4. Train pipeline\n",
    "- Split data into train and test sets\n",
    "- Train pipeline"
   ]
  },
  {
   "cell_type": "code",
   "execution_count": 10,
   "metadata": {},
   "outputs": [
    {
     "data": {
      "text/plain": [
       "Pipeline(steps=[('features',\n",
       "                 FeatureUnion(transformer_list=[('nltk_pipeline',\n",
       "                                                 Pipeline(steps=[('count-vector',\n",
       "                                                                  CountVectorizer(tokenizer=<function tokenize at 0x7f4e248d1e10>)),\n",
       "                                                                 ('tf-idf',\n",
       "                                                                  TfidfTransformer())]))])),\n",
       "                ('SVD', TruncatedSVD(n_components=33)),\n",
       "                ('clf',\n",
       "                 MultiOutputClassifier(estimator=RandomForestClassifier(),\n",
       "                                       n_jobs=-1))])"
      ]
     },
     "execution_count": 10,
     "metadata": {},
     "output_type": "execute_result"
    }
   ],
   "source": [
    "X_train, X_test, y_train, y_test = train_test_split(X, Y, test_size=0.33, random_state=1)\n",
    "pipeline.fit(X_train, y_train)\n"
   ]
  },
  {
   "cell_type": "code",
   "execution_count": 11,
   "metadata": {},
   "outputs": [
    {
     "name": "stdout",
     "output_type": "stream",
     "text": [
      "9979     7.0 earthquake rocks Haiti The Christian Scien...\n",
      "3632     I WOULD BE HAPPY BECAUSE EVEN COROSSOL JUICE,T...\n",
      "18789    Because of this, at 9:05am a safety valve on t...\n",
      "21277    The state power company Tenaga Nasional Bhd ha...\n",
      "15451    USAID, through the Assistance for Emergency Lo...\n",
      "                               ...                        \n",
      "10955    Really hope this Hurricane doesn't happen . #f...\n",
      "17289    In Xai-Xai, a small city about 90 miles from M...\n",
      "5192     I didn't ever get an answer to the question I ...\n",
      "12172    shamsher haider mirani moza sumra nashaib janoobi\n",
      "235      Send cards ( airtime, calling cards ) for Digi...\n",
      "Name: message, Length: 17430, dtype: object\n"
     ]
    }
   ],
   "source": [
    "print(X_train)"
   ]
  },
  {
   "cell_type": "markdown",
   "metadata": {},
   "source": [
    "### 5. Test your model\n",
    "Report the f1 score, precision and recall for each output category of the dataset. You can do this by iterating through the columns and calling sklearn's `classification_report` on each."
   ]
  },
  {
   "cell_type": "code",
   "execution_count": 12,
   "metadata": {},
   "outputs": [
    {
     "name": "stdout",
     "output_type": "stream",
     "text": [
      "                        precision    recall  f1-score   support\n",
      "\n",
      "               related       0.77      0.97      0.86      6545\n",
      "               request       0.46      0.08      0.14      1520\n",
      "                 offer       0.00      0.00      0.00        34\n",
      "           aid_related       0.46      0.23      0.30      3582\n",
      "          medical_help       0.00      0.00      0.00       672\n",
      "      medical_products       0.33      0.00      0.01       441\n",
      "     search_and_rescue       0.50      0.00      0.01       230\n",
      "              security       0.00      0.00      0.00       155\n",
      "              military       1.00      0.00      0.01       308\n",
      "                 water       0.00      0.00      0.00       568\n",
      "                  food       0.27      0.01      0.01       973\n",
      "               shelter       0.08      0.00      0.00       775\n",
      "             other_aid       0.24      0.01      0.02      1877\n",
      "infrastructure_related       0.19      0.00      0.01      1013\n",
      "             transport       0.00      0.00      0.00       398\n",
      "       weather_related       0.56      0.16      0.25      2398\n",
      "                  fire       0.00      0.00      0.00        94\n",
      "            earthquake       0.73      0.16      0.26       785\n",
      "         direct_report       0.36      0.06      0.11      1670\n",
      "\n",
      "             micro avg       0.68      0.33      0.45     24038\n",
      "             macro avg       0.31      0.09      0.10     24038\n",
      "          weighted avg       0.47      0.33      0.33     24038\n",
      "           samples avg       0.69      0.37      0.43     24038\n",
      "\n"
     ]
    },
    {
     "name": "stderr",
     "output_type": "stream",
     "text": [
      "/home/salman1567/code/Data Science - Machine Learning Projects/Data Science Portfolio/Diasaster Response Classification/env/lib/python3.10/site-packages/sklearn/metrics/_classification.py:1318: UndefinedMetricWarning: Precision and F-score are ill-defined and being set to 0.0 in labels with no predicted samples. Use `zero_division` parameter to control this behavior.\n",
      "  _warn_prf(average, modifier, msg_start, len(result))\n",
      "/home/salman1567/code/Data Science - Machine Learning Projects/Data Science Portfolio/Diasaster Response Classification/env/lib/python3.10/site-packages/sklearn/metrics/_classification.py:1318: UndefinedMetricWarning: Precision and F-score are ill-defined and being set to 0.0 in samples with no predicted labels. Use `zero_division` parameter to control this behavior.\n",
      "  _warn_prf(average, modifier, msg_start, len(result))\n",
      "/home/salman1567/code/Data Science - Machine Learning Projects/Data Science Portfolio/Diasaster Response Classification/env/lib/python3.10/site-packages/sklearn/metrics/_classification.py:1318: UndefinedMetricWarning: Recall and F-score are ill-defined and being set to 0.0 in samples with no true labels. Use `zero_division` parameter to control this behavior.\n",
      "  _warn_prf(average, modifier, msg_start, len(result))\n"
     ]
    }
   ],
   "source": [
    "col_names = Y.columns.unique()\n",
    "y_pred = pipeline.predict(X_test)\n",
    "print(classification_report(y_test, y_pred, target_names=col_names))\n",
    "    \n",
    "\n"
   ]
  },
  {
   "cell_type": "code",
   "execution_count": 13,
   "metadata": {},
   "outputs": [
    {
     "ename": "ValueError",
     "evalue": "WRITEBACKIFCOPY base is read-only",
     "output_type": "error",
     "traceback": [
      "\u001b[0;31m---------------------------------------------------------------------------\u001b[0m",
      "\u001b[0;31m_RemoteTraceback\u001b[0m                          Traceback (most recent call last)",
      "\u001b[0;31m_RemoteTraceback\u001b[0m: \n\"\"\"\nTraceback (most recent call last):\n  File \"/home/salman1567/code/Data Science - Machine Learning Projects/Data Science Portfolio/Diasaster Response Classification/env/lib/python3.10/site-packages/joblib/externals/loky/process_executor.py\", line 436, in _process_worker\n    r = call_item()\n  File \"/home/salman1567/code/Data Science - Machine Learning Projects/Data Science Portfolio/Diasaster Response Classification/env/lib/python3.10/site-packages/joblib/externals/loky/process_executor.py\", line 288, in __call__\n    return self.fn(*self.args, **self.kwargs)\n  File \"/home/salman1567/code/Data Science - Machine Learning Projects/Data Science Portfolio/Diasaster Response Classification/env/lib/python3.10/site-packages/joblib/_parallel_backends.py\", line 595, in __call__\n    return self.func(*args, **kwargs)\n  File \"/home/salman1567/code/Data Science - Machine Learning Projects/Data Science Portfolio/Diasaster Response Classification/env/lib/python3.10/site-packages/joblib/parallel.py\", line 262, in __call__\n    return [func(*args, **kwargs)\n  File \"/home/salman1567/code/Data Science - Machine Learning Projects/Data Science Portfolio/Diasaster Response Classification/env/lib/python3.10/site-packages/joblib/parallel.py\", line 262, in <listcomp>\n    return [func(*args, **kwargs)\n  File \"/home/salman1567/code/Data Science - Machine Learning Projects/Data Science Portfolio/Diasaster Response Classification/env/lib/python3.10/site-packages/sklearn/utils/fixes.py\", line 216, in __call__\n    return self.function(*args, **kwargs)\n  File \"/home/salman1567/code/Data Science - Machine Learning Projects/Data Science Portfolio/Diasaster Response Classification/env/lib/python3.10/site-packages/sklearn/multioutput.py\", line 44, in _fit_estimator\n    estimator.fit(X, y, **fit_params)\n  File \"/home/salman1567/code/Data Science - Machine Learning Projects/Data Science Portfolio/Diasaster Response Classification/env/lib/python3.10/site-packages/sklearn/ensemble/_weight_boosting.py\", line 486, in fit\n    return super().fit(X, y, sample_weight)\n  File \"/home/salman1567/code/Data Science - Machine Learning Projects/Data Science Portfolio/Diasaster Response Classification/env/lib/python3.10/site-packages/sklearn/ensemble/_weight_boosting.py\", line 145, in fit\n    sample_weight, estimator_weight, estimator_error = self._boost(\n  File \"/home/salman1567/code/Data Science - Machine Learning Projects/Data Science Portfolio/Diasaster Response Classification/env/lib/python3.10/site-packages/sklearn/ensemble/_weight_boosting.py\", line 548, in _boost\n    return self._boost_real(iboost, X, y, sample_weight, random_state)\n  File \"/home/salman1567/code/Data Science - Machine Learning Projects/Data Science Portfolio/Diasaster Response Classification/env/lib/python3.10/site-packages/sklearn/ensemble/_weight_boosting.py\", line 559, in _boost_real\n    y_predict_proba = estimator.predict_proba(X)\n  File \"/home/salman1567/code/Data Science - Machine Learning Projects/Data Science Portfolio/Diasaster Response Classification/env/lib/python3.10/site-packages/sklearn/tree/_classes.py\", line 971, in predict_proba\n    X = self._validate_X_predict(X, check_input)\n  File \"/home/salman1567/code/Data Science - Machine Learning Projects/Data Science Portfolio/Diasaster Response Classification/env/lib/python3.10/site-packages/sklearn/tree/_classes.py\", line 433, in _validate_X_predict\n    X = self._validate_data(X, dtype=DTYPE, accept_sparse=\"csr\", reset=False)\n  File \"/home/salman1567/code/Data Science - Machine Learning Projects/Data Science Portfolio/Diasaster Response Classification/env/lib/python3.10/site-packages/sklearn/base.py\", line 566, in _validate_data\n    X = check_array(X, **check_params)\n  File \"/home/salman1567/code/Data Science - Machine Learning Projects/Data Science Portfolio/Diasaster Response Classification/env/lib/python3.10/site-packages/sklearn/utils/validation.py\", line 720, in check_array\n    array = _ensure_sparse_format(\n  File \"/home/salman1567/code/Data Science - Machine Learning Projects/Data Science Portfolio/Diasaster Response Classification/env/lib/python3.10/site-packages/sklearn/utils/validation.py\", line 467, in _ensure_sparse_format\n    spmatrix = spmatrix.astype(dtype)\n  File \"/home/salman1567/code/Data Science - Machine Learning Projects/Data Science Portfolio/Diasaster Response Classification/env/lib/python3.10/site-packages/scipy/sparse/_data.py\", line 72, in astype\n    self._deduped_data().astype(dtype, casting=casting, copy=copy),\n  File \"/home/salman1567/code/Data Science - Machine Learning Projects/Data Science Portfolio/Diasaster Response Classification/env/lib/python3.10/site-packages/scipy/sparse/_data.py\", line 32, in _deduped_data\n    self.sum_duplicates()\n  File \"/home/salman1567/code/Data Science - Machine Learning Projects/Data Science Portfolio/Diasaster Response Classification/env/lib/python3.10/site-packages/scipy/sparse/_compressed.py\", line 1118, in sum_duplicates\n    self.sort_indices()\n  File \"/home/salman1567/code/Data Science - Machine Learning Projects/Data Science Portfolio/Diasaster Response Classification/env/lib/python3.10/site-packages/scipy/sparse/_compressed.py\", line 1164, in sort_indices\n    _sparsetools.csr_sort_indices(len(self.indptr) - 1, self.indptr,\nValueError: WRITEBACKIFCOPY base is read-only\n\"\"\"",
      "\nThe above exception was the direct cause of the following exception:\n",
      "\u001b[0;31mValueError\u001b[0m                                Traceback (most recent call last)",
      "\u001b[1;32m/home/salman1567/code/Data Science - Machine Learning Projects/Data Science Portfolio/Diasaster Response Classification/ML Pipeline Preparation.ipynb Cell 20'\u001b[0m in \u001b[0;36m<cell line: 2>\u001b[0;34m()\u001b[0m\n\u001b[1;32m      <a href='vscode-notebook-cell:/home/salman1567/code/Data%20Science%20-%20Machine%20Learning%20Projects/Data%20Science%20Portfolio/Diasaster%20Response%20Classification/ML%20Pipeline%20Preparation.ipynb#ch0000019?line=0'>1</a>\u001b[0m X_train2, X_test2, y_train2, y_test2 \u001b[39m=\u001b[39m train_test_split(X, Y, test_size\u001b[39m=\u001b[39m\u001b[39m0.33\u001b[39m, random_state\u001b[39m=\u001b[39m\u001b[39m1\u001b[39m)\n\u001b[0;32m----> <a href='vscode-notebook-cell:/home/salman1567/code/Data%20Science%20-%20Machine%20Learning%20Projects/Data%20Science%20Portfolio/Diasaster%20Response%20Classification/ML%20Pipeline%20Preparation.ipynb#ch0000019?line=1'>2</a>\u001b[0m pipeline2\u001b[39m.\u001b[39;49mfit(X_train2, y_train2)\n\u001b[1;32m      <a href='vscode-notebook-cell:/home/salman1567/code/Data%20Science%20-%20Machine%20Learning%20Projects/Data%20Science%20Portfolio/Diasaster%20Response%20Classification/ML%20Pipeline%20Preparation.ipynb#ch0000019?line=2'>3</a>\u001b[0m col_names \u001b[39m=\u001b[39m Y\u001b[39m.\u001b[39mcolumns\u001b[39m.\u001b[39munique()\n\u001b[1;32m      <a href='vscode-notebook-cell:/home/salman1567/code/Data%20Science%20-%20Machine%20Learning%20Projects/Data%20Science%20Portfolio/Diasaster%20Response%20Classification/ML%20Pipeline%20Preparation.ipynb#ch0000019?line=3'>4</a>\u001b[0m y_pred2 \u001b[39m=\u001b[39m pipeline2\u001b[39m.\u001b[39mpredict(X_test2)\n",
      "File \u001b[0;32m~/code/Data Science - Machine Learning Projects/Data Science Portfolio/Diasaster Response Classification/env/lib/python3.10/site-packages/sklearn/pipeline.py:394\u001b[0m, in \u001b[0;36mPipeline.fit\u001b[0;34m(self, X, y, **fit_params)\u001b[0m\n\u001b[1;32m    <a href='file:///home/salman1567/code/Data%20Science%20-%20Machine%20Learning%20Projects/Data%20Science%20Portfolio/Diasaster%20Response%20Classification/env/lib/python3.10/site-packages/sklearn/pipeline.py?line=391'>392</a>\u001b[0m     \u001b[39mif\u001b[39;00m \u001b[39mself\u001b[39m\u001b[39m.\u001b[39m_final_estimator \u001b[39m!=\u001b[39m \u001b[39m\"\u001b[39m\u001b[39mpassthrough\u001b[39m\u001b[39m\"\u001b[39m:\n\u001b[1;32m    <a href='file:///home/salman1567/code/Data%20Science%20-%20Machine%20Learning%20Projects/Data%20Science%20Portfolio/Diasaster%20Response%20Classification/env/lib/python3.10/site-packages/sklearn/pipeline.py?line=392'>393</a>\u001b[0m         fit_params_last_step \u001b[39m=\u001b[39m fit_params_steps[\u001b[39mself\u001b[39m\u001b[39m.\u001b[39msteps[\u001b[39m-\u001b[39m\u001b[39m1\u001b[39m][\u001b[39m0\u001b[39m]]\n\u001b[0;32m--> <a href='file:///home/salman1567/code/Data%20Science%20-%20Machine%20Learning%20Projects/Data%20Science%20Portfolio/Diasaster%20Response%20Classification/env/lib/python3.10/site-packages/sklearn/pipeline.py?line=393'>394</a>\u001b[0m         \u001b[39mself\u001b[39;49m\u001b[39m.\u001b[39;49m_final_estimator\u001b[39m.\u001b[39;49mfit(Xt, y, \u001b[39m*\u001b[39;49m\u001b[39m*\u001b[39;49mfit_params_last_step)\n\u001b[1;32m    <a href='file:///home/salman1567/code/Data%20Science%20-%20Machine%20Learning%20Projects/Data%20Science%20Portfolio/Diasaster%20Response%20Classification/env/lib/python3.10/site-packages/sklearn/pipeline.py?line=395'>396</a>\u001b[0m \u001b[39mreturn\u001b[39;00m \u001b[39mself\u001b[39m\n",
      "File \u001b[0;32m~/code/Data Science - Machine Learning Projects/Data Science Portfolio/Diasaster Response Classification/env/lib/python3.10/site-packages/sklearn/multioutput.py:434\u001b[0m, in \u001b[0;36mMultiOutputClassifier.fit\u001b[0;34m(self, X, Y, sample_weight, **fit_params)\u001b[0m\n\u001b[1;32m    <a href='file:///home/salman1567/code/Data%20Science%20-%20Machine%20Learning%20Projects/Data%20Science%20Portfolio/Diasaster%20Response%20Classification/env/lib/python3.10/site-packages/sklearn/multioutput.py?line=407'>408</a>\u001b[0m \u001b[39mdef\u001b[39;00m \u001b[39mfit\u001b[39m(\u001b[39mself\u001b[39m, X, Y, sample_weight\u001b[39m=\u001b[39m\u001b[39mNone\u001b[39;00m, \u001b[39m*\u001b[39m\u001b[39m*\u001b[39mfit_params):\n\u001b[1;32m    <a href='file:///home/salman1567/code/Data%20Science%20-%20Machine%20Learning%20Projects/Data%20Science%20Portfolio/Diasaster%20Response%20Classification/env/lib/python3.10/site-packages/sklearn/multioutput.py?line=408'>409</a>\u001b[0m     \u001b[39m\"\"\"Fit the model to data matrix X and targets Y.\u001b[39;00m\n\u001b[1;32m    <a href='file:///home/salman1567/code/Data%20Science%20-%20Machine%20Learning%20Projects/Data%20Science%20Portfolio/Diasaster%20Response%20Classification/env/lib/python3.10/site-packages/sklearn/multioutput.py?line=409'>410</a>\u001b[0m \n\u001b[1;32m    <a href='file:///home/salman1567/code/Data%20Science%20-%20Machine%20Learning%20Projects/Data%20Science%20Portfolio/Diasaster%20Response%20Classification/env/lib/python3.10/site-packages/sklearn/multioutput.py?line=410'>411</a>\u001b[0m \u001b[39m    Parameters\u001b[39;00m\n\u001b[0;32m   (...)\u001b[0m\n\u001b[1;32m    <a href='file:///home/salman1567/code/Data%20Science%20-%20Machine%20Learning%20Projects/Data%20Science%20Portfolio/Diasaster%20Response%20Classification/env/lib/python3.10/site-packages/sklearn/multioutput.py?line=431'>432</a>\u001b[0m \u001b[39m        Returns a fitted instance.\u001b[39;00m\n\u001b[1;32m    <a href='file:///home/salman1567/code/Data%20Science%20-%20Machine%20Learning%20Projects/Data%20Science%20Portfolio/Diasaster%20Response%20Classification/env/lib/python3.10/site-packages/sklearn/multioutput.py?line=432'>433</a>\u001b[0m \u001b[39m    \"\"\"\u001b[39;00m\n\u001b[0;32m--> <a href='file:///home/salman1567/code/Data%20Science%20-%20Machine%20Learning%20Projects/Data%20Science%20Portfolio/Diasaster%20Response%20Classification/env/lib/python3.10/site-packages/sklearn/multioutput.py?line=433'>434</a>\u001b[0m     \u001b[39msuper\u001b[39;49m()\u001b[39m.\u001b[39;49mfit(X, Y, sample_weight, \u001b[39m*\u001b[39;49m\u001b[39m*\u001b[39;49mfit_params)\n\u001b[1;32m    <a href='file:///home/salman1567/code/Data%20Science%20-%20Machine%20Learning%20Projects/Data%20Science%20Portfolio/Diasaster%20Response%20Classification/env/lib/python3.10/site-packages/sklearn/multioutput.py?line=434'>435</a>\u001b[0m     \u001b[39mself\u001b[39m\u001b[39m.\u001b[39mclasses_ \u001b[39m=\u001b[39m [estimator\u001b[39m.\u001b[39mclasses_ \u001b[39mfor\u001b[39;00m estimator \u001b[39min\u001b[39;00m \u001b[39mself\u001b[39m\u001b[39m.\u001b[39mestimators_]\n\u001b[1;32m    <a href='file:///home/salman1567/code/Data%20Science%20-%20Machine%20Learning%20Projects/Data%20Science%20Portfolio/Diasaster%20Response%20Classification/env/lib/python3.10/site-packages/sklearn/multioutput.py?line=435'>436</a>\u001b[0m     \u001b[39mreturn\u001b[39;00m \u001b[39mself\u001b[39m\n",
      "File \u001b[0;32m~/code/Data Science - Machine Learning Projects/Data Science Portfolio/Diasaster Response Classification/env/lib/python3.10/site-packages/sklearn/multioutput.py:202\u001b[0m, in \u001b[0;36m_MultiOutputEstimator.fit\u001b[0;34m(self, X, y, sample_weight, **fit_params)\u001b[0m\n\u001b[1;32m    <a href='file:///home/salman1567/code/Data%20Science%20-%20Machine%20Learning%20Projects/Data%20Science%20Portfolio/Diasaster%20Response%20Classification/env/lib/python3.10/site-packages/sklearn/multioutput.py?line=197'>198</a>\u001b[0m     \u001b[39mraise\u001b[39;00m \u001b[39mValueError\u001b[39;00m(\u001b[39m\"\u001b[39m\u001b[39mUnderlying estimator does not support sample weights.\u001b[39m\u001b[39m\"\u001b[39m)\n\u001b[1;32m    <a href='file:///home/salman1567/code/Data%20Science%20-%20Machine%20Learning%20Projects/Data%20Science%20Portfolio/Diasaster%20Response%20Classification/env/lib/python3.10/site-packages/sklearn/multioutput.py?line=199'>200</a>\u001b[0m fit_params_validated \u001b[39m=\u001b[39m _check_fit_params(X, fit_params)\n\u001b[0;32m--> <a href='file:///home/salman1567/code/Data%20Science%20-%20Machine%20Learning%20Projects/Data%20Science%20Portfolio/Diasaster%20Response%20Classification/env/lib/python3.10/site-packages/sklearn/multioutput.py?line=201'>202</a>\u001b[0m \u001b[39mself\u001b[39m\u001b[39m.\u001b[39mestimators_ \u001b[39m=\u001b[39m Parallel(n_jobs\u001b[39m=\u001b[39;49m\u001b[39mself\u001b[39;49m\u001b[39m.\u001b[39;49mn_jobs)(\n\u001b[1;32m    <a href='file:///home/salman1567/code/Data%20Science%20-%20Machine%20Learning%20Projects/Data%20Science%20Portfolio/Diasaster%20Response%20Classification/env/lib/python3.10/site-packages/sklearn/multioutput.py?line=202'>203</a>\u001b[0m     delayed(_fit_estimator)(\n\u001b[1;32m    <a href='file:///home/salman1567/code/Data%20Science%20-%20Machine%20Learning%20Projects/Data%20Science%20Portfolio/Diasaster%20Response%20Classification/env/lib/python3.10/site-packages/sklearn/multioutput.py?line=203'>204</a>\u001b[0m         \u001b[39mself\u001b[39;49m\u001b[39m.\u001b[39;49mestimator, X, y[:, i], sample_weight, \u001b[39m*\u001b[39;49m\u001b[39m*\u001b[39;49mfit_params_validated\n\u001b[1;32m    <a href='file:///home/salman1567/code/Data%20Science%20-%20Machine%20Learning%20Projects/Data%20Science%20Portfolio/Diasaster%20Response%20Classification/env/lib/python3.10/site-packages/sklearn/multioutput.py?line=204'>205</a>\u001b[0m     )\n\u001b[1;32m    <a href='file:///home/salman1567/code/Data%20Science%20-%20Machine%20Learning%20Projects/Data%20Science%20Portfolio/Diasaster%20Response%20Classification/env/lib/python3.10/site-packages/sklearn/multioutput.py?line=205'>206</a>\u001b[0m     \u001b[39mfor\u001b[39;49;00m i \u001b[39min\u001b[39;49;00m \u001b[39mrange\u001b[39;49m(y\u001b[39m.\u001b[39;49mshape[\u001b[39m1\u001b[39;49m])\n\u001b[1;32m    <a href='file:///home/salman1567/code/Data%20Science%20-%20Machine%20Learning%20Projects/Data%20Science%20Portfolio/Diasaster%20Response%20Classification/env/lib/python3.10/site-packages/sklearn/multioutput.py?line=206'>207</a>\u001b[0m )\n\u001b[1;32m    <a href='file:///home/salman1567/code/Data%20Science%20-%20Machine%20Learning%20Projects/Data%20Science%20Portfolio/Diasaster%20Response%20Classification/env/lib/python3.10/site-packages/sklearn/multioutput.py?line=208'>209</a>\u001b[0m \u001b[39mif\u001b[39;00m \u001b[39mhasattr\u001b[39m(\u001b[39mself\u001b[39m\u001b[39m.\u001b[39mestimators_[\u001b[39m0\u001b[39m], \u001b[39m\"\u001b[39m\u001b[39mn_features_in_\u001b[39m\u001b[39m\"\u001b[39m):\n\u001b[1;32m    <a href='file:///home/salman1567/code/Data%20Science%20-%20Machine%20Learning%20Projects/Data%20Science%20Portfolio/Diasaster%20Response%20Classification/env/lib/python3.10/site-packages/sklearn/multioutput.py?line=209'>210</a>\u001b[0m     \u001b[39mself\u001b[39m\u001b[39m.\u001b[39mn_features_in_ \u001b[39m=\u001b[39m \u001b[39mself\u001b[39m\u001b[39m.\u001b[39mestimators_[\u001b[39m0\u001b[39m]\u001b[39m.\u001b[39mn_features_in_\n",
      "File \u001b[0;32m~/code/Data Science - Machine Learning Projects/Data Science Portfolio/Diasaster Response Classification/env/lib/python3.10/site-packages/joblib/parallel.py:1056\u001b[0m, in \u001b[0;36mParallel.__call__\u001b[0;34m(self, iterable)\u001b[0m\n\u001b[1;32m   <a href='file:///home/salman1567/code/Data%20Science%20-%20Machine%20Learning%20Projects/Data%20Science%20Portfolio/Diasaster%20Response%20Classification/env/lib/python3.10/site-packages/joblib/parallel.py?line=1052'>1053</a>\u001b[0m     \u001b[39mself\u001b[39m\u001b[39m.\u001b[39m_iterating \u001b[39m=\u001b[39m \u001b[39mFalse\u001b[39;00m\n\u001b[1;32m   <a href='file:///home/salman1567/code/Data%20Science%20-%20Machine%20Learning%20Projects/Data%20Science%20Portfolio/Diasaster%20Response%20Classification/env/lib/python3.10/site-packages/joblib/parallel.py?line=1054'>1055</a>\u001b[0m \u001b[39mwith\u001b[39;00m \u001b[39mself\u001b[39m\u001b[39m.\u001b[39m_backend\u001b[39m.\u001b[39mretrieval_context():\n\u001b[0;32m-> <a href='file:///home/salman1567/code/Data%20Science%20-%20Machine%20Learning%20Projects/Data%20Science%20Portfolio/Diasaster%20Response%20Classification/env/lib/python3.10/site-packages/joblib/parallel.py?line=1055'>1056</a>\u001b[0m     \u001b[39mself\u001b[39;49m\u001b[39m.\u001b[39;49mretrieve()\n\u001b[1;32m   <a href='file:///home/salman1567/code/Data%20Science%20-%20Machine%20Learning%20Projects/Data%20Science%20Portfolio/Diasaster%20Response%20Classification/env/lib/python3.10/site-packages/joblib/parallel.py?line=1056'>1057</a>\u001b[0m \u001b[39m# Make sure that we get a last message telling us we are done\u001b[39;00m\n\u001b[1;32m   <a href='file:///home/salman1567/code/Data%20Science%20-%20Machine%20Learning%20Projects/Data%20Science%20Portfolio/Diasaster%20Response%20Classification/env/lib/python3.10/site-packages/joblib/parallel.py?line=1057'>1058</a>\u001b[0m elapsed_time \u001b[39m=\u001b[39m time\u001b[39m.\u001b[39mtime() \u001b[39m-\u001b[39m \u001b[39mself\u001b[39m\u001b[39m.\u001b[39m_start_time\n",
      "File \u001b[0;32m~/code/Data Science - Machine Learning Projects/Data Science Portfolio/Diasaster Response Classification/env/lib/python3.10/site-packages/joblib/parallel.py:935\u001b[0m, in \u001b[0;36mParallel.retrieve\u001b[0;34m(self)\u001b[0m\n\u001b[1;32m    <a href='file:///home/salman1567/code/Data%20Science%20-%20Machine%20Learning%20Projects/Data%20Science%20Portfolio/Diasaster%20Response%20Classification/env/lib/python3.10/site-packages/joblib/parallel.py?line=932'>933</a>\u001b[0m \u001b[39mtry\u001b[39;00m:\n\u001b[1;32m    <a href='file:///home/salman1567/code/Data%20Science%20-%20Machine%20Learning%20Projects/Data%20Science%20Portfolio/Diasaster%20Response%20Classification/env/lib/python3.10/site-packages/joblib/parallel.py?line=933'>934</a>\u001b[0m     \u001b[39mif\u001b[39;00m \u001b[39mgetattr\u001b[39m(\u001b[39mself\u001b[39m\u001b[39m.\u001b[39m_backend, \u001b[39m'\u001b[39m\u001b[39msupports_timeout\u001b[39m\u001b[39m'\u001b[39m, \u001b[39mFalse\u001b[39;00m):\n\u001b[0;32m--> <a href='file:///home/salman1567/code/Data%20Science%20-%20Machine%20Learning%20Projects/Data%20Science%20Portfolio/Diasaster%20Response%20Classification/env/lib/python3.10/site-packages/joblib/parallel.py?line=934'>935</a>\u001b[0m         \u001b[39mself\u001b[39m\u001b[39m.\u001b[39m_output\u001b[39m.\u001b[39mextend(job\u001b[39m.\u001b[39;49mget(timeout\u001b[39m=\u001b[39;49m\u001b[39mself\u001b[39;49m\u001b[39m.\u001b[39;49mtimeout))\n\u001b[1;32m    <a href='file:///home/salman1567/code/Data%20Science%20-%20Machine%20Learning%20Projects/Data%20Science%20Portfolio/Diasaster%20Response%20Classification/env/lib/python3.10/site-packages/joblib/parallel.py?line=935'>936</a>\u001b[0m     \u001b[39melse\u001b[39;00m:\n\u001b[1;32m    <a href='file:///home/salman1567/code/Data%20Science%20-%20Machine%20Learning%20Projects/Data%20Science%20Portfolio/Diasaster%20Response%20Classification/env/lib/python3.10/site-packages/joblib/parallel.py?line=936'>937</a>\u001b[0m         \u001b[39mself\u001b[39m\u001b[39m.\u001b[39m_output\u001b[39m.\u001b[39mextend(job\u001b[39m.\u001b[39mget())\n",
      "File \u001b[0;32m~/code/Data Science - Machine Learning Projects/Data Science Portfolio/Diasaster Response Classification/env/lib/python3.10/site-packages/joblib/_parallel_backends.py:542\u001b[0m, in \u001b[0;36mLokyBackend.wrap_future_result\u001b[0;34m(future, timeout)\u001b[0m\n\u001b[1;32m    <a href='file:///home/salman1567/code/Data%20Science%20-%20Machine%20Learning%20Projects/Data%20Science%20Portfolio/Diasaster%20Response%20Classification/env/lib/python3.10/site-packages/joblib/_parallel_backends.py?line=538'>539</a>\u001b[0m \u001b[39m\"\"\"Wrapper for Future.result to implement the same behaviour as\u001b[39;00m\n\u001b[1;32m    <a href='file:///home/salman1567/code/Data%20Science%20-%20Machine%20Learning%20Projects/Data%20Science%20Portfolio/Diasaster%20Response%20Classification/env/lib/python3.10/site-packages/joblib/_parallel_backends.py?line=539'>540</a>\u001b[0m \u001b[39mAsyncResults.get from multiprocessing.\"\"\"\u001b[39;00m\n\u001b[1;32m    <a href='file:///home/salman1567/code/Data%20Science%20-%20Machine%20Learning%20Projects/Data%20Science%20Portfolio/Diasaster%20Response%20Classification/env/lib/python3.10/site-packages/joblib/_parallel_backends.py?line=540'>541</a>\u001b[0m \u001b[39mtry\u001b[39;00m:\n\u001b[0;32m--> <a href='file:///home/salman1567/code/Data%20Science%20-%20Machine%20Learning%20Projects/Data%20Science%20Portfolio/Diasaster%20Response%20Classification/env/lib/python3.10/site-packages/joblib/_parallel_backends.py?line=541'>542</a>\u001b[0m     \u001b[39mreturn\u001b[39;00m future\u001b[39m.\u001b[39;49mresult(timeout\u001b[39m=\u001b[39;49mtimeout)\n\u001b[1;32m    <a href='file:///home/salman1567/code/Data%20Science%20-%20Machine%20Learning%20Projects/Data%20Science%20Portfolio/Diasaster%20Response%20Classification/env/lib/python3.10/site-packages/joblib/_parallel_backends.py?line=542'>543</a>\u001b[0m \u001b[39mexcept\u001b[39;00m CfTimeoutError \u001b[39mas\u001b[39;00m e:\n\u001b[1;32m    <a href='file:///home/salman1567/code/Data%20Science%20-%20Machine%20Learning%20Projects/Data%20Science%20Portfolio/Diasaster%20Response%20Classification/env/lib/python3.10/site-packages/joblib/_parallel_backends.py?line=543'>544</a>\u001b[0m     \u001b[39mraise\u001b[39;00m \u001b[39mTimeoutError\u001b[39;00m \u001b[39mfrom\u001b[39;00m \u001b[39me\u001b[39;00m\n",
      "File \u001b[0;32m/usr/lib/python3.10/concurrent/futures/_base.py:446\u001b[0m, in \u001b[0;36mFuture.result\u001b[0;34m(self, timeout)\u001b[0m\n\u001b[1;32m    <a href='file:///usr/lib/python3.10/concurrent/futures/_base.py?line=443'>444</a>\u001b[0m     \u001b[39mraise\u001b[39;00m CancelledError()\n\u001b[1;32m    <a href='file:///usr/lib/python3.10/concurrent/futures/_base.py?line=444'>445</a>\u001b[0m \u001b[39melif\u001b[39;00m \u001b[39mself\u001b[39m\u001b[39m.\u001b[39m_state \u001b[39m==\u001b[39m FINISHED:\n\u001b[0;32m--> <a href='file:///usr/lib/python3.10/concurrent/futures/_base.py?line=445'>446</a>\u001b[0m     \u001b[39mreturn\u001b[39;00m \u001b[39mself\u001b[39;49m\u001b[39m.\u001b[39;49m__get_result()\n\u001b[1;32m    <a href='file:///usr/lib/python3.10/concurrent/futures/_base.py?line=446'>447</a>\u001b[0m \u001b[39melse\u001b[39;00m:\n\u001b[1;32m    <a href='file:///usr/lib/python3.10/concurrent/futures/_base.py?line=447'>448</a>\u001b[0m     \u001b[39mraise\u001b[39;00m \u001b[39mTimeoutError\u001b[39;00m()\n",
      "File \u001b[0;32m/usr/lib/python3.10/concurrent/futures/_base.py:391\u001b[0m, in \u001b[0;36mFuture.__get_result\u001b[0;34m(self)\u001b[0m\n\u001b[1;32m    <a href='file:///usr/lib/python3.10/concurrent/futures/_base.py?line=388'>389</a>\u001b[0m \u001b[39mif\u001b[39;00m \u001b[39mself\u001b[39m\u001b[39m.\u001b[39m_exception:\n\u001b[1;32m    <a href='file:///usr/lib/python3.10/concurrent/futures/_base.py?line=389'>390</a>\u001b[0m     \u001b[39mtry\u001b[39;00m:\n\u001b[0;32m--> <a href='file:///usr/lib/python3.10/concurrent/futures/_base.py?line=390'>391</a>\u001b[0m         \u001b[39mraise\u001b[39;00m \u001b[39mself\u001b[39m\u001b[39m.\u001b[39m_exception\n\u001b[1;32m    <a href='file:///usr/lib/python3.10/concurrent/futures/_base.py?line=391'>392</a>\u001b[0m     \u001b[39mfinally\u001b[39;00m:\n\u001b[1;32m    <a href='file:///usr/lib/python3.10/concurrent/futures/_base.py?line=392'>393</a>\u001b[0m         \u001b[39m# Break a reference cycle with the exception in self._exception\u001b[39;00m\n\u001b[1;32m    <a href='file:///usr/lib/python3.10/concurrent/futures/_base.py?line=393'>394</a>\u001b[0m         \u001b[39mself\u001b[39m \u001b[39m=\u001b[39m \u001b[39mNone\u001b[39;00m\n",
      "\u001b[0;31mValueError\u001b[0m: WRITEBACKIFCOPY base is read-only"
     ]
    }
   ],
   "source": [
    "X_train2, X_test2, y_train2, y_test2 = train_test_split(X, Y, test_size=0.33, random_state=1)\n",
    "pipeline2.fit(X_train2, y_train2)\n",
    "col_names = Y.columns.unique()\n",
    "y_pred2 = pipeline2.predict(X_test2)\n",
    "print(classification_report(y_test2, y_pred2, target_names=col_names))"
   ]
  },
  {
   "cell_type": "code",
   "execution_count": null,
   "metadata": {},
   "outputs": [
    {
     "data": {
      "text/plain": [
       "dict_keys(['memory', 'steps', 'verbose', 'count-vector', 'tf-idf', 'clf', 'count-vector__analyzer', 'count-vector__binary', 'count-vector__decode_error', 'count-vector__dtype', 'count-vector__encoding', 'count-vector__input', 'count-vector__lowercase', 'count-vector__max_df', 'count-vector__max_features', 'count-vector__min_df', 'count-vector__ngram_range', 'count-vector__preprocessor', 'count-vector__stop_words', 'count-vector__strip_accents', 'count-vector__token_pattern', 'count-vector__tokenizer', 'count-vector__vocabulary', 'tf-idf__norm', 'tf-idf__smooth_idf', 'tf-idf__sublinear_tf', 'tf-idf__use_idf', 'clf__estimator__bootstrap', 'clf__estimator__ccp_alpha', 'clf__estimator__class_weight', 'clf__estimator__criterion', 'clf__estimator__max_depth', 'clf__estimator__max_features', 'clf__estimator__max_leaf_nodes', 'clf__estimator__max_samples', 'clf__estimator__min_impurity_decrease', 'clf__estimator__min_samples_leaf', 'clf__estimator__min_samples_split', 'clf__estimator__min_weight_fraction_leaf', 'clf__estimator__n_estimators', 'clf__estimator__n_jobs', 'clf__estimator__oob_score', 'clf__estimator__random_state', 'clf__estimator__verbose', 'clf__estimator__warm_start', 'clf__estimator', 'clf__n_jobs'])"
      ]
     },
     "execution_count": 7,
     "metadata": {},
     "output_type": "execute_result"
    }
   ],
   "source": [
    "# Checking what hyper parameters can be tuned\n",
    "pipeline.get_params().keys()"
   ]
  },
  {
   "cell_type": "markdown",
   "metadata": {},
   "source": [
    "`TODO`: Consider to remove child_alone since there are none of those and also consider oversampling since some of the disaster categories have a low amount of samples."
   ]
  },
  {
   "cell_type": "code",
   "execution_count": null,
   "metadata": {},
   "outputs": [],
   "source": [
    "# we can consider dropping any columns that have zero rows associated\n",
    "for i in df.columns.unique():\n",
    "    if sum(df[i]) < 200:\n",
    "        df = df.drop(columns=[i])\n",
    "        \n"
   ]
  },
  {
   "cell_type": "markdown",
   "metadata": {},
   "source": [
    "### 6. Improve your model\n",
    "Use grid search to find better parameters. "
   ]
  },
  {
   "cell_type": "code",
   "execution_count": null,
   "metadata": {},
   "outputs": [
    {
     "data": {
      "text/plain": [
       "GridSearchCV(estimator=Pipeline(steps=[('count-vector',\n",
       "                                        CountVectorizer(tokenizer=<function tokenize at 0x7f99541a2710>)),\n",
       "                                       ('tf-idf', TfidfTransformer()),\n",
       "                                       ('clf',\n",
       "                                        MultiOutputClassifier(estimator=RandomForestClassifier(),\n",
       "                                                              n_jobs=-1))]),\n",
       "             param_grid={'clf__estimator__n_jobs': [-1], 'clf__n_jobs': [-1]})"
      ]
     },
     "execution_count": 9,
     "metadata": {},
     "output_type": "execute_result"
    }
   ],
   "source": [
    "parameters = {#'clf__estimator__criterion': (\"squared_error\", 'absolute_error', 'poisson'),\n",
    "              #'clf__estimator__max_features': ('auto', 'sqrt', 'log2'), \n",
    "              'clf__n_jobs': [-1], \n",
    "              'clf__estimator__n_jobs': [-1]}\n",
    "\n",
    "cv = GridSearchCV(pipeline, parameters)\n",
    "cv.fit(X_train, y_train)"
   ]
  },
  {
   "cell_type": "markdown",
   "metadata": {},
   "source": [
    "### 7. Test your model\n",
    "Show the accuracy, precision, and recall of the tuned model.  \n",
    "\n",
    "Since this project focuses on code quality, process, and  pipelines, there is no minimum performance metric needed to pass. However, make sure to fine tune your models for accuracy, precision and recall to make your project stand out - especially for your portfolio!"
   ]
  },
  {
   "cell_type": "code",
   "execution_count": null,
   "metadata": {},
   "outputs": [
    {
     "name": "stdout",
     "output_type": "stream",
     "text": [
      "                        precision    recall  f1-score   support\n",
      "\n",
      "               related       0.77      0.97      0.86      6545\n",
      "               request       0.46      0.05      0.09      1520\n",
      "                 offer       0.00      0.00      0.00        34\n",
      "           aid_related       0.46      0.21      0.29      3582\n",
      "          medical_help       0.08      0.00      0.01       672\n",
      "      medical_products       0.00      0.00      0.00       441\n",
      "     search_and_rescue       0.17      0.00      0.01       230\n",
      "              security       0.00      0.00      0.00       155\n",
      "              military       1.00      0.00      0.01       308\n",
      "                 water       0.04      0.00      0.00       568\n",
      "                  food       0.28      0.01      0.03       973\n",
      "               shelter       0.10      0.00      0.01       775\n",
      "              clothing       0.00      0.00      0.00       134\n",
      "                 money       0.00      0.00      0.00       188\n",
      "        missing_people       0.00      0.00      0.00        85\n",
      "              refugees       0.00      0.00      0.00       295\n",
      "                 death       0.00      0.00      0.00       389\n",
      "             other_aid       0.16      0.01      0.02      1113\n",
      "infrastructure_related       0.10      0.00      0.01       582\n",
      "             transport       0.15      0.01      0.01       398\n",
      "             buildings       0.00      0.00      0.00       425\n",
      "           electricity       0.00      0.00      0.00       173\n",
      "                 tools       0.00      0.00      0.00        51\n",
      "             hospitals       0.00      0.00      0.00        86\n",
      "                 shops       0.00      0.00      0.00        53\n",
      "           aid_centers       0.00      0.00      0.00       111\n",
      "  other_infrastructure       0.12      0.00      0.01       379\n",
      "       weather_related       0.55      0.16      0.25      2398\n",
      "                floods       0.10      0.01      0.02       696\n",
      "                 storm       0.39      0.03      0.05       817\n",
      "                  fire       0.00      0.00      0.00        94\n",
      "            earthquake       0.66      0.16      0.25       785\n",
      "                  cold       0.00      0.00      0.00       174\n",
      "         other_weather       0.08      0.00      0.00       453\n",
      "         direct_report       0.38      0.04      0.07      1670\n",
      "\n",
      "             micro avg       0.67      0.29      0.40     27352\n",
      "             macro avg       0.17      0.05      0.06     27352\n",
      "          weighted avg       0.41      0.29      0.29     27352\n",
      "           samples avg       0.68      0.35      0.40     27352\n",
      "\n"
     ]
    },
    {
     "name": "stderr",
     "output_type": "stream",
     "text": [
      "/home/salman1567/code/Data Science - Machine Learning Projects/Data Science Portfolio/Diasaster Response Classification/env/lib/python3.10/site-packages/sklearn/metrics/_classification.py:1318: UndefinedMetricWarning: Precision and F-score are ill-defined and being set to 0.0 in labels with no predicted samples. Use `zero_division` parameter to control this behavior.\n",
      "  _warn_prf(average, modifier, msg_start, len(result))\n",
      "/home/salman1567/code/Data Science - Machine Learning Projects/Data Science Portfolio/Diasaster Response Classification/env/lib/python3.10/site-packages/sklearn/metrics/_classification.py:1318: UndefinedMetricWarning: Precision and F-score are ill-defined and being set to 0.0 in samples with no predicted labels. Use `zero_division` parameter to control this behavior.\n",
      "  _warn_prf(average, modifier, msg_start, len(result))\n",
      "/home/salman1567/code/Data Science - Machine Learning Projects/Data Science Portfolio/Diasaster Response Classification/env/lib/python3.10/site-packages/sklearn/metrics/_classification.py:1318: UndefinedMetricWarning: Recall and F-score are ill-defined and being set to 0.0 in samples with no true labels. Use `zero_division` parameter to control this behavior.\n",
      "  _warn_prf(average, modifier, msg_start, len(result))\n"
     ]
    }
   ],
   "source": [
    "y_pred = cv.predict(X_test)\n",
    "print(classification_report(y_test, y_pred, target_names=col_names))"
   ]
  },
  {
   "cell_type": "markdown",
   "metadata": {},
   "source": [
    "We notice that a lot of the scores have 0 since we have a imbalanced data set. We can try to fix this by oversampling"
   ]
  },
  {
   "cell_type": "code",
   "execution_count": null,
   "metadata": {},
   "outputs": [],
   "source": []
  },
  {
   "cell_type": "markdown",
   "metadata": {},
   "source": [
    "### 8. Try improving your model further. Here are a few ideas:\n",
    "* try other machine learning algorithms\n",
    "* add other features besides the TF-IDF"
   ]
  },
  {
   "cell_type": "code",
   "execution_count": null,
   "metadata": {},
   "outputs": [
    {
     "data": {
      "text/plain": [
       "{'cv': None,\n",
       " 'error_score': nan,\n",
       " 'estimator__memory': None,\n",
       " 'estimator__steps': [('count-vector',\n",
       "   CountVectorizer(tokenizer=<function tokenize at 0x7f99541a2710>)),\n",
       "  ('tf-idf', TfidfTransformer()),\n",
       "  ('clf',\n",
       "   MultiOutputClassifier(estimator=RandomForestClassifier(), n_jobs=-1))],\n",
       " 'estimator__verbose': False,\n",
       " 'estimator__count-vector': CountVectorizer(tokenizer=<function tokenize at 0x7f99541a2710>),\n",
       " 'estimator__tf-idf': TfidfTransformer(),\n",
       " 'estimator__clf': MultiOutputClassifier(estimator=RandomForestClassifier(), n_jobs=-1),\n",
       " 'estimator__count-vector__analyzer': 'word',\n",
       " 'estimator__count-vector__binary': False,\n",
       " 'estimator__count-vector__decode_error': 'strict',\n",
       " 'estimator__count-vector__dtype': numpy.int64,\n",
       " 'estimator__count-vector__encoding': 'utf-8',\n",
       " 'estimator__count-vector__input': 'content',\n",
       " 'estimator__count-vector__lowercase': True,\n",
       " 'estimator__count-vector__max_df': 1.0,\n",
       " 'estimator__count-vector__max_features': None,\n",
       " 'estimator__count-vector__min_df': 1,\n",
       " 'estimator__count-vector__ngram_range': (1, 1),\n",
       " 'estimator__count-vector__preprocessor': None,\n",
       " 'estimator__count-vector__stop_words': None,\n",
       " 'estimator__count-vector__strip_accents': None,\n",
       " 'estimator__count-vector__token_pattern': '(?u)\\\\b\\\\w\\\\w+\\\\b',\n",
       " 'estimator__count-vector__tokenizer': <function __main__.tokenize(text)>,\n",
       " 'estimator__count-vector__vocabulary': None,\n",
       " 'estimator__tf-idf__norm': 'l2',\n",
       " 'estimator__tf-idf__smooth_idf': True,\n",
       " 'estimator__tf-idf__sublinear_tf': False,\n",
       " 'estimator__tf-idf__use_idf': True,\n",
       " 'estimator__clf__estimator__bootstrap': True,\n",
       " 'estimator__clf__estimator__ccp_alpha': 0.0,\n",
       " 'estimator__clf__estimator__class_weight': None,\n",
       " 'estimator__clf__estimator__criterion': 'gini',\n",
       " 'estimator__clf__estimator__max_depth': None,\n",
       " 'estimator__clf__estimator__max_features': 'auto',\n",
       " 'estimator__clf__estimator__max_leaf_nodes': None,\n",
       " 'estimator__clf__estimator__max_samples': None,\n",
       " 'estimator__clf__estimator__min_impurity_decrease': 0.0,\n",
       " 'estimator__clf__estimator__min_samples_leaf': 1,\n",
       " 'estimator__clf__estimator__min_samples_split': 2,\n",
       " 'estimator__clf__estimator__min_weight_fraction_leaf': 0.0,\n",
       " 'estimator__clf__estimator__n_estimators': 100,\n",
       " 'estimator__clf__estimator__n_jobs': None,\n",
       " 'estimator__clf__estimator__oob_score': False,\n",
       " 'estimator__clf__estimator__random_state': None,\n",
       " 'estimator__clf__estimator__verbose': 0,\n",
       " 'estimator__clf__estimator__warm_start': False,\n",
       " 'estimator__clf__estimator': RandomForestClassifier(),\n",
       " 'estimator__clf__n_jobs': -1,\n",
       " 'estimator': Pipeline(steps=[('count-vector',\n",
       "                  CountVectorizer(tokenizer=<function tokenize at 0x7f99541a2710>)),\n",
       "                 ('tf-idf', TfidfTransformer()),\n",
       "                 ('clf',\n",
       "                  MultiOutputClassifier(estimator=RandomForestClassifier(),\n",
       "                                        n_jobs=-1))]),\n",
       " 'n_jobs': None,\n",
       " 'param_grid': {'clf__n_jobs': [-1], 'clf__estimator__n_jobs': [-1]},\n",
       " 'pre_dispatch': '2*n_jobs',\n",
       " 'refit': True,\n",
       " 'return_train_score': False,\n",
       " 'scoring': None,\n",
       " 'verbose': 0}"
      ]
     },
     "execution_count": 12,
     "metadata": {},
     "output_type": "execute_result"
    }
   ],
   "source": [
    "# Check what params gridsearchcv has selected\n",
    "cv.get_params()"
   ]
  },
  {
   "cell_type": "code",
   "execution_count": null,
   "metadata": {},
   "outputs": [],
   "source": []
  },
  {
   "cell_type": "markdown",
   "metadata": {},
   "source": [
    "### 9. Export your model as a pickle file"
   ]
  },
  {
   "cell_type": "code",
   "execution_count": null,
   "metadata": {},
   "outputs": [
    {
     "data": {
      "text/plain": [
       "['classifier.pkl']"
      ]
     },
     "execution_count": 13,
     "metadata": {},
     "output_type": "execute_result"
    }
   ],
   "source": [
    "# Export the model as a pickle file\n",
    "joblib.dump(cv, 'classifier.pkl')"
   ]
  },
  {
   "cell_type": "markdown",
   "metadata": {},
   "source": [
    "### 10. Use this notebook to complete `train.py`\n",
    "Use the template file attached in the Resources folder to write a script that runs the steps above to create a database and export a model based on a new dataset specified by the user."
   ]
  },
  {
   "cell_type": "code",
   "execution_count": null,
   "metadata": {},
   "outputs": [],
   "source": [
    "model = joblib.load('classifier.pkl')"
   ]
  },
  {
   "cell_type": "code",
   "execution_count": null,
   "metadata": {},
   "outputs": [
    {
     "data": {
      "text/plain": [
       "array([[1, 0, 0, 0, 0, 0, 0, 0, 0, 0, 0, 0, 0, 0, 0, 0, 0, 0, 0, 0, 0, 0,\n",
       "        0, 0, 0, 0, 0, 1, 0, 0, 0, 0, 0, 0, 0]])"
      ]
     },
     "execution_count": 26,
     "metadata": {},
     "output_type": "execute_result"
    }
   ],
   "source": [
    "model.predict([\"Weather update - a cold front from Cuba that could pass over Haiti\"])\n"
   ]
  },
  {
   "cell_type": "code",
   "execution_count": null,
   "metadata": {},
   "outputs": [
    {
     "data": {
      "text/html": [
       "<div>\n",
       "<style scoped>\n",
       "    .dataframe tbody tr th:only-of-type {\n",
       "        vertical-align: middle;\n",
       "    }\n",
       "\n",
       "    .dataframe tbody tr th {\n",
       "        vertical-align: top;\n",
       "    }\n",
       "\n",
       "    .dataframe thead th {\n",
       "        text-align: right;\n",
       "    }\n",
       "</style>\n",
       "<table border=\"1\" class=\"dataframe\">\n",
       "  <thead>\n",
       "    <tr style=\"text-align: right;\">\n",
       "      <th></th>\n",
       "      <th>related</th>\n",
       "      <th>request</th>\n",
       "      <th>offer</th>\n",
       "      <th>aid_related</th>\n",
       "      <th>medical_help</th>\n",
       "      <th>medical_products</th>\n",
       "      <th>search_and_rescue</th>\n",
       "      <th>security</th>\n",
       "      <th>military</th>\n",
       "      <th>water</th>\n",
       "      <th>...</th>\n",
       "      <th>aid_centers</th>\n",
       "      <th>other_infrastructure</th>\n",
       "      <th>weather_related</th>\n",
       "      <th>floods</th>\n",
       "      <th>storm</th>\n",
       "      <th>fire</th>\n",
       "      <th>earthquake</th>\n",
       "      <th>cold</th>\n",
       "      <th>other_weather</th>\n",
       "      <th>direct_report</th>\n",
       "    </tr>\n",
       "  </thead>\n",
       "  <tbody>\n",
       "    <tr>\n",
       "      <th>20397</th>\n",
       "      <td>0</td>\n",
       "      <td>0</td>\n",
       "      <td>0</td>\n",
       "      <td>0</td>\n",
       "      <td>0</td>\n",
       "      <td>0</td>\n",
       "      <td>0</td>\n",
       "      <td>0</td>\n",
       "      <td>0</td>\n",
       "      <td>0</td>\n",
       "      <td>...</td>\n",
       "      <td>0</td>\n",
       "      <td>0</td>\n",
       "      <td>0</td>\n",
       "      <td>0</td>\n",
       "      <td>0</td>\n",
       "      <td>0</td>\n",
       "      <td>0</td>\n",
       "      <td>0</td>\n",
       "      <td>0</td>\n",
       "      <td>0</td>\n",
       "    </tr>\n",
       "    <tr>\n",
       "      <th>16452</th>\n",
       "      <td>1</td>\n",
       "      <td>0</td>\n",
       "      <td>0</td>\n",
       "      <td>0</td>\n",
       "      <td>0</td>\n",
       "      <td>0</td>\n",
       "      <td>0</td>\n",
       "      <td>0</td>\n",
       "      <td>0</td>\n",
       "      <td>0</td>\n",
       "      <td>...</td>\n",
       "      <td>0</td>\n",
       "      <td>0</td>\n",
       "      <td>1</td>\n",
       "      <td>0</td>\n",
       "      <td>0</td>\n",
       "      <td>0</td>\n",
       "      <td>1</td>\n",
       "      <td>0</td>\n",
       "      <td>1</td>\n",
       "      <td>0</td>\n",
       "    </tr>\n",
       "    <tr>\n",
       "      <th>13143</th>\n",
       "      <td>1</td>\n",
       "      <td>0</td>\n",
       "      <td>0</td>\n",
       "      <td>0</td>\n",
       "      <td>0</td>\n",
       "      <td>0</td>\n",
       "      <td>0</td>\n",
       "      <td>0</td>\n",
       "      <td>0</td>\n",
       "      <td>0</td>\n",
       "      <td>...</td>\n",
       "      <td>0</td>\n",
       "      <td>0</td>\n",
       "      <td>0</td>\n",
       "      <td>0</td>\n",
       "      <td>0</td>\n",
       "      <td>0</td>\n",
       "      <td>0</td>\n",
       "      <td>0</td>\n",
       "      <td>0</td>\n",
       "      <td>0</td>\n",
       "    </tr>\n",
       "    <tr>\n",
       "      <th>22201</th>\n",
       "      <td>0</td>\n",
       "      <td>0</td>\n",
       "      <td>0</td>\n",
       "      <td>0</td>\n",
       "      <td>0</td>\n",
       "      <td>0</td>\n",
       "      <td>0</td>\n",
       "      <td>0</td>\n",
       "      <td>0</td>\n",
       "      <td>0</td>\n",
       "      <td>...</td>\n",
       "      <td>0</td>\n",
       "      <td>0</td>\n",
       "      <td>0</td>\n",
       "      <td>0</td>\n",
       "      <td>0</td>\n",
       "      <td>0</td>\n",
       "      <td>0</td>\n",
       "      <td>0</td>\n",
       "      <td>0</td>\n",
       "      <td>0</td>\n",
       "    </tr>\n",
       "    <tr>\n",
       "      <th>25308</th>\n",
       "      <td>1</td>\n",
       "      <td>0</td>\n",
       "      <td>0</td>\n",
       "      <td>1</td>\n",
       "      <td>0</td>\n",
       "      <td>0</td>\n",
       "      <td>0</td>\n",
       "      <td>0</td>\n",
       "      <td>0</td>\n",
       "      <td>0</td>\n",
       "      <td>...</td>\n",
       "      <td>0</td>\n",
       "      <td>1</td>\n",
       "      <td>1</td>\n",
       "      <td>0</td>\n",
       "      <td>0</td>\n",
       "      <td>0</td>\n",
       "      <td>1</td>\n",
       "      <td>0</td>\n",
       "      <td>0</td>\n",
       "      <td>0</td>\n",
       "    </tr>\n",
       "    <tr>\n",
       "      <th>...</th>\n",
       "      <td>...</td>\n",
       "      <td>...</td>\n",
       "      <td>...</td>\n",
       "      <td>...</td>\n",
       "      <td>...</td>\n",
       "      <td>...</td>\n",
       "      <td>...</td>\n",
       "      <td>...</td>\n",
       "      <td>...</td>\n",
       "      <td>...</td>\n",
       "      <td>...</td>\n",
       "      <td>...</td>\n",
       "      <td>...</td>\n",
       "      <td>...</td>\n",
       "      <td>...</td>\n",
       "      <td>...</td>\n",
       "      <td>...</td>\n",
       "      <td>...</td>\n",
       "      <td>...</td>\n",
       "      <td>...</td>\n",
       "      <td>...</td>\n",
       "    </tr>\n",
       "    <tr>\n",
       "      <th>6910</th>\n",
       "      <td>1</td>\n",
       "      <td>0</td>\n",
       "      <td>0</td>\n",
       "      <td>0</td>\n",
       "      <td>0</td>\n",
       "      <td>0</td>\n",
       "      <td>0</td>\n",
       "      <td>0</td>\n",
       "      <td>0</td>\n",
       "      <td>0</td>\n",
       "      <td>...</td>\n",
       "      <td>0</td>\n",
       "      <td>0</td>\n",
       "      <td>0</td>\n",
       "      <td>0</td>\n",
       "      <td>0</td>\n",
       "      <td>0</td>\n",
       "      <td>0</td>\n",
       "      <td>0</td>\n",
       "      <td>0</td>\n",
       "      <td>0</td>\n",
       "    </tr>\n",
       "    <tr>\n",
       "      <th>21432</th>\n",
       "      <td>1</td>\n",
       "      <td>0</td>\n",
       "      <td>0</td>\n",
       "      <td>1</td>\n",
       "      <td>0</td>\n",
       "      <td>0</td>\n",
       "      <td>0</td>\n",
       "      <td>0</td>\n",
       "      <td>0</td>\n",
       "      <td>1</td>\n",
       "      <td>...</td>\n",
       "      <td>0</td>\n",
       "      <td>0</td>\n",
       "      <td>1</td>\n",
       "      <td>1</td>\n",
       "      <td>0</td>\n",
       "      <td>0</td>\n",
       "      <td>0</td>\n",
       "      <td>1</td>\n",
       "      <td>0</td>\n",
       "      <td>0</td>\n",
       "    </tr>\n",
       "    <tr>\n",
       "      <th>17497</th>\n",
       "      <td>1</td>\n",
       "      <td>0</td>\n",
       "      <td>0</td>\n",
       "      <td>1</td>\n",
       "      <td>0</td>\n",
       "      <td>0</td>\n",
       "      <td>0</td>\n",
       "      <td>0</td>\n",
       "      <td>0</td>\n",
       "      <td>0</td>\n",
       "      <td>...</td>\n",
       "      <td>0</td>\n",
       "      <td>0</td>\n",
       "      <td>1</td>\n",
       "      <td>0</td>\n",
       "      <td>0</td>\n",
       "      <td>0</td>\n",
       "      <td>1</td>\n",
       "      <td>0</td>\n",
       "      <td>0</td>\n",
       "      <td>0</td>\n",
       "    </tr>\n",
       "    <tr>\n",
       "      <th>22275</th>\n",
       "      <td>1</td>\n",
       "      <td>0</td>\n",
       "      <td>0</td>\n",
       "      <td>0</td>\n",
       "      <td>0</td>\n",
       "      <td>0</td>\n",
       "      <td>0</td>\n",
       "      <td>0</td>\n",
       "      <td>0</td>\n",
       "      <td>0</td>\n",
       "      <td>...</td>\n",
       "      <td>0</td>\n",
       "      <td>0</td>\n",
       "      <td>0</td>\n",
       "      <td>0</td>\n",
       "      <td>0</td>\n",
       "      <td>0</td>\n",
       "      <td>0</td>\n",
       "      <td>0</td>\n",
       "      <td>0</td>\n",
       "      <td>0</td>\n",
       "    </tr>\n",
       "    <tr>\n",
       "      <th>25169</th>\n",
       "      <td>1</td>\n",
       "      <td>0</td>\n",
       "      <td>0</td>\n",
       "      <td>0</td>\n",
       "      <td>0</td>\n",
       "      <td>0</td>\n",
       "      <td>0</td>\n",
       "      <td>0</td>\n",
       "      <td>0</td>\n",
       "      <td>0</td>\n",
       "      <td>...</td>\n",
       "      <td>0</td>\n",
       "      <td>0</td>\n",
       "      <td>0</td>\n",
       "      <td>0</td>\n",
       "      <td>0</td>\n",
       "      <td>0</td>\n",
       "      <td>0</td>\n",
       "      <td>0</td>\n",
       "      <td>0</td>\n",
       "      <td>0</td>\n",
       "    </tr>\n",
       "  </tbody>\n",
       "</table>\n",
       "<p>8585 rows × 35 columns</p>\n",
       "</div>"
      ],
      "text/plain": [
       "       related  request  offer  aid_related  medical_help  medical_products  \\\n",
       "20397        0        0      0            0             0                 0   \n",
       "16452        1        0      0            0             0                 0   \n",
       "13143        1        0      0            0             0                 0   \n",
       "22201        0        0      0            0             0                 0   \n",
       "25308        1        0      0            1             0                 0   \n",
       "...        ...      ...    ...          ...           ...               ...   \n",
       "6910         1        0      0            0             0                 0   \n",
       "21432        1        0      0            1             0                 0   \n",
       "17497        1        0      0            1             0                 0   \n",
       "22275        1        0      0            0             0                 0   \n",
       "25169        1        0      0            0             0                 0   \n",
       "\n",
       "       search_and_rescue  security  military  water  ...  aid_centers  \\\n",
       "20397                  0         0         0      0  ...            0   \n",
       "16452                  0         0         0      0  ...            0   \n",
       "13143                  0         0         0      0  ...            0   \n",
       "22201                  0         0         0      0  ...            0   \n",
       "25308                  0         0         0      0  ...            0   \n",
       "...                  ...       ...       ...    ...  ...          ...   \n",
       "6910                   0         0         0      0  ...            0   \n",
       "21432                  0         0         0      1  ...            0   \n",
       "17497                  0         0         0      0  ...            0   \n",
       "22275                  0         0         0      0  ...            0   \n",
       "25169                  0         0         0      0  ...            0   \n",
       "\n",
       "       other_infrastructure  weather_related  floods  storm  fire  earthquake  \\\n",
       "20397                     0                0       0      0     0           0   \n",
       "16452                     0                1       0      0     0           1   \n",
       "13143                     0                0       0      0     0           0   \n",
       "22201                     0                0       0      0     0           0   \n",
       "25308                     1                1       0      0     0           1   \n",
       "...                     ...              ...     ...    ...   ...         ...   \n",
       "6910                      0                0       0      0     0           0   \n",
       "21432                     0                1       1      0     0           0   \n",
       "17497                     0                1       0      0     0           1   \n",
       "22275                     0                0       0      0     0           0   \n",
       "25169                     0                0       0      0     0           0   \n",
       "\n",
       "       cold  other_weather  direct_report  \n",
       "20397     0              0              0  \n",
       "16452     0              1              0  \n",
       "13143     0              0              0  \n",
       "22201     0              0              0  \n",
       "25308     0              0              0  \n",
       "...     ...            ...            ...  \n",
       "6910      0              0              0  \n",
       "21432     1              0              0  \n",
       "17497     0              0              0  \n",
       "22275     0              0              0  \n",
       "25169     0              0              0  \n",
       "\n",
       "[8585 rows x 35 columns]"
      ]
     },
     "execution_count": 22,
     "metadata": {},
     "output_type": "execute_result"
    }
   ],
   "source": [
    "y_test"
   ]
  },
  {
   "cell_type": "code",
   "execution_count": null,
   "metadata": {},
   "outputs": [
    {
     "data": {
      "text/plain": [
       "'Weather update - a cold front from Cuba that could pass over Haiti'"
      ]
     },
     "execution_count": 25,
     "metadata": {},
     "output_type": "execute_result"
    }
   ],
   "source": [
    "X_test[0]"
   ]
  }
 ],
 "metadata": {
  "kernelspec": {
   "display_name": "Python 3",
   "language": "python",
   "name": "python3"
  },
  "language_info": {
   "codemirror_mode": {
    "name": "ipython",
    "version": 3
   },
   "file_extension": ".py",
   "mimetype": "text/x-python",
   "name": "python",
   "nbconvert_exporter": "python",
   "pygments_lexer": "ipython3",
   "version": "3.10.4"
  }
 },
 "nbformat": 4,
 "nbformat_minor": 2
}
